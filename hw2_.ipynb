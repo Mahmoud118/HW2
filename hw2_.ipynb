{
 "cells": [
  {
   "cell_type": "code",
   "execution_count": 1,
   "id": "61717e95-abed-41ad-9391-0828cdaa2569",
   "metadata": {
    "scrolled": true
   },
   "outputs": [
    {
     "name": "stdout",
     "output_type": "stream",
     "text": [
      "Vocabulary size: 2982\n",
      "Feature size: 4096\n"
     ]
    },
    {
     "name": "stderr",
     "output_type": "stream",
     "text": [
      "  2%|██                                                                                 | 1/41 [00:01<00:47,  1.19s/it]"
     ]
    },
    {
     "name": "stdout",
     "output_type": "stream",
     "text": [
      "Epoch [1/200], Step [0/41], Loss: 7.9997, BLEU@1: 0.0000\n",
      "Sample prediction:\n",
      "Pred: 2662 1130 1130 1130 1130 1130 1130 1130 1130 1130 1130 1130 1130 1130 1130 1130 1130 1130 1130 1130 1130 1130 1130 1130 1130 1130 1130 1130 1130\n",
      "Target: 4 185 3 8 57 153 8 1261 2 0 0 0 0 0 0 0 0 0 0 0 0 0 0 0 0 0 0 0 0\n",
      "\n"
     ]
    },
    {
     "name": "stderr",
     "output_type": "stream",
     "text": [
      "100%|██████████████████████████████████████████████████████████████████████████████████| 41/41 [00:35<00:00,  1.14it/s]\n"
     ]
    },
    {
     "name": "stdout",
     "output_type": "stream",
     "text": [
      "Epoch [1/200], Average Loss: 5.9048, Average BLEU@1: 0.0681\n",
      "Epoch [1/200], Average Loss: 5.9048, Average BLEU@1: 0.0681, Teacher Forcing Ratio: 0.7000\n"
     ]
    },
    {
     "name": "stderr",
     "output_type": "stream",
     "text": [
      "  2%|██                                                                                 | 1/41 [00:00<00:34,  1.15it/s]"
     ]
    },
    {
     "name": "stdout",
     "output_type": "stream",
     "text": [
      "Epoch [2/200], Step [0/41], Loss: 4.6456, BLEU@1: 0.0690\n",
      "Sample prediction:\n",
      "Pred: 4 57 15 15 8 2 2 2 2 2 2 2 2 2 2 2 2 2 2 2 2 2 2 2 2 2 2 2 2\n",
      "Target: 1497 157 929 8 3 2 0 0 0 0 0 0 0 0 0 0 0 0 0 0 0 0 0 0 0 0 0 0 0\n",
      "\n"
     ]
    },
    {
     "name": "stderr",
     "output_type": "stream",
     "text": [
      "100%|██████████████████████████████████████████████████████████████████████████████████| 41/41 [00:36<00:00,  1.14it/s]\n"
     ]
    },
    {
     "name": "stdout",
     "output_type": "stream",
     "text": [
      "Epoch [2/200], Average Loss: 4.6179, Average BLEU@1: 0.1043\n",
      "Epoch [2/200], Average Loss: 4.6179, Average BLEU@1: 0.1043, Teacher Forcing Ratio: 0.6975\n"
     ]
    },
    {
     "name": "stderr",
     "output_type": "stream",
     "text": [
      "  2%|██                                                                                 | 1/41 [00:00<00:39,  1.02it/s]"
     ]
    },
    {
     "name": "stdout",
     "output_type": "stream",
     "text": [
      "Epoch [3/200], Step [0/41], Loss: 4.3974, BLEU@1: 0.1379\n",
      "Sample prediction:\n",
      "Pred: 4 57 15 8 8 2 2 2 2 2 2 2 2 2 2 2 2 2 2 2 2 2 2 2 2 2 2 2 2\n",
      "Target: 4 57 15 312 21 3 225 24 75 1519 2 0 0 0 0 0 0 0 0 0 0 0 0 0 0 0 0 0 0\n",
      "\n"
     ]
    },
    {
     "name": "stderr",
     "output_type": "stream",
     "text": [
      "100%|██████████████████████████████████████████████████████████████████████████████████| 41/41 [00:36<00:00,  1.13it/s]\n"
     ]
    },
    {
     "name": "stdout",
     "output_type": "stream",
     "text": [
      "Epoch [3/200], Average Loss: 4.5298, Average BLEU@1: 0.1051\n",
      "Epoch [3/200], Average Loss: 4.5298, Average BLEU@1: 0.1051, Teacher Forcing Ratio: 0.6950\n"
     ]
    },
    {
     "name": "stderr",
     "output_type": "stream",
     "text": [
      "  2%|██                                                                                 | 1/41 [00:00<00:39,  1.01it/s]"
     ]
    },
    {
     "name": "stdout",
     "output_type": "stream",
     "text": [
      "Epoch [4/200], Step [0/41], Loss: 4.4702, BLEU@1: 0.1034\n",
      "Sample prediction:\n",
      "Pred: 4 57 15 8 8 2 2 2 2 2 2 2 2 2 2 2 2 2 2 2 2 2 2 2 2 2 2 2 2\n",
      "Target: 4 2922 2923 15 3 383 203 3 2 0 0 0 0 0 0 0 0 0 0 0 0 0 0 0 0 0 0 0 0\n",
      "\n"
     ]
    },
    {
     "name": "stderr",
     "output_type": "stream",
     "text": [
      "100%|██████████████████████████████████████████████████████████████████████████████████| 41/41 [00:36<00:00,  1.12it/s]\n"
     ]
    },
    {
     "name": "stdout",
     "output_type": "stream",
     "text": [
      "Epoch [4/200], Average Loss: 4.4603, Average BLEU@1: 0.1135\n",
      "Epoch [4/200], Average Loss: 4.4603, Average BLEU@1: 0.1135, Teacher Forcing Ratio: 0.6925\n"
     ]
    },
    {
     "name": "stderr",
     "output_type": "stream",
     "text": [
      "  2%|██                                                                                 | 1/41 [00:00<00:36,  1.09it/s]"
     ]
    },
    {
     "name": "stdout",
     "output_type": "stream",
     "text": [
      "Epoch [5/200], Step [0/41], Loss: 4.5951, BLEU@1: 0.1379\n",
      "Sample prediction:\n",
      "Pred: 4 57 15 8 8 2 2 2 2 2 2 2 2 2 2 2 2 2 2 2 2 2 2 2 2 2 2 2 2\n",
      "Target: 4 57 1318 8 2244 2 0 0 0 0 0 0 0 0 0 0 0 0 0 0 0 0 0 0 0 0 0 0 0\n",
      "\n"
     ]
    },
    {
     "name": "stderr",
     "output_type": "stream",
     "text": [
      "100%|██████████████████████████████████████████████████████████████████████████████████| 41/41 [00:36<00:00,  1.13it/s]\n"
     ]
    },
    {
     "name": "stdout",
     "output_type": "stream",
     "text": [
      "Epoch [5/200], Average Loss: 4.3870, Average BLEU@1: 0.1051\n",
      "Epoch [5/200], Average Loss: 4.3870, Average BLEU@1: 0.1051, Teacher Forcing Ratio: 0.6900\n"
     ]
    },
    {
     "name": "stderr",
     "output_type": "stream",
     "text": [
      "  2%|██                                                                                 | 1/41 [00:01<00:40,  1.02s/it]"
     ]
    },
    {
     "name": "stdout",
     "output_type": "stream",
     "text": [
      "Epoch [6/200], Step [0/41], Loss: 4.3651, BLEU@1: 0.0690\n",
      "Sample prediction:\n",
      "Pred: 4 57 15 8 8 8 2 2 2 2 2 2 2 2 2 2 2 2 2 2 2 2 2 2 2 2 2 2 2\n",
      "Target: 156 543 157 234 8 816 2358 2 0 0 0 0 0 0 0 0 0 0 0 0 0 0 0 0 0 0 0 0 0\n",
      "\n"
     ]
    },
    {
     "name": "stderr",
     "output_type": "stream",
     "text": [
      "100%|██████████████████████████████████████████████████████████████████████████████████| 41/41 [00:36<00:00,  1.13it/s]\n"
     ]
    },
    {
     "name": "stdout",
     "output_type": "stream",
     "text": [
      "Epoch [6/200], Average Loss: 4.3740, Average BLEU@1: 0.1018\n",
      "Epoch [6/200], Average Loss: 4.3740, Average BLEU@1: 0.1018, Teacher Forcing Ratio: 0.6875\n"
     ]
    },
    {
     "name": "stderr",
     "output_type": "stream",
     "text": [
      "  2%|██                                                                                 | 1/41 [00:00<00:34,  1.15it/s]"
     ]
    },
    {
     "name": "stdout",
     "output_type": "stream",
     "text": [
      "Epoch [7/200], Step [0/41], Loss: 4.4433, BLEU@1: 0.1379\n",
      "Sample prediction:\n",
      "Pred: 4 57 15 8 8 2 2 2 2 2 2 2 2 2 2 2 2 2 2 2 2 2 2 2 2 2 2 2 2\n",
      "Target: 4 14 15 76 8 661 26 21 1579 2 0 0 0 0 0 0 0 0 0 0 0 0 0 0 0 0 0 0 0\n",
      "\n"
     ]
    },
    {
     "name": "stderr",
     "output_type": "stream",
     "text": [
      "100%|██████████████████████████████████████████████████████████████████████████████████| 41/41 [00:35<00:00,  1.14it/s]\n"
     ]
    },
    {
     "name": "stdout",
     "output_type": "stream",
     "text": [
      "Epoch [7/200], Average Loss: 4.3318, Average BLEU@1: 0.1093\n",
      "Epoch [7/200], Average Loss: 4.3318, Average BLEU@1: 0.1093, Teacher Forcing Ratio: 0.6850\n"
     ]
    },
    {
     "name": "stderr",
     "output_type": "stream",
     "text": [
      "  2%|██                                                                                 | 1/41 [00:01<00:40,  1.01s/it]"
     ]
    },
    {
     "name": "stdout",
     "output_type": "stream",
     "text": [
      "Epoch [8/200], Step [0/41], Loss: 4.1981, BLEU@1: 0.1724\n",
      "Sample prediction:\n",
      "Pred: 4 57 15 8 8 2 2 2 2 2 2 2 2 2 2 2 2 2 2 2 2 2 2 2 2 2 2 2 2\n",
      "Target: 4 57 15 1828 72 1227 50 8 1284 2 0 0 0 0 0 0 0 0 0 0 0 0 0 0 0 0 0 0 0\n",
      "\n"
     ]
    },
    {
     "name": "stderr",
     "output_type": "stream",
     "text": [
      "100%|██████████████████████████████████████████████████████████████████████████████████| 41/41 [00:35<00:00,  1.15it/s]\n"
     ]
    },
    {
     "name": "stdout",
     "output_type": "stream",
     "text": [
      "Epoch [8/200], Average Loss: 4.2976, Average BLEU@1: 0.1135\n",
      "Epoch [8/200], Average Loss: 4.2976, Average BLEU@1: 0.1135, Teacher Forcing Ratio: 0.6825\n"
     ]
    },
    {
     "name": "stderr",
     "output_type": "stream",
     "text": [
      "  2%|██                                                                                 | 1/41 [00:00<00:38,  1.05it/s]"
     ]
    },
    {
     "name": "stdout",
     "output_type": "stream",
     "text": [
      "Epoch [9/200], Step [0/41], Loss: 4.2664, BLEU@1: 0.0345\n",
      "Sample prediction:\n",
      "Pred: 4 57 15 8 8 2 2 2 2 2 2 2 2 2 2 2 2 2 2 2 2 2 2 2 2 2 2 2 2\n",
      "Target: 736 1326 62 140 89 31 21 725 2 0 0 0 0 0 0 0 0 0 0 0 0 0 0 0 0 0 0 0 0\n",
      "\n"
     ]
    },
    {
     "name": "stderr",
     "output_type": "stream",
     "text": [
      "100%|██████████████████████████████████████████████████████████████████████████████████| 41/41 [00:36<00:00,  1.14it/s]\n"
     ]
    },
    {
     "name": "stdout",
     "output_type": "stream",
     "text": [
      "Epoch [9/200], Average Loss: 4.3471, Average BLEU@1: 0.1102\n",
      "Epoch [9/200], Average Loss: 4.3471, Average BLEU@1: 0.1102, Teacher Forcing Ratio: 0.6800\n"
     ]
    },
    {
     "name": "stderr",
     "output_type": "stream",
     "text": [
      "  2%|██                                                                                 | 1/41 [00:00<00:37,  1.06it/s]"
     ]
    },
    {
     "name": "stdout",
     "output_type": "stream",
     "text": [
      "Epoch [10/200], Step [0/41], Loss: 4.2281, BLEU@1: 0.1034\n",
      "Sample prediction:\n",
      "Pred: 4 57 15 8 8 2 2 2 2 2 2 2 2 2 2 2 2 2 2 2 2 2 2 2 2 2 2 2 2\n",
      "Target: 4 580 15 583 21 162 331 2 0 0 0 0 0 0 0 0 0 0 0 0 0 0 0 0 0 0 0 0 0\n",
      "\n"
     ]
    },
    {
     "name": "stderr",
     "output_type": "stream",
     "text": [
      "100%|██████████████████████████████████████████████████████████████████████████████████| 41/41 [00:36<00:00,  1.13it/s]\n"
     ]
    },
    {
     "name": "stdout",
     "output_type": "stream",
     "text": [
      "Epoch [10/200], Average Loss: 4.3254, Average BLEU@1: 0.1085\n",
      "Epoch [10/200], Average Loss: 4.3254, Average BLEU@1: 0.1085, Teacher Forcing Ratio: 0.6775\n"
     ]
    },
    {
     "name": "stderr",
     "output_type": "stream",
     "text": [
      "  2%|██                                                                                 | 1/41 [00:00<00:34,  1.15it/s]"
     ]
    },
    {
     "name": "stdout",
     "output_type": "stream",
     "text": [
      "Epoch [11/200], Step [0/41], Loss: 4.5862, BLEU@1: 0.0345\n",
      "Sample prediction:\n",
      "Pred: 4 57 15 8 8 2 2 2 2 2 2 2 2 2 2 2 2 2 2 2 2 2 2 2 2 2 2 2 2\n",
      "Target: 55 600 814 291 317 31 21 371 2 0 0 0 0 0 0 0 0 0 0 0 0 0 0 0 0 0 0 0 0\n",
      "\n"
     ]
    },
    {
     "name": "stderr",
     "output_type": "stream",
     "text": [
      "100%|██████████████████████████████████████████████████████████████████████████████████| 41/41 [00:36<00:00,  1.13it/s]\n"
     ]
    },
    {
     "name": "stdout",
     "output_type": "stream",
     "text": [
      "Epoch [11/200], Average Loss: 4.2871, Average BLEU@1: 0.1026\n",
      "Epoch [11/200], Average Loss: 4.2871, Average BLEU@1: 0.1026, Teacher Forcing Ratio: 0.6750\n"
     ]
    },
    {
     "name": "stderr",
     "output_type": "stream",
     "text": [
      "  2%|██                                                                                 | 1/41 [00:00<00:37,  1.08it/s]"
     ]
    },
    {
     "name": "stdout",
     "output_type": "stream",
     "text": [
      "Epoch [12/200], Step [0/41], Loss: 4.2286, BLEU@1: 0.1034\n",
      "Sample prediction:\n",
      "Pred: 4 57 15 8 8 2 2 2 2 2 2 2 2 2 2 2 2 2 2 2 2 2 2 2 2 2 2 2 2\n",
      "Target: 4 5 522 132 134 60 8 61 2 0 0 0 0 0 0 0 0 0 0 0 0 0 0 0 0 0 0 0 0\n",
      "\n"
     ]
    },
    {
     "name": "stderr",
     "output_type": "stream",
     "text": [
      "100%|██████████████████████████████████████████████████████████████████████████████████| 41/41 [00:37<00:00,  1.10it/s]\n"
     ]
    },
    {
     "name": "stdout",
     "output_type": "stream",
     "text": [
      "Epoch [12/200], Average Loss: 4.2311, Average BLEU@1: 0.1001\n",
      "Epoch [12/200], Average Loss: 4.2311, Average BLEU@1: 0.1001, Teacher Forcing Ratio: 0.6725\n"
     ]
    },
    {
     "name": "stderr",
     "output_type": "stream",
     "text": [
      "  2%|██                                                                                 | 1/41 [00:00<00:34,  1.15it/s]"
     ]
    },
    {
     "name": "stdout",
     "output_type": "stream",
     "text": [
      "Epoch [13/200], Step [0/41], Loss: 3.9721, BLEU@1: 0.0345\n",
      "Sample prediction:\n",
      "Pred: 4 15 15 8 8 2 2 2 2 2 2 2 2 2 2 2 2 2 2 2 2 2 2 2 2 2 2 2 2\n",
      "Target: 1111 348 1330 26 21 1216 2 0 0 0 0 0 0 0 0 0 0 0 0 0 0 0 0 0 0 0 0 0 0\n",
      "\n"
     ]
    },
    {
     "name": "stderr",
     "output_type": "stream",
     "text": [
      "100%|██████████████████████████████████████████████████████████████████████████████████| 41/41 [00:36<00:00,  1.12it/s]\n"
     ]
    },
    {
     "name": "stdout",
     "output_type": "stream",
     "text": [
      "Epoch [13/200], Average Loss: 4.2353, Average BLEU@1: 0.1093\n",
      "Epoch [13/200], Average Loss: 4.2353, Average BLEU@1: 0.1093, Teacher Forcing Ratio: 0.6700\n"
     ]
    },
    {
     "name": "stderr",
     "output_type": "stream",
     "text": [
      "  2%|██                                                                                 | 1/41 [00:00<00:35,  1.12it/s]"
     ]
    },
    {
     "name": "stdout",
     "output_type": "stream",
     "text": [
      "Epoch [14/200], Step [0/41], Loss: 4.1750, BLEU@1: 0.1034\n",
      "Sample prediction:\n",
      "Pred: 4 57 15 15 8 8 2 2 2 2 2 2 2 2 2 2 2 2 2 2 2 2 2 2 2 2 2 2 2\n",
      "Target: 4 335 14 15 711 715 2 0 0 0 0 0 0 0 0 0 0 0 0 0 0 0 0 0 0 0 0 0 0\n",
      "\n"
     ]
    },
    {
     "name": "stderr",
     "output_type": "stream",
     "text": [
      "100%|██████████████████████████████████████████████████████████████████████████████████| 41/41 [00:36<00:00,  1.12it/s]\n"
     ]
    },
    {
     "name": "stdout",
     "output_type": "stream",
     "text": [
      "Epoch [14/200], Average Loss: 4.2429, Average BLEU@1: 0.1177\n",
      "Epoch [14/200], Average Loss: 4.2429, Average BLEU@1: 0.1177, Teacher Forcing Ratio: 0.6675\n"
     ]
    },
    {
     "name": "stderr",
     "output_type": "stream",
     "text": [
      "  2%|██                                                                                 | 1/41 [00:00<00:35,  1.14it/s]"
     ]
    },
    {
     "name": "stdout",
     "output_type": "stream",
     "text": [
      "Epoch [15/200], Step [0/41], Loss: 4.1989, BLEU@1: 0.1034\n",
      "Sample prediction:\n",
      "Pred: 4 57 15 8 8 2 2 2 2 2 2 2 2 2 2 2 2 2 2 2 2 2 2 2 2 2 2 2 2\n",
      "Target: 4 537 15 51 194 21 964 2 0 0 0 0 0 0 0 0 0 0 0 0 0 0 0 0 0 0 0 0 0\n",
      "\n"
     ]
    },
    {
     "name": "stderr",
     "output_type": "stream",
     "text": [
      "100%|██████████████████████████████████████████████████████████████████████████████████| 41/41 [00:36<00:00,  1.11it/s]\n"
     ]
    },
    {
     "name": "stdout",
     "output_type": "stream",
     "text": [
      "Epoch [15/200], Average Loss: 4.2030, Average BLEU@1: 0.1077\n",
      "Epoch [15/200], Average Loss: 4.2030, Average BLEU@1: 0.1077, Teacher Forcing Ratio: 0.6650\n"
     ]
    },
    {
     "name": "stderr",
     "output_type": "stream",
     "text": [
      "  2%|██                                                                                 | 1/41 [00:00<00:39,  1.02it/s]"
     ]
    },
    {
     "name": "stdout",
     "output_type": "stream",
     "text": [
      "Epoch [16/200], Step [0/41], Loss: 4.2556, BLEU@1: 0.1379\n",
      "Sample prediction:\n",
      "Pred: 4 57 15 8 8 2 2 2 2 2 2 2 2 2 2 2 2 2 2 2 2 2 2 2 2 2 2 2 2\n",
      "Target: 4 57 15 58 1194 2 0 0 0 0 0 0 0 0 0 0 0 0 0 0 0 0 0 0 0 0 0 0 0\n",
      "\n"
     ]
    },
    {
     "name": "stderr",
     "output_type": "stream",
     "text": [
      "100%|██████████████████████████████████████████████████████████████████████████████████| 41/41 [00:37<00:00,  1.09it/s]\n"
     ]
    },
    {
     "name": "stdout",
     "output_type": "stream",
     "text": [
      "Epoch [16/200], Average Loss: 4.2448, Average BLEU@1: 0.1119\n",
      "Epoch [16/200], Average Loss: 4.2448, Average BLEU@1: 0.1119, Teacher Forcing Ratio: 0.6625\n"
     ]
    },
    {
     "name": "stderr",
     "output_type": "stream",
     "text": [
      "  2%|██                                                                                 | 1/41 [00:00<00:35,  1.12it/s]"
     ]
    },
    {
     "name": "stdout",
     "output_type": "stream",
     "text": [
      "Epoch [17/200], Step [0/41], Loss: 4.2755, BLEU@1: 0.1379\n",
      "Sample prediction:\n",
      "Pred: 4 57 15 8 8 2 2 2 2 2 2 2 2 2 2 2 2 2 2 2 2 2 2 2 2 2 2 2 2\n",
      "Target: 4 304 15 105 8 3 2 0 0 0 0 0 0 0 0 0 0 0 0 0 0 0 0 0 0 0 0 0 0\n",
      "\n"
     ]
    },
    {
     "name": "stderr",
     "output_type": "stream",
     "text": [
      "100%|██████████████████████████████████████████████████████████████████████████████████| 41/41 [00:36<00:00,  1.12it/s]\n"
     ]
    },
    {
     "name": "stdout",
     "output_type": "stream",
     "text": [
      "Epoch [17/200], Average Loss: 4.2234, Average BLEU@1: 0.1186\n",
      "Epoch [17/200], Average Loss: 4.2234, Average BLEU@1: 0.1186, Teacher Forcing Ratio: 0.6600\n"
     ]
    },
    {
     "name": "stderr",
     "output_type": "stream",
     "text": [
      "  2%|██                                                                                 | 1/41 [00:00<00:38,  1.05it/s]"
     ]
    },
    {
     "name": "stdout",
     "output_type": "stream",
     "text": [
      "Epoch [18/200], Step [0/41], Loss: 4.7483, BLEU@1: 0.0690\n",
      "Sample prediction:\n",
      "Pred: 4 57 15 8 8 2 2 2 2 2 2 2 2 2 2 2 2 2 2 2 2 2 2 2 2 2 2 2 2\n",
      "Target: 4 122 3 2 0 0 0 0 0 0 0 0 0 0 0 0 0 0 0 0 0 0 0 0 0 0 0 0 0\n",
      "\n"
     ]
    },
    {
     "name": "stderr",
     "output_type": "stream",
     "text": [
      "100%|██████████████████████████████████████████████████████████████████████████████████| 41/41 [00:37<00:00,  1.10it/s]\n"
     ]
    },
    {
     "name": "stdout",
     "output_type": "stream",
     "text": [
      "Epoch [18/200], Average Loss: 4.1663, Average BLEU@1: 0.1186\n",
      "Epoch [18/200], Average Loss: 4.1663, Average BLEU@1: 0.1186, Teacher Forcing Ratio: 0.6575\n"
     ]
    },
    {
     "name": "stderr",
     "output_type": "stream",
     "text": [
      "  2%|██                                                                                 | 1/41 [00:01<00:40,  1.00s/it]"
     ]
    },
    {
     "name": "stdout",
     "output_type": "stream",
     "text": [
      "Epoch [19/200], Step [0/41], Loss: 3.8276, BLEU@1: 0.1379\n",
      "Sample prediction:\n",
      "Pred: 4 57 15 8 8 2 2 2 2 2 2 2 2 2 2 2 2 2 2 2 2 2 2 2 2 2 2 2 2\n",
      "Target: 4 2435 2432 15 2434 8 3 2 0 0 0 0 0 0 0 0 0 0 0 0 0 0 0 0 0 0 0 0 0\n",
      "\n"
     ]
    },
    {
     "name": "stderr",
     "output_type": "stream",
     "text": [
      "100%|██████████████████████████████████████████████████████████████████████████████████| 41/41 [00:37<00:00,  1.10it/s]\n"
     ]
    },
    {
     "name": "stdout",
     "output_type": "stream",
     "text": [
      "Epoch [19/200], Average Loss: 4.1610, Average BLEU@1: 0.0992\n",
      "Epoch [19/200], Average Loss: 4.1610, Average BLEU@1: 0.0992, Teacher Forcing Ratio: 0.6550\n"
     ]
    },
    {
     "name": "stderr",
     "output_type": "stream",
     "text": [
      "  2%|██                                                                                 | 1/41 [00:00<00:39,  1.01it/s]"
     ]
    },
    {
     "name": "stdout",
     "output_type": "stream",
     "text": [
      "Epoch [20/200], Step [0/41], Loss: 4.1251, BLEU@1: 0.1379\n",
      "Sample prediction:\n",
      "Pred: 4 57 15 8 8 2 2 2 2 2 2 2 2 2 2 2 2 2 2 2 2 2 2 2 2 2 2 2 2\n",
      "Target: 4 57 15 234 2337 249 2 0 0 0 0 0 0 0 0 0 0 0 0 0 0 0 0 0 0 0 0 0 0\n",
      "\n"
     ]
    },
    {
     "name": "stderr",
     "output_type": "stream",
     "text": [
      "100%|██████████████████████████████████████████████████████████████████████████████████| 41/41 [00:36<00:00,  1.12it/s]\n"
     ]
    },
    {
     "name": "stdout",
     "output_type": "stream",
     "text": [
      "Epoch [20/200], Average Loss: 4.1267, Average BLEU@1: 0.1127\n",
      "Epoch [20/200], Average Loss: 4.1267, Average BLEU@1: 0.1127, Teacher Forcing Ratio: 0.6525\n"
     ]
    },
    {
     "name": "stderr",
     "output_type": "stream",
     "text": [
      "  2%|██                                                                                 | 1/41 [00:00<00:39,  1.00it/s]"
     ]
    },
    {
     "name": "stdout",
     "output_type": "stream",
     "text": [
      "Epoch [21/200], Step [0/41], Loss: 4.1466, BLEU@1: 0.0690\n",
      "Sample prediction:\n",
      "Pred: 4 57 15 8 8 2 2 2 2 2 2 2 2 2 2 2 2 2 2 2 2 2 2 2 2 2 2 2 2\n",
      "Target: 156 424 882 31 8 1440 2 0 0 0 0 0 0 0 0 0 0 0 0 0 0 0 0 0 0 0 0 0 0\n",
      "\n"
     ]
    },
    {
     "name": "stderr",
     "output_type": "stream",
     "text": [
      "100%|██████████████████████████████████████████████████████████████████████████████████| 41/41 [00:36<00:00,  1.12it/s]\n"
     ]
    },
    {
     "name": "stdout",
     "output_type": "stream",
     "text": [
      "Epoch [21/200], Average Loss: 4.0889, Average BLEU@1: 0.1110\n",
      "Epoch [21/200], Average Loss: 4.0889, Average BLEU@1: 0.1110, Teacher Forcing Ratio: 0.6500\n"
     ]
    },
    {
     "name": "stderr",
     "output_type": "stream",
     "text": [
      "  2%|██                                                                                 | 1/41 [00:00<00:34,  1.15it/s]"
     ]
    },
    {
     "name": "stdout",
     "output_type": "stream",
     "text": [
      "Epoch [22/200], Step [0/41], Loss: 4.0575, BLEU@1: 0.1379\n",
      "Sample prediction:\n",
      "Pred: 4 57 15 8 8 2 2 2 2 2 2 2 2 2 2 2 2 2 2 2 2 2 2 2 2 2 2 2 2\n",
      "Target: 4 79 15 301 8 2171 2 0 0 0 0 0 0 0 0 0 0 0 0 0 0 0 0 0 0 0 0 0 0\n",
      "\n"
     ]
    },
    {
     "name": "stderr",
     "output_type": "stream",
     "text": [
      "100%|██████████████████████████████████████████████████████████████████████████████████| 41/41 [00:36<00:00,  1.13it/s]\n"
     ]
    },
    {
     "name": "stdout",
     "output_type": "stream",
     "text": [
      "Epoch [22/200], Average Loss: 4.1103, Average BLEU@1: 0.1152\n",
      "Epoch [22/200], Average Loss: 4.1103, Average BLEU@1: 0.1152, Teacher Forcing Ratio: 0.6475\n"
     ]
    },
    {
     "name": "stderr",
     "output_type": "stream",
     "text": [
      "  2%|██                                                                                 | 1/41 [00:00<00:38,  1.04it/s]"
     ]
    },
    {
     "name": "stdout",
     "output_type": "stream",
     "text": [
      "Epoch [23/200], Step [0/41], Loss: 3.8201, BLEU@1: 0.1724\n",
      "Sample prediction:\n",
      "Pred: 4 57 15 8 8 2 8 3 2 2 2 2 2 8 3 2 2 2 2 2 8 3 2 2 2 2 8 3 2\n",
      "Target: 4 57 89 8 2555 26 8 36 2 0 0 0 0 0 0 0 0 0 0 0 0 0 0 0 0 0 0 0 0\n",
      "\n"
     ]
    },
    {
     "name": "stderr",
     "output_type": "stream",
     "text": [
      "100%|██████████████████████████████████████████████████████████████████████████████████| 41/41 [00:36<00:00,  1.12it/s]\n"
     ]
    },
    {
     "name": "stdout",
     "output_type": "stream",
     "text": [
      "Epoch [23/200], Average Loss: 4.0948, Average BLEU@1: 0.1236\n",
      "Epoch [23/200], Average Loss: 4.0948, Average BLEU@1: 0.1236, Teacher Forcing Ratio: 0.6450\n"
     ]
    },
    {
     "name": "stderr",
     "output_type": "stream",
     "text": [
      "  2%|██                                                                                 | 1/41 [00:00<00:36,  1.10it/s]"
     ]
    },
    {
     "name": "stdout",
     "output_type": "stream",
     "text": [
      "Epoch [24/200], Step [0/41], Loss: 4.0848, BLEU@1: 0.1034\n",
      "Sample prediction:\n",
      "Pred: 4 57 15 8 8 8 2 2 2 8 3 2 2 2 2 2 8 2 8 3 2 8 3 2 2 2 8 2 2\n",
      "Target: 4 57 1863 866 2 0 0 0 0 0 0 0 0 0 0 0 0 0 0 0 0 0 0 0 0 0 0 0 0\n",
      "\n"
     ]
    },
    {
     "name": "stderr",
     "output_type": "stream",
     "text": [
      "100%|██████████████████████████████████████████████████████████████████████████████████| 41/41 [00:36<00:00,  1.13it/s]\n"
     ]
    },
    {
     "name": "stdout",
     "output_type": "stream",
     "text": [
      "Epoch [24/200], Average Loss: 3.9949, Average BLEU@1: 0.1203\n",
      "Epoch [24/200], Average Loss: 3.9949, Average BLEU@1: 0.1203, Teacher Forcing Ratio: 0.6425\n"
     ]
    },
    {
     "name": "stderr",
     "output_type": "stream",
     "text": [
      "  2%|██                                                                                 | 1/41 [00:00<00:37,  1.06it/s]"
     ]
    },
    {
     "name": "stdout",
     "output_type": "stream",
     "text": [
      "Epoch [25/200], Step [0/41], Loss: 4.2001, BLEU@1: 0.1379\n",
      "Sample prediction:\n",
      "Pred: 4 57 15 8 8 2 2 2 8 3 2 2 2 2 2 2 2 2 2 8 3 2 8 2 8 2 2 2 2\n",
      "Target: 4 185 15 3 301 554 2805 2 0 0 0 0 0 0 0 0 0 0 0 0 0 0 0 0 0 0 0 0 0\n",
      "\n"
     ]
    },
    {
     "name": "stderr",
     "output_type": "stream",
     "text": [
      "100%|██████████████████████████████████████████████████████████████████████████████████| 41/41 [00:36<00:00,  1.12it/s]\n"
     ]
    },
    {
     "name": "stdout",
     "output_type": "stream",
     "text": [
      "Epoch [25/200], Average Loss: 4.0113, Average BLEU@1: 0.1253\n",
      "Epoch [25/200], Average Loss: 4.0113, Average BLEU@1: 0.1253, Teacher Forcing Ratio: 0.6400\n"
     ]
    },
    {
     "name": "stderr",
     "output_type": "stream",
     "text": [
      "  2%|██                                                                                 | 1/41 [00:01<00:40,  1.01s/it]"
     ]
    },
    {
     "name": "stdout",
     "output_type": "stream",
     "text": [
      "Epoch [26/200], Step [0/41], Loss: 4.2445, BLEU@1: 0.0690\n",
      "Sample prediction:\n",
      "Pred: 4 57 15 301 3 2 2 3 2 8 2 2 2 3 2 3 2 2 3 2 2 2 3 2 2 2 2 2 2\n",
      "Target: 55 185 3 21 14 26 203 187 2 0 0 0 0 0 0 0 0 0 0 0 0 0 0 0 0 0 0 0 0\n",
      "\n"
     ]
    },
    {
     "name": "stderr",
     "output_type": "stream",
     "text": [
      "100%|██████████████████████████████████████████████████████████████████████████████████| 41/41 [00:36<00:00,  1.13it/s]\n"
     ]
    },
    {
     "name": "stdout",
     "output_type": "stream",
     "text": [
      "Epoch [26/200], Average Loss: 3.9976, Average BLEU@1: 0.1211\n",
      "Epoch [26/200], Average Loss: 3.9976, Average BLEU@1: 0.1211, Teacher Forcing Ratio: 0.6375\n"
     ]
    },
    {
     "name": "stderr",
     "output_type": "stream",
     "text": [
      "  2%|██                                                                                 | 1/41 [00:00<00:35,  1.14it/s]"
     ]
    },
    {
     "name": "stdout",
     "output_type": "stream",
     "text": [
      "Epoch [27/200], Step [0/41], Loss: 4.4797, BLEU@1: 0.1379\n",
      "Sample prediction:\n",
      "Pred: 4 15 157 2 8 8 2 8 3 2 8 2 2 8 2 8 2 8 2 2 2 8 3 2 8 2 2 2 8\n",
      "Target: 92 15 397 8 781 130 259 8 394 2 0 0 0 0 0 0 0 0 0 0 0 0 0 0 0 0 0 0 0\n",
      "\n"
     ]
    },
    {
     "name": "stderr",
     "output_type": "stream",
     "text": [
      "100%|██████████████████████████████████████████████████████████████████████████████████| 41/41 [00:36<00:00,  1.14it/s]\n"
     ]
    },
    {
     "name": "stdout",
     "output_type": "stream",
     "text": [
      "Epoch [27/200], Average Loss: 3.9936, Average BLEU@1: 0.1177\n",
      "Epoch [27/200], Average Loss: 3.9936, Average BLEU@1: 0.1177, Teacher Forcing Ratio: 0.6350\n"
     ]
    },
    {
     "name": "stderr",
     "output_type": "stream",
     "text": [
      "  2%|██                                                                                 | 1/41 [00:00<00:36,  1.09it/s]"
     ]
    },
    {
     "name": "stdout",
     "output_type": "stream",
     "text": [
      "Epoch [28/200], Step [0/41], Loss: 3.8260, BLEU@1: 0.2069\n",
      "Sample prediction:\n",
      "Pred: 4 57 15 301 8 8 2 8 8 2 2 2 2 2 2 2 8 3 2 8 2 2 2 2 2 8 2 2 2\n",
      "Target: 4 57 15 65 8 858 153 8 1261 2 0 0 0 0 0 0 0 0 0 0 0 0 0 0 0 0 0 0 0\n",
      "\n"
     ]
    },
    {
     "name": "stderr",
     "output_type": "stream",
     "text": [
      "100%|██████████████████████████████████████████████████████████████████████████████████| 41/41 [00:36<00:00,  1.12it/s]\n"
     ]
    },
    {
     "name": "stdout",
     "output_type": "stream",
     "text": [
      "Epoch [28/200], Average Loss: 3.9601, Average BLEU@1: 0.1144\n",
      "Epoch [28/200], Average Loss: 3.9601, Average BLEU@1: 0.1144, Teacher Forcing Ratio: 0.6325\n"
     ]
    },
    {
     "name": "stderr",
     "output_type": "stream",
     "text": [
      "  2%|██                                                                                 | 1/41 [00:00<00:35,  1.14it/s]"
     ]
    },
    {
     "name": "stdout",
     "output_type": "stream",
     "text": [
      "Epoch [29/200], Step [0/41], Loss: 3.7366, BLEU@1: 0.2069\n",
      "Sample prediction:\n",
      "Pred: 4 57 15 8 8 2 2 2 8 3 2 2 8 2 8 2 2 2 2 2 2 8 3 2 2 2 8 2 2\n",
      "Target: 4 5 15 234 8 3 144 63 26 8 331 2 0 0 0 0 0 0 0 0 0 0 0 0 0 0 0 0 0\n",
      "\n"
     ]
    },
    {
     "name": "stderr",
     "output_type": "stream",
     "text": [
      "100%|██████████████████████████████████████████████████████████████████████████████████| 41/41 [00:35<00:00,  1.14it/s]\n"
     ]
    },
    {
     "name": "stdout",
     "output_type": "stream",
     "text": [
      "Epoch [29/200], Average Loss: 3.9450, Average BLEU@1: 0.1085\n",
      "Epoch [29/200], Average Loss: 3.9450, Average BLEU@1: 0.1085, Teacher Forcing Ratio: 0.6300\n"
     ]
    },
    {
     "name": "stderr",
     "output_type": "stream",
     "text": [
      "  2%|██                                                                                 | 1/41 [00:00<00:36,  1.09it/s]"
     ]
    },
    {
     "name": "stdout",
     "output_type": "stream",
     "text": [
      "Epoch [30/200], Step [0/41], Loss: 4.2271, BLEU@1: 0.0345\n",
      "Sample prediction:\n",
      "Pred: 4 57 15 8 8 2 8 2 8 3 2 2 8 3 2 8 3 2 2 8 2 8 3 2 2 2 2 8 2\n",
      "Target: 1115 157 158 26 1116 2 0 0 0 0 0 0 0 0 0 0 0 0 0 0 0 0 0 0 0 0 0 0 0\n",
      "\n"
     ]
    },
    {
     "name": "stderr",
     "output_type": "stream",
     "text": [
      "100%|██████████████████████████████████████████████████████████████████████████████████| 41/41 [00:35<00:00,  1.15it/s]\n"
     ]
    },
    {
     "name": "stdout",
     "output_type": "stream",
     "text": [
      "Epoch [30/200], Average Loss: 3.9341, Average BLEU@1: 0.1203\n",
      "Epoch [30/200], Average Loss: 3.9341, Average BLEU@1: 0.1203, Teacher Forcing Ratio: 0.6275\n"
     ]
    },
    {
     "name": "stderr",
     "output_type": "stream",
     "text": [
      "  2%|██                                                                                 | 1/41 [00:00<00:34,  1.15it/s]"
     ]
    },
    {
     "name": "stdout",
     "output_type": "stream",
     "text": [
      "Epoch [31/200], Step [0/41], Loss: 4.1732, BLEU@1: 0.0345\n",
      "Sample prediction:\n",
      "Pred: 4 57 15 301 8 3 2 2 2 2 8 2 2 2 2 2 2 2 2 2 2 8 3 2 2 2 8 2 2\n",
      "Target: 546 816 31 21 998 2 0 0 0 0 0 0 0 0 0 0 0 0 0 0 0 0 0 0 0 0 0 0 0\n",
      "\n"
     ]
    },
    {
     "name": "stderr",
     "output_type": "stream",
     "text": [
      "100%|██████████████████████████████████████████████████████████████████████████████████| 41/41 [00:36<00:00,  1.13it/s]\n"
     ]
    },
    {
     "name": "stdout",
     "output_type": "stream",
     "text": [
      "Epoch [31/200], Average Loss: 3.9318, Average BLEU@1: 0.1177\n",
      "Epoch [31/200], Average Loss: 3.9318, Average BLEU@1: 0.1177, Teacher Forcing Ratio: 0.6250\n"
     ]
    },
    {
     "name": "stderr",
     "output_type": "stream",
     "text": [
      "  2%|██                                                                                 | 1/41 [00:00<00:34,  1.15it/s]"
     ]
    },
    {
     "name": "stdout",
     "output_type": "stream",
     "text": [
      "Epoch [32/200], Step [0/41], Loss: 3.6855, BLEU@1: 0.1379\n",
      "Sample prediction:\n",
      "Pred: 4 57 15 58 8 8 2 8 2 2 2 8 2 2 2 8 3 2 2 2 8 3 2 2 2 8 2 2 2\n",
      "Target: 4 5 15 65 8 1011 2 0 0 0 0 0 0 0 0 0 0 0 0 0 0 0 0 0 0 0 0 0 0\n",
      "\n"
     ]
    },
    {
     "name": "stderr",
     "output_type": "stream",
     "text": [
      "100%|██████████████████████████████████████████████████████████████████████████████████| 41/41 [00:36<00:00,  1.13it/s]\n"
     ]
    },
    {
     "name": "stdout",
     "output_type": "stream",
     "text": [
      "Epoch [32/200], Average Loss: 3.8620, Average BLEU@1: 0.1211\n",
      "Epoch [32/200], Average Loss: 3.8620, Average BLEU@1: 0.1211, Teacher Forcing Ratio: 0.6225\n"
     ]
    },
    {
     "name": "stderr",
     "output_type": "stream",
     "text": [
      "  2%|██                                                                                 | 1/41 [00:00<00:35,  1.12it/s]"
     ]
    },
    {
     "name": "stdout",
     "output_type": "stream",
     "text": [
      "Epoch [33/200], Step [0/41], Loss: 3.9596, BLEU@1: 0.0345\n",
      "Sample prediction:\n",
      "Pred: 4 157 157 8 8 2 8 2 8 2 2 2 2 2 2 2 8 2 2 2 8 3 2 2 2 8 2 2 2\n",
      "Target: 156 390 2705 2 0 0 0 0 0 0 0 0 0 0 0 0 0 0 0 0 0 0 0 0 0 0 0 0 0\n",
      "\n"
     ]
    },
    {
     "name": "stderr",
     "output_type": "stream",
     "text": [
      "100%|██████████████████████████████████████████████████████████████████████████████████| 41/41 [00:35<00:00,  1.15it/s]\n"
     ]
    },
    {
     "name": "stdout",
     "output_type": "stream",
     "text": [
      "Epoch [33/200], Average Loss: 3.8152, Average BLEU@1: 0.1228\n",
      "Epoch [33/200], Average Loss: 3.8152, Average BLEU@1: 0.1228, Teacher Forcing Ratio: 0.6200\n"
     ]
    },
    {
     "name": "stderr",
     "output_type": "stream",
     "text": [
      "  2%|██                                                                                 | 1/41 [00:00<00:34,  1.15it/s]"
     ]
    },
    {
     "name": "stdout",
     "output_type": "stream",
     "text": [
      "Epoch [34/200], Step [0/41], Loss: 3.6993, BLEU@1: 0.1724\n",
      "Sample prediction:\n",
      "Pred: 4 57 15 301 2 8 2 2 8 3 2 2 2 2 2 2 2 21 2 2 2 21 2 2 2 2 2 2 21\n",
      "Target: 4 57 15 602 103 8 388 31 203 2157 2 0 0 0 0 0 0 0 0 0 0 0 0 0 0 0 0 0 0\n",
      "\n"
     ]
    },
    {
     "name": "stderr",
     "output_type": "stream",
     "text": [
      "100%|██████████████████████████████████████████████████████████████████████████████████| 41/41 [00:35<00:00,  1.16it/s]\n"
     ]
    },
    {
     "name": "stdout",
     "output_type": "stream",
     "text": [
      "Epoch [34/200], Average Loss: 3.8223, Average BLEU@1: 0.1304\n",
      "Epoch [34/200], Average Loss: 3.8223, Average BLEU@1: 0.1304, Teacher Forcing Ratio: 0.6175\n"
     ]
    },
    {
     "name": "stderr",
     "output_type": "stream",
     "text": [
      "  2%|██                                                                                 | 1/41 [00:00<00:39,  1.01it/s]"
     ]
    },
    {
     "name": "stdout",
     "output_type": "stream",
     "text": [
      "Epoch [35/200], Step [0/41], Loss: 4.0578, BLEU@1: 0.1034\n",
      "Sample prediction:\n",
      "Pred: 4 57 15 58 8 8 8 8 2 2 8 2 8 2 2 2 8 2 8 2 2 8 2 2 2 2 2 2 8\n",
      "Target: 4 5 78 75 574 1655 26 8 662 2 0 0 0 0 0 0 0 0 0 0 0 0 0 0 0 0 0 0 0\n",
      "\n"
     ]
    },
    {
     "name": "stderr",
     "output_type": "stream",
     "text": [
      "100%|██████████████████████████████████████████████████████████████████████████████████| 41/41 [00:36<00:00,  1.11it/s]\n"
     ]
    },
    {
     "name": "stdout",
     "output_type": "stream",
     "text": [
      "Epoch [35/200], Average Loss: 3.8050, Average BLEU@1: 0.1245\n",
      "Epoch [35/200], Average Loss: 3.8050, Average BLEU@1: 0.1245, Teacher Forcing Ratio: 0.6150\n"
     ]
    },
    {
     "name": "stderr",
     "output_type": "stream",
     "text": [
      "  2%|██                                                                                 | 1/41 [00:00<00:35,  1.13it/s]"
     ]
    },
    {
     "name": "stdout",
     "output_type": "stream",
     "text": [
      "Epoch [36/200], Step [0/41], Loss: 3.9050, BLEU@1: 0.1724\n",
      "Sample prediction:\n",
      "Pred: 4 57 15 301 8 2 2 8 3 2 2 2 2 2 2 8 2 2 8 2 2 8 2 2 8 2 2 8 3\n",
      "Target: 4 57 526 8 270 462 153 8 1760 2 0 0 0 0 0 0 0 0 0 0 0 0 0 0 0 0 0 0 0\n",
      "\n"
     ]
    },
    {
     "name": "stderr",
     "output_type": "stream",
     "text": [
      "100%|██████████████████████████████████████████████████████████████████████████████████| 41/41 [00:36<00:00,  1.12it/s]\n"
     ]
    },
    {
     "name": "stdout",
     "output_type": "stream",
     "text": [
      "Epoch [36/200], Average Loss: 3.7856, Average BLEU@1: 0.1329\n",
      "Epoch [36/200], Average Loss: 3.7856, Average BLEU@1: 0.1329, Teacher Forcing Ratio: 0.6125\n"
     ]
    },
    {
     "name": "stderr",
     "output_type": "stream",
     "text": [
      "  2%|██                                                                                 | 1/41 [00:00<00:35,  1.13it/s]"
     ]
    },
    {
     "name": "stdout",
     "output_type": "stream",
     "text": [
      "Epoch [37/200], Step [0/41], Loss: 3.5398, BLEU@1: 0.1379\n",
      "Sample prediction:\n",
      "Pred: 4 57 15 301 8 8 3 2 8 3 2 2 2 2 8 2 2 2 2 8 2 8 2 2 2 8 2 2 2\n",
      "Target: 4 2329 15 51 26 8 36 2 0 0 0 0 0 0 0 0 0 0 0 0 0 0 0 0 0 0 0 0 0\n",
      "\n"
     ]
    },
    {
     "name": "stderr",
     "output_type": "stream",
     "text": [
      "100%|██████████████████████████████████████████████████████████████████████████████████| 41/41 [00:36<00:00,  1.13it/s]\n"
     ]
    },
    {
     "name": "stdout",
     "output_type": "stream",
     "text": [
      "Epoch [37/200], Average Loss: 3.7626, Average BLEU@1: 0.1270\n",
      "Epoch [37/200], Average Loss: 3.7626, Average BLEU@1: 0.1270, Teacher Forcing Ratio: 0.6100\n"
     ]
    },
    {
     "name": "stderr",
     "output_type": "stream",
     "text": [
      "  2%|██                                                                                 | 1/41 [00:00<00:34,  1.18it/s]"
     ]
    },
    {
     "name": "stdout",
     "output_type": "stream",
     "text": [
      "Epoch [38/200], Step [0/41], Loss: 3.6115, BLEU@1: 0.1379\n",
      "Sample prediction:\n",
      "Pred: 4 57 15 301 2 8 3 2 2 2 2 2 2 8 2 2 2 2 2 2 2 2 2 8 3 2 2 2 2\n",
      "Target: 4 412 185 15 301 21 2553 2 0 0 0 0 0 0 0 0 0 0 0 0 0 0 0 0 0 0 0 0 0\n",
      "\n"
     ]
    },
    {
     "name": "stderr",
     "output_type": "stream",
     "text": [
      "100%|██████████████████████████████████████████████████████████████████████████████████| 41/41 [00:36<00:00,  1.11it/s]\n"
     ]
    },
    {
     "name": "stdout",
     "output_type": "stream",
     "text": [
      "Epoch [38/200], Average Loss: 3.7442, Average BLEU@1: 0.1320\n",
      "Epoch [38/200], Average Loss: 3.7442, Average BLEU@1: 0.1320, Teacher Forcing Ratio: 0.6075\n"
     ]
    },
    {
     "name": "stderr",
     "output_type": "stream",
     "text": [
      "  2%|██                                                                                 | 1/41 [00:00<00:39,  1.01it/s]"
     ]
    },
    {
     "name": "stdout",
     "output_type": "stream",
     "text": [
      "Epoch [39/200], Step [0/41], Loss: 4.0081, BLEU@1: 0.1379\n",
      "Sample prediction:\n",
      "Pred: 4 57 15 58 8 2 8 2 2 2 8 3 2 2 2 2 2 2 2 8 3 2 8 3 2 2 2 8 2\n",
      "Target: 4 5 15 833 1161 140 8 1572 1136 2 0 0 0 0 0 0 0 0 0 0 0 0 0 0 0 0 0 0 0\n",
      "\n"
     ]
    },
    {
     "name": "stderr",
     "output_type": "stream",
     "text": [
      "100%|██████████████████████████████████████████████████████████████████████████████████| 41/41 [00:36<00:00,  1.11it/s]\n"
     ]
    },
    {
     "name": "stdout",
     "output_type": "stream",
     "text": [
      "Epoch [39/200], Average Loss: 3.6956, Average BLEU@1: 0.1194\n",
      "Epoch [39/200], Average Loss: 3.6956, Average BLEU@1: 0.1194, Teacher Forcing Ratio: 0.6050\n"
     ]
    },
    {
     "name": "stderr",
     "output_type": "stream",
     "text": [
      "  2%|██                                                                                 | 1/41 [00:00<00:34,  1.15it/s]"
     ]
    },
    {
     "name": "stdout",
     "output_type": "stream",
     "text": [
      "Epoch [40/200], Step [0/41], Loss: 3.8991, BLEU@1: 0.0345\n",
      "Sample prediction:\n",
      "Pred: 4 5 15 8 8 1226 2 8 2 2 2 2 2 8 2 2 8 2 2 2 8 2 8 2 8 2 2 2 2\n",
      "Target: 92 90 2089 140 21 1060 2724 31 21 98 2 0 0 0 0 0 0 0 0 0 0 0 0 0 0 0 0 0 0\n",
      "\n"
     ]
    },
    {
     "name": "stderr",
     "output_type": "stream",
     "text": [
      "100%|██████████████████████████████████████████████████████████████████████████████████| 41/41 [00:35<00:00,  1.15it/s]\n"
     ]
    },
    {
     "name": "stdout",
     "output_type": "stream",
     "text": [
      "Epoch [40/200], Average Loss: 3.6259, Average BLEU@1: 0.1245\n",
      "Epoch [40/200], Average Loss: 3.6259, Average BLEU@1: 0.1245, Teacher Forcing Ratio: 0.6025\n"
     ]
    },
    {
     "name": "stderr",
     "output_type": "stream",
     "text": [
      "  2%|██                                                                                 | 1/41 [00:00<00:35,  1.14it/s]"
     ]
    },
    {
     "name": "stdout",
     "output_type": "stream",
     "text": [
      "Epoch [41/200], Step [0/41], Loss: 3.7896, BLEU@1: 0.0345\n",
      "Sample prediction:\n",
      "Pred: 4 15 301 2 8 2 8 3 2 2 2 2 8 2 2 2 2 2 2 8 2 2 8 3 2 2 8 2 2\n",
      "Target: 1111 157 1507 2 0 0 0 0 0 0 0 0 0 0 0 0 0 0 0 0 0 0 0 0 0 0 0 0 0\n",
      "\n"
     ]
    },
    {
     "name": "stderr",
     "output_type": "stream",
     "text": [
      "100%|██████████████████████████████████████████████████████████████████████████████████| 41/41 [00:36<00:00,  1.14it/s]\n"
     ]
    },
    {
     "name": "stdout",
     "output_type": "stream",
     "text": [
      "Epoch [41/200], Average Loss: 3.6343, Average BLEU@1: 0.1127\n",
      "Epoch [41/200], Average Loss: 3.6343, Average BLEU@1: 0.1127, Teacher Forcing Ratio: 0.6000\n"
     ]
    },
    {
     "name": "stderr",
     "output_type": "stream",
     "text": [
      "  2%|██                                                                                 | 1/41 [00:00<00:35,  1.14it/s]"
     ]
    },
    {
     "name": "stdout",
     "output_type": "stream",
     "text": [
      "Epoch [42/200], Step [0/41], Loss: 3.5183, BLEU@1: 0.1724\n",
      "Sample prediction:\n",
      "Pred: 4 57 15 301 8 3 2 8 2 2 2 2 2 2 2 8 3 2 2 8 2 2 8 2 2 8 3 2 2\n",
      "Target: 4 79 15 186 8 11 612 8 2205 2 0 0 0 0 0 0 0 0 0 0 0 0 0 0 0 0 0 0 0\n",
      "\n"
     ]
    },
    {
     "name": "stderr",
     "output_type": "stream",
     "text": [
      "100%|██████████████████████████████████████████████████████████████████████████████████| 41/41 [00:36<00:00,  1.13it/s]\n"
     ]
    },
    {
     "name": "stdout",
     "output_type": "stream",
     "text": [
      "Epoch [42/200], Average Loss: 3.6306, Average BLEU@1: 0.1362\n",
      "Epoch [42/200], Average Loss: 3.6306, Average BLEU@1: 0.1362, Teacher Forcing Ratio: 0.5975\n"
     ]
    },
    {
     "name": "stderr",
     "output_type": "stream",
     "text": [
      "  2%|██                                                                                 | 1/41 [00:00<00:37,  1.07it/s]"
     ]
    },
    {
     "name": "stdout",
     "output_type": "stream",
     "text": [
      "Epoch [43/200], Step [0/41], Loss: 4.0936, BLEU@1: 0.0690\n",
      "Sample prediction:\n",
      "Pred: 4 5 15 65 8 2 8 8 61 2 2 2 8 394 2 2 2 2 8 2 8 2 8 2 2 2 2 2 2\n",
      "Target: 55 37 1287 8 1060 2617 31 17 382 608 862 31 670 2 0 0 0 0 0 0 0 0 0 0 0 0 0 0 0\n",
      "\n"
     ]
    },
    {
     "name": "stderr",
     "output_type": "stream",
     "text": [
      "100%|██████████████████████████████████████████████████████████████████████████████████| 41/41 [00:36<00:00,  1.13it/s]\n"
     ]
    },
    {
     "name": "stdout",
     "output_type": "stream",
     "text": [
      "Epoch [43/200], Average Loss: 3.6902, Average BLEU@1: 0.1312\n",
      "Epoch [43/200], Average Loss: 3.6902, Average BLEU@1: 0.1312, Teacher Forcing Ratio: 0.5950\n"
     ]
    },
    {
     "name": "stderr",
     "output_type": "stream",
     "text": [
      "  2%|██                                                                                 | 1/41 [00:00<00:34,  1.14it/s]"
     ]
    },
    {
     "name": "stdout",
     "output_type": "stream",
     "text": [
      "Epoch [44/200], Step [0/41], Loss: 2.9643, BLEU@1: 0.1724\n",
      "Sample prediction:\n",
      "Pred: 4 57 15 301 8 8 3 2 2 2 2 2 2 8 3 2 2 2 8 3 2 2 2 8 2 2 2 8 3\n",
      "Target: 4 304 15 301 26 8 2328 2 0 0 0 0 0 0 0 0 0 0 0 0 0 0 0 0 0 0 0 0 0\n",
      "\n"
     ]
    },
    {
     "name": "stderr",
     "output_type": "stream",
     "text": [
      "100%|██████████████████████████████████████████████████████████████████████████████████| 41/41 [00:35<00:00,  1.14it/s]\n"
     ]
    },
    {
     "name": "stdout",
     "output_type": "stream",
     "text": [
      "Epoch [44/200], Average Loss: 3.6079, Average BLEU@1: 0.1337\n",
      "Epoch [44/200], Average Loss: 3.6079, Average BLEU@1: 0.1337, Teacher Forcing Ratio: 0.5925\n"
     ]
    },
    {
     "name": "stderr",
     "output_type": "stream",
     "text": [
      "  2%|██                                                                                 | 1/41 [00:00<00:37,  1.06it/s]"
     ]
    },
    {
     "name": "stdout",
     "output_type": "stream",
     "text": [
      "Epoch [45/200], Step [0/41], Loss: 3.3537, BLEU@1: 0.1379\n",
      "Sample prediction:\n",
      "Pred: 4 5 15 58 8 2 2 8 2 2 2 8 2 2 8 3 2 2 2 2 2 2 8 2 2 2 8 3 2\n",
      "Target: 4 5 15 397 2404 1883 2 0 0 0 0 0 0 0 0 0 0 0 0 0 0 0 0 0 0 0 0 0 0\n",
      "\n"
     ]
    },
    {
     "name": "stderr",
     "output_type": "stream",
     "text": [
      "100%|██████████████████████████████████████████████████████████████████████████████████| 41/41 [00:36<00:00,  1.13it/s]\n"
     ]
    },
    {
     "name": "stdout",
     "output_type": "stream",
     "text": [
      "Epoch [45/200], Average Loss: 3.6703, Average BLEU@1: 0.1211\n",
      "Epoch [45/200], Average Loss: 3.6703, Average BLEU@1: 0.1211, Teacher Forcing Ratio: 0.5900\n"
     ]
    },
    {
     "name": "stderr",
     "output_type": "stream",
     "text": [
      "  2%|██                                                                                 | 1/41 [00:00<00:37,  1.07it/s]"
     ]
    },
    {
     "name": "stdout",
     "output_type": "stream",
     "text": [
      "Epoch [46/200], Step [0/41], Loss: 3.5805, BLEU@1: 0.1034\n",
      "Sample prediction:\n",
      "Pred: 4 5 15 58 8 2 2 8 2 8 2 8 2 2 2 2 8 2 8 2 2 2 8 2 2 8 2 8 3\n",
      "Target: 4 57 15 66 684 2949 2 0 0 0 0 0 0 0 0 0 0 0 0 0 0 0 0 0 0 0 0 0 0\n",
      "\n"
     ]
    },
    {
     "name": "stderr",
     "output_type": "stream",
     "text": [
      "100%|██████████████████████████████████████████████████████████████████████████████████| 41/41 [00:36<00:00,  1.13it/s]\n"
     ]
    },
    {
     "name": "stdout",
     "output_type": "stream",
     "text": [
      "Epoch [46/200], Average Loss: 3.6203, Average BLEU@1: 0.1278\n",
      "Epoch [46/200], Average Loss: 3.6203, Average BLEU@1: 0.1278, Teacher Forcing Ratio: 0.5875\n"
     ]
    },
    {
     "name": "stderr",
     "output_type": "stream",
     "text": [
      "  2%|██                                                                                 | 1/41 [00:00<00:35,  1.13it/s]"
     ]
    },
    {
     "name": "stdout",
     "output_type": "stream",
     "text": [
      "Epoch [47/200], Step [0/41], Loss: 3.8780, BLEU@1: 0.1379\n",
      "Sample prediction:\n",
      "Pred: 4 57 15 8 8 2 2 3 2 3 2 2 2 2 2 2 8 2 2 21 2 21 3 2 2 2 21 2 21\n",
      "Target: 4 304 615 60 21 268 12 1103 8 703 2 0 0 0 0 0 0 0 0 0 0 0 0 0 0 0 0 0 0\n",
      "\n"
     ]
    },
    {
     "name": "stderr",
     "output_type": "stream",
     "text": [
      "100%|██████████████████████████████████████████████████████████████████████████████████| 41/41 [00:36<00:00,  1.13it/s]\n"
     ]
    },
    {
     "name": "stdout",
     "output_type": "stream",
     "text": [
      "Epoch [47/200], Average Loss: 3.5570, Average BLEU@1: 0.1362\n",
      "Epoch [47/200], Average Loss: 3.5570, Average BLEU@1: 0.1362, Teacher Forcing Ratio: 0.5850\n"
     ]
    },
    {
     "name": "stderr",
     "output_type": "stream",
     "text": [
      "  2%|██                                                                                 | 1/41 [00:00<00:39,  1.01it/s]"
     ]
    },
    {
     "name": "stdout",
     "output_type": "stream",
     "text": [
      "Epoch [48/200], Step [0/41], Loss: 3.9709, BLEU@1: 0.1379\n",
      "Sample prediction:\n",
      "Pred: 4 57 15 8 3 2 8 3 2 2 2 2 2 21 3 2 8 3 2 2 2 21 2 2 2 2 21 2 21\n",
      "Target: 4 57 153 366 923 103 72 3 2 0 0 0 0 0 0 0 0 0 0 0 0 0 0 0 0 0 0 0 0\n",
      "\n"
     ]
    },
    {
     "name": "stderr",
     "output_type": "stream",
     "text": [
      "100%|██████████████████████████████████████████████████████████████████████████████████| 41/41 [00:36<00:00,  1.13it/s]\n"
     ]
    },
    {
     "name": "stdout",
     "output_type": "stream",
     "text": [
      "Epoch [48/200], Average Loss: 3.5676, Average BLEU@1: 0.1388\n",
      "Epoch [48/200], Average Loss: 3.5676, Average BLEU@1: 0.1388, Teacher Forcing Ratio: 0.5825\n"
     ]
    },
    {
     "name": "stderr",
     "output_type": "stream",
     "text": [
      "  2%|██                                                                                 | 1/41 [00:00<00:36,  1.11it/s]"
     ]
    },
    {
     "name": "stdout",
     "output_type": "stream",
     "text": [
      "Epoch [49/200], Step [0/41], Loss: 3.2702, BLEU@1: 0.0690\n",
      "Sample prediction:\n",
      "Pred: 4 5 15 8 3 2 8 2 2 2 2 24 8 3 2 2 2 24 8 3 2 2 2 2 2 8 2 8 2\n",
      "Target: 4 79 216 72 1226 2 0 0 0 0 0 0 0 0 0 0 0 0 0 0 0 0 0 0 0 0 0 0 0\n",
      "\n"
     ]
    },
    {
     "name": "stderr",
     "output_type": "stream",
     "text": [
      "100%|██████████████████████████████████████████████████████████████████████████████████| 41/41 [00:36<00:00,  1.13it/s]\n"
     ]
    },
    {
     "name": "stdout",
     "output_type": "stream",
     "text": [
      "Epoch [49/200], Average Loss: 3.5579, Average BLEU@1: 0.1329\n",
      "Epoch [49/200], Average Loss: 3.5579, Average BLEU@1: 0.1329, Teacher Forcing Ratio: 0.5800\n"
     ]
    },
    {
     "name": "stderr",
     "output_type": "stream",
     "text": [
      "  2%|██                                                                                 | 1/41 [00:00<00:37,  1.07it/s]"
     ]
    },
    {
     "name": "stdout",
     "output_type": "stream",
     "text": [
      "Epoch [50/200], Step [0/41], Loss: 3.7881, BLEU@1: 0.1034\n",
      "Sample prediction:\n",
      "Pred: 4 57 15 8 3 2 8 2 2 8 3 2 2 8 3 2 2 8 2 8 3 2 2 8 3 2 2 2 8\n",
      "Target: 92 15 311 8 1969 881 2 0 0 0 0 0 0 0 0 0 0 0 0 0 0 0 0 0 0 0 0 0 0\n",
      "\n"
     ]
    },
    {
     "name": "stderr",
     "output_type": "stream",
     "text": [
      "100%|██████████████████████████████████████████████████████████████████████████████████| 41/41 [00:35<00:00,  1.16it/s]\n"
     ]
    },
    {
     "name": "stdout",
     "output_type": "stream",
     "text": [
      "Epoch [50/200], Average Loss: 3.5191, Average BLEU@1: 0.1312\n",
      "Epoch [50/200], Average Loss: 3.5191, Average BLEU@1: 0.1312, Teacher Forcing Ratio: 0.5775\n"
     ]
    },
    {
     "name": "stderr",
     "output_type": "stream",
     "text": [
      "  2%|██                                                                                 | 1/41 [00:00<00:39,  1.02it/s]"
     ]
    },
    {
     "name": "stdout",
     "output_type": "stream",
     "text": [
      "Epoch [51/200], Step [0/41], Loss: 3.3108, BLEU@1: 0.1379\n",
      "Sample prediction:\n",
      "Pred: 4 580 15 301 26 8 3 2 2 2 2 2 2 2 21 3 2 2 2 2 21 2 2 21 3 2 2 2 2\n",
      "Target: 4 2073 15 51 194 8 967 2 0 0 0 0 0 0 0 0 0 0 0 0 0 0 0 0 0 0 0 0 0\n",
      "\n"
     ]
    },
    {
     "name": "stderr",
     "output_type": "stream",
     "text": [
      "100%|██████████████████████████████████████████████████████████████████████████████████| 41/41 [00:35<00:00,  1.14it/s]\n"
     ]
    },
    {
     "name": "stdout",
     "output_type": "stream",
     "text": [
      "Epoch [51/200], Average Loss: 3.4535, Average BLEU@1: 0.1362\n",
      "Epoch [51/200], Average Loss: 3.4535, Average BLEU@1: 0.1362, Teacher Forcing Ratio: 0.5750\n"
     ]
    },
    {
     "name": "stderr",
     "output_type": "stream",
     "text": [
      "  2%|██                                                                                 | 1/41 [00:00<00:35,  1.14it/s]"
     ]
    },
    {
     "name": "stdout",
     "output_type": "stream",
     "text": [
      "Epoch [52/200], Step [0/41], Loss: 4.0090, BLEU@1: 0.0345\n",
      "Sample prediction:\n",
      "Pred: 4 5 15 58 8 2 2 8 61 2 2 2 2 2 2 2 2 2 2 8 2 2 8 2 2 2 2 2 2\n",
      "Target: 55 57 62 225 75 1336 19 21 1583 24 1633 2 0 0 0 0 0 0 0 0 0 0 0 0 0 0 0 0 0\n",
      "\n"
     ]
    },
    {
     "name": "stderr",
     "output_type": "stream",
     "text": [
      "100%|██████████████████████████████████████████████████████████████████████████████████| 41/41 [00:36<00:00,  1.13it/s]\n"
     ]
    },
    {
     "name": "stdout",
     "output_type": "stream",
     "text": [
      "Epoch [52/200], Average Loss: 3.4978, Average BLEU@1: 0.1346\n",
      "Epoch [52/200], Average Loss: 3.4978, Average BLEU@1: 0.1346, Teacher Forcing Ratio: 0.5725\n"
     ]
    },
    {
     "name": "stderr",
     "output_type": "stream",
     "text": [
      "  2%|██                                                                                 | 1/41 [00:00<00:38,  1.03it/s]"
     ]
    },
    {
     "name": "stdout",
     "output_type": "stream",
     "text": [
      "Epoch [53/200], Step [0/41], Loss: 3.3166, BLEU@1: 0.0690\n",
      "Sample prediction:\n",
      "Pred: 4 57 15 8 2 8 2 2 8 3 2 2 21 3 2 2 21 2 21 3 2 2 2 2 2 2 21 3 2\n",
      "Target: 55 122 15 364 2 0 0 0 0 0 0 0 0 0 0 0 0 0 0 0 0 0 0 0 0 0 0 0 0\n",
      "\n"
     ]
    },
    {
     "name": "stderr",
     "output_type": "stream",
     "text": [
      "100%|██████████████████████████████████████████████████████████████████████████████████| 41/41 [00:35<00:00,  1.14it/s]\n"
     ]
    },
    {
     "name": "stdout",
     "output_type": "stream",
     "text": [
      "Epoch [53/200], Average Loss: 3.4519, Average BLEU@1: 0.1337\n",
      "Epoch [53/200], Average Loss: 3.4519, Average BLEU@1: 0.1337, Teacher Forcing Ratio: 0.5700\n"
     ]
    },
    {
     "name": "stderr",
     "output_type": "stream",
     "text": [
      "  2%|██                                                                                 | 1/41 [00:00<00:36,  1.11it/s]"
     ]
    },
    {
     "name": "stdout",
     "output_type": "stream",
     "text": [
      "Epoch [54/200], Step [0/41], Loss: 3.2121, BLEU@1: 0.1724\n",
      "Sample prediction:\n",
      "Pred: 4 580 15 301 26 8 2 2 2 2 2 2 21 2 2 2 21 2 2 21 3 2 2 2 2 2 2 2 2\n",
      "Target: 4 580 15 51 31 21 1697 2 0 0 0 0 0 0 0 0 0 0 0 0 0 0 0 0 0 0 0 0 0\n",
      "\n"
     ]
    },
    {
     "name": "stderr",
     "output_type": "stream",
     "text": [
      "100%|██████████████████████████████████████████████████████████████████████████████████| 41/41 [00:35<00:00,  1.16it/s]\n"
     ]
    },
    {
     "name": "stdout",
     "output_type": "stream",
     "text": [
      "Epoch [54/200], Average Loss: 3.4526, Average BLEU@1: 0.1438\n",
      "Epoch [54/200], Average Loss: 3.4526, Average BLEU@1: 0.1438, Teacher Forcing Ratio: 0.5675\n"
     ]
    },
    {
     "name": "stderr",
     "output_type": "stream",
     "text": [
      "  2%|██                                                                                 | 1/41 [00:00<00:36,  1.11it/s]"
     ]
    },
    {
     "name": "stdout",
     "output_type": "stream",
     "text": [
      "Epoch [55/200], Step [0/41], Loss: 3.5982, BLEU@1: 0.1379\n",
      "Sample prediction:\n",
      "Pred: 4 580 15 3 26 3 2 2 2 2 2 2 21 3 2 2 21 3 2 2 2 2 2 2 2 2 2 2 2\n",
      "Target: 55 580 15 1246 21 2602 2 0 0 0 0 0 0 0 0 0 0 0 0 0 0 0 0 0 0 0 0 0 0\n",
      "\n"
     ]
    },
    {
     "name": "stderr",
     "output_type": "stream",
     "text": [
      "100%|██████████████████████████████████████████████████████████████████████████████████| 41/41 [00:36<00:00,  1.13it/s]\n"
     ]
    },
    {
     "name": "stdout",
     "output_type": "stream",
     "text": [
      "Epoch [55/200], Average Loss: 3.5339, Average BLEU@1: 0.1337\n",
      "Epoch [55/200], Average Loss: 3.5339, Average BLEU@1: 0.1337, Teacher Forcing Ratio: 0.5650\n"
     ]
    },
    {
     "name": "stderr",
     "output_type": "stream",
     "text": [
      "  2%|██                                                                                 | 1/41 [00:00<00:38,  1.03it/s]"
     ]
    },
    {
     "name": "stdout",
     "output_type": "stream",
     "text": [
      "Epoch [56/200], Step [0/41], Loss: 3.5432, BLEU@1: 0.1379\n",
      "Sample prediction:\n",
      "Pred: 4 57 15 301 8 596 2 8 2 2 8 2 2 8 3 2 2 8 2 8 2 2 8 3 2 2 2 8 3\n",
      "Target: 4 57 640 60 8 362 2 0 0 0 0 0 0 0 0 0 0 0 0 0 0 0 0 0 0 0 0 0 0\n",
      "\n"
     ]
    },
    {
     "name": "stderr",
     "output_type": "stream",
     "text": [
      "100%|██████████████████████████████████████████████████████████████████████████████████| 41/41 [00:36<00:00,  1.11it/s]\n"
     ]
    },
    {
     "name": "stdout",
     "output_type": "stream",
     "text": [
      "Epoch [56/200], Average Loss: 3.4922, Average BLEU@1: 0.1455\n",
      "Epoch [56/200], Average Loss: 3.4922, Average BLEU@1: 0.1455, Teacher Forcing Ratio: 0.5625\n"
     ]
    },
    {
     "name": "stderr",
     "output_type": "stream",
     "text": [
      "  2%|██                                                                                 | 1/41 [00:00<00:36,  1.08it/s]"
     ]
    },
    {
     "name": "stdout",
     "output_type": "stream",
     "text": [
      "Epoch [57/200], Step [0/41], Loss: 3.3914, BLEU@1: 0.1724\n",
      "Sample prediction:\n",
      "Pred: 4 580 15 301 8 8 2 2 8 2 2 2 2 2 2 8 3 2 2 2 2 2 2 2 2 2 2 2 2\n",
      "Target: 4 600 15 301 31 8 1679 24 563 2 0 0 0 0 0 0 0 0 0 0 0 0 0 0 0 0 0 0 0\n",
      "\n"
     ]
    },
    {
     "name": "stderr",
     "output_type": "stream",
     "text": [
      "100%|██████████████████████████████████████████████████████████████████████████████████| 41/41 [00:36<00:00,  1.11it/s]\n"
     ]
    },
    {
     "name": "stdout",
     "output_type": "stream",
     "text": [
      "Epoch [57/200], Average Loss: 3.4367, Average BLEU@1: 0.1396\n",
      "Epoch [57/200], Average Loss: 3.4367, Average BLEU@1: 0.1396, Teacher Forcing Ratio: 0.5600\n"
     ]
    },
    {
     "name": "stderr",
     "output_type": "stream",
     "text": [
      "  2%|██                                                                                 | 1/41 [00:00<00:36,  1.11it/s]"
     ]
    },
    {
     "name": "stdout",
     "output_type": "stream",
     "text": [
      "Epoch [58/200], Step [0/41], Loss: 3.5977, BLEU@1: 0.0690\n",
      "Sample prediction:\n",
      "Pred: 4 304 15 3 31 21 3 2 2 2 2 2 2 2 2 2 2 2 21 2 21 2 21 3 2 2 2 21 2\n",
      "Target: 4 2383 615 16 24 563 2 0 0 0 0 0 0 0 0 0 0 0 0 0 0 0 0 0 0 0 0 0 0\n",
      "\n"
     ]
    },
    {
     "name": "stderr",
     "output_type": "stream",
     "text": [
      "100%|██████████████████████████████████████████████████████████████████████████████████| 41/41 [00:36<00:00,  1.12it/s]\n"
     ]
    },
    {
     "name": "stdout",
     "output_type": "stream",
     "text": [
      "Epoch [58/200], Average Loss: 3.4654, Average BLEU@1: 0.1312\n",
      "Epoch [58/200], Average Loss: 3.4654, Average BLEU@1: 0.1312, Teacher Forcing Ratio: 0.5575\n"
     ]
    },
    {
     "name": "stderr",
     "output_type": "stream",
     "text": [
      "  2%|██                                                                                 | 1/41 [00:00<00:37,  1.06it/s]"
     ]
    },
    {
     "name": "stdout",
     "output_type": "stream",
     "text": [
      "Epoch [59/200], Step [0/41], Loss: 3.0470, BLEU@1: 0.1034\n",
      "Sample prediction:\n",
      "Pred: 4 57 15 8 3 24 8 2 2 2 8 2 8 2 8 2 2 8 2 2 2 2 2 8 3 2 2 2 2\n",
      "Target: 4 5 3 12 837 2767 2 0 0 0 0 0 0 0 0 0 0 0 0 0 0 0 0 0 0 0 0 0 0\n",
      "\n"
     ]
    },
    {
     "name": "stderr",
     "output_type": "stream",
     "text": [
      "100%|██████████████████████████████████████████████████████████████████████████████████| 41/41 [00:36<00:00,  1.11it/s]\n"
     ]
    },
    {
     "name": "stdout",
     "output_type": "stream",
     "text": [
      "Epoch [59/200], Average Loss: 3.4494, Average BLEU@1: 0.1253\n",
      "Epoch [59/200], Average Loss: 3.4494, Average BLEU@1: 0.1253, Teacher Forcing Ratio: 0.5550\n"
     ]
    },
    {
     "name": "stderr",
     "output_type": "stream",
     "text": [
      "  2%|██                                                                                 | 1/41 [00:00<00:36,  1.11it/s]"
     ]
    },
    {
     "name": "stdout",
     "output_type": "stream",
     "text": [
      "Epoch [60/200], Step [0/41], Loss: 3.4571, BLEU@1: 0.1379\n",
      "Sample prediction:\n",
      "Pred: 156 157 301 8 2 2 2 2 2 2 3 2 2 2 2 2 3 2 3 2 3 2 2 3 2 3 2 2 3\n",
      "Target: 389 157 3 392 163 3 2 0 0 0 0 0 0 0 0 0 0 0 0 0 0 0 0 0 0 0 0 0 0\n",
      "\n"
     ]
    },
    {
     "name": "stderr",
     "output_type": "stream",
     "text": [
      "100%|██████████████████████████████████████████████████████████████████████████████████| 41/41 [00:36<00:00,  1.12it/s]\n"
     ]
    },
    {
     "name": "stdout",
     "output_type": "stream",
     "text": [
      "Epoch [60/200], Average Loss: 3.4090, Average BLEU@1: 0.1379\n",
      "Epoch [60/200], Average Loss: 3.4090, Average BLEU@1: 0.1379, Teacher Forcing Ratio: 0.5525\n"
     ]
    },
    {
     "name": "stderr",
     "output_type": "stream",
     "text": [
      "  2%|██                                                                                 | 1/41 [00:00<00:36,  1.09it/s]"
     ]
    },
    {
     "name": "stdout",
     "output_type": "stream",
     "text": [
      "Epoch [61/200], Step [0/41], Loss: 3.4558, BLEU@1: 0.1724\n",
      "Sample prediction:\n",
      "Pred: 4 580 15 301 8 8 2 2 2 2 2 2 2 2 2 8 3 2 2 2 2 2 2 2 2 2 2 2 2\n",
      "Target: 4 580 15 749 8 747 2 0 0 0 0 0 0 0 0 0 0 0 0 0 0 0 0 0 0 0 0 0 0\n",
      "\n"
     ]
    },
    {
     "name": "stderr",
     "output_type": "stream",
     "text": [
      "100%|██████████████████████████████████████████████████████████████████████████████████| 41/41 [00:36<00:00,  1.11it/s]\n"
     ]
    },
    {
     "name": "stdout",
     "output_type": "stream",
     "text": [
      "Epoch [61/200], Average Loss: 3.4994, Average BLEU@1: 0.1396\n",
      "Epoch [61/200], Average Loss: 3.4994, Average BLEU@1: 0.1396, Teacher Forcing Ratio: 0.5500\n"
     ]
    },
    {
     "name": "stderr",
     "output_type": "stream",
     "text": [
      "  2%|██                                                                                 | 1/41 [00:00<00:37,  1.06it/s]"
     ]
    },
    {
     "name": "stdout",
     "output_type": "stream",
     "text": [
      "Epoch [62/200], Step [0/41], Loss: 3.4253, BLEU@1: 0.1379\n",
      "Sample prediction:\n",
      "Pred: 4 5 15 58 8 2 8 2 8 2 2 8 2 2 2 2 2 2 2 2 2 8 2 2 8 2 2 2 2\n",
      "Target: 4 5 15 943 113 2 0 0 0 0 0 0 0 0 0 0 0 0 0 0 0 0 0 0 0 0 0 0 0\n",
      "\n"
     ]
    },
    {
     "name": "stderr",
     "output_type": "stream",
     "text": [
      "100%|██████████████████████████████████████████████████████████████████████████████████| 41/41 [00:36<00:00,  1.13it/s]\n"
     ]
    },
    {
     "name": "stdout",
     "output_type": "stream",
     "text": [
      "Epoch [62/200], Average Loss: 3.4800, Average BLEU@1: 0.1379\n",
      "Epoch [62/200], Average Loss: 3.4800, Average BLEU@1: 0.1379, Teacher Forcing Ratio: 0.5475\n"
     ]
    },
    {
     "name": "stderr",
     "output_type": "stream",
     "text": [
      "  2%|██                                                                                 | 1/41 [00:00<00:35,  1.13it/s]"
     ]
    },
    {
     "name": "stdout",
     "output_type": "stream",
     "text": [
      "Epoch [63/200], Step [0/41], Loss: 3.8008, BLEU@1: 0.2069\n",
      "Sample prediction:\n",
      "Pred: 4 5 15 8 60 8 2 8 24 8 3 2 8 3 24 2 2 2 2 2 2 8 2 2 2 8 3 2 2\n",
      "Target: 4 5 267 8 94 1054 24 1382 12 75 131 60 72 701 676 2 0 0 0 0 0 0 0 0 0 0 0 0 0\n",
      "\n"
     ]
    },
    {
     "name": "stderr",
     "output_type": "stream",
     "text": [
      "100%|██████████████████████████████████████████████████████████████████████████████████| 41/41 [00:35<00:00,  1.15it/s]\n"
     ]
    },
    {
     "name": "stdout",
     "output_type": "stream",
     "text": [
      "Epoch [63/200], Average Loss: 3.4459, Average BLEU@1: 0.1337\n",
      "Epoch [63/200], Average Loss: 3.4459, Average BLEU@1: 0.1337, Teacher Forcing Ratio: 0.5450\n"
     ]
    },
    {
     "name": "stderr",
     "output_type": "stream",
     "text": [
      "  2%|██                                                                                 | 1/41 [00:00<00:34,  1.17it/s]"
     ]
    },
    {
     "name": "stdout",
     "output_type": "stream",
     "text": [
      "Epoch [64/200], Step [0/41], Loss: 3.7697, BLEU@1: 0.1034\n",
      "Sample prediction:\n",
      "Pred: 4 57 15 8 8 3 2 2 2 2 2 2 2 2 21 3 2 2 21 2 2 2 21 2 21 2 2 21 2\n",
      "Target: 4 1982 494 3 72 1983 1979 2 0 0 0 0 0 0 0 0 0 0 0 0 0 0 0 0 0 0 0 0 0\n",
      "\n"
     ]
    },
    {
     "name": "stderr",
     "output_type": "stream",
     "text": [
      "100%|██████████████████████████████████████████████████████████████████████████████████| 41/41 [00:36<00:00,  1.12it/s]\n"
     ]
    },
    {
     "name": "stdout",
     "output_type": "stream",
     "text": [
      "Epoch [64/200], Average Loss: 3.4673, Average BLEU@1: 0.1573\n",
      "Epoch [64/200], Average Loss: 3.4673, Average BLEU@1: 0.1573, Teacher Forcing Ratio: 0.5425\n"
     ]
    },
    {
     "name": "stderr",
     "output_type": "stream",
     "text": [
      "  2%|██                                                                                 | 1/41 [00:00<00:36,  1.10it/s]"
     ]
    },
    {
     "name": "stdout",
     "output_type": "stream",
     "text": [
      "Epoch [65/200], Step [0/41], Loss: 3.0449, BLEU@1: 0.0690\n",
      "Sample prediction:\n",
      "Pred: 4 5 15 58 3 2 8 2 8 2 2 2 2 2 2 8 3 2 2 2 8 3 2 2 2 2 2 8 2\n",
      "Target: 4 57 71 72 1226 2 0 0 0 0 0 0 0 0 0 0 0 0 0 0 0 0 0 0 0 0 0 0 0\n",
      "\n"
     ]
    },
    {
     "name": "stderr",
     "output_type": "stream",
     "text": [
      "100%|██████████████████████████████████████████████████████████████████████████████████| 41/41 [00:35<00:00,  1.15it/s]\n"
     ]
    },
    {
     "name": "stdout",
     "output_type": "stream",
     "text": [
      "Epoch [65/200], Average Loss: 3.4734, Average BLEU@1: 0.1497\n",
      "Epoch [65/200], Average Loss: 3.4734, Average BLEU@1: 0.1497, Teacher Forcing Ratio: 0.5400\n"
     ]
    },
    {
     "name": "stderr",
     "output_type": "stream",
     "text": [
      "  2%|██                                                                                 | 1/41 [00:00<00:35,  1.12it/s]"
     ]
    },
    {
     "name": "stdout",
     "output_type": "stream",
     "text": [
      "Epoch [66/200], Step [0/41], Loss: 3.4172, BLEU@1: 0.0690\n",
      "Sample prediction:\n",
      "Pred: 4 5 15 21 3 1226 2 2 2 2 2 2 2 2 2 2 2 8 2 2 2 8 2 2 2 2 8 2 2\n",
      "Target: 55 37 708 21 781 2002 1041 2 0 0 0 0 0 0 0 0 0 0 0 0 0 0 0 0 0 0 0 0 0\n",
      "\n"
     ]
    },
    {
     "name": "stderr",
     "output_type": "stream",
     "text": [
      "100%|██████████████████████████████████████████████████████████████████████████████████| 41/41 [00:35<00:00,  1.14it/s]\n"
     ]
    },
    {
     "name": "stdout",
     "output_type": "stream",
     "text": [
      "Epoch [66/200], Average Loss: 3.4567, Average BLEU@1: 0.1278\n",
      "Epoch [66/200], Average Loss: 3.4567, Average BLEU@1: 0.1278, Teacher Forcing Ratio: 0.5375\n"
     ]
    },
    {
     "name": "stderr",
     "output_type": "stream",
     "text": [
      "  2%|██                                                                                 | 1/41 [00:00<00:38,  1.04it/s]"
     ]
    },
    {
     "name": "stdout",
     "output_type": "stream",
     "text": [
      "Epoch [67/200], Step [0/41], Loss: 3.6012, BLEU@1: 0.1034\n",
      "Sample prediction:\n",
      "Pred: 4 57 15 186 8 8 2 2 2 2 8 3 2 2 8 2 2 2 2 21 2 2 21 2 2 2 2 2 2\n",
      "Target: 4 14 15 364 2 0 0 0 0 0 0 0 0 0 0 0 0 0 0 0 0 0 0 0 0 0 0 0 0\n",
      "\n"
     ]
    },
    {
     "name": "stderr",
     "output_type": "stream",
     "text": [
      "100%|██████████████████████████████████████████████████████████████████████████████████| 41/41 [00:35<00:00,  1.14it/s]\n"
     ]
    },
    {
     "name": "stdout",
     "output_type": "stream",
     "text": [
      "Epoch [67/200], Average Loss: 3.4105, Average BLEU@1: 0.1388\n",
      "Epoch [67/200], Average Loss: 3.4105, Average BLEU@1: 0.1388, Teacher Forcing Ratio: 0.5350\n"
     ]
    },
    {
     "name": "stderr",
     "output_type": "stream",
     "text": [
      "  2%|██                                                                                 | 1/41 [00:00<00:35,  1.13it/s]"
     ]
    },
    {
     "name": "stdout",
     "output_type": "stream",
     "text": [
      "Epoch [68/200], Step [0/41], Loss: 3.6724, BLEU@1: 0.1379\n",
      "Sample prediction:\n",
      "Pred: 4 580 15 8 8 2 8 3 2 2 3 2 2 2 2 2 2 8 2 2 2 8 2 2 2 2 2 2 2\n",
      "Target: 4 304 15 3 317 153 203 1138 31 21 371 2 0 0 0 0 0 0 0 0 0 0 0 0 0 0 0 0 0\n",
      "\n"
     ]
    },
    {
     "name": "stderr",
     "output_type": "stream",
     "text": [
      "100%|██████████████████████████████████████████████████████████████████████████████████| 41/41 [00:36<00:00,  1.14it/s]\n"
     ]
    },
    {
     "name": "stdout",
     "output_type": "stream",
     "text": [
      "Epoch [68/200], Average Loss: 3.4147, Average BLEU@1: 0.1320\n",
      "Epoch [68/200], Average Loss: 3.4147, Average BLEU@1: 0.1320, Teacher Forcing Ratio: 0.5325\n"
     ]
    },
    {
     "name": "stderr",
     "output_type": "stream",
     "text": [
      "  2%|██                                                                                 | 1/41 [00:00<00:36,  1.11it/s]"
     ]
    },
    {
     "name": "stdout",
     "output_type": "stream",
     "text": [
      "Epoch [69/200], Step [0/41], Loss: 3.5104, BLEU@1: 0.1724\n",
      "Sample prediction:\n",
      "Pred: 4 15 301 8 3 3 2 2 2 8 3 24 3 3 24 2 2 2 21 3 2 2 2 2 2 2 2 2 2\n",
      "Target: 92 15 409 8 94 542 1718 63 140 8 1927 1250 12 21 580 15 1246 291 811 2 0 0 0 0 0 0 0 0 0\n",
      "\n"
     ]
    },
    {
     "name": "stderr",
     "output_type": "stream",
     "text": [
      "100%|██████████████████████████████████████████████████████████████████████████████████| 41/41 [00:36<00:00,  1.14it/s]\n"
     ]
    },
    {
     "name": "stdout",
     "output_type": "stream",
     "text": [
      "Epoch [69/200], Average Loss: 3.4671, Average BLEU@1: 0.1253\n",
      "Epoch [69/200], Average Loss: 3.4671, Average BLEU@1: 0.1253, Teacher Forcing Ratio: 0.5300\n"
     ]
    },
    {
     "name": "stderr",
     "output_type": "stream",
     "text": [
      "  2%|██                                                                                 | 1/41 [00:00<00:35,  1.13it/s]"
     ]
    },
    {
     "name": "stdout",
     "output_type": "stream",
     "text": [
      "Epoch [70/200], Step [0/41], Loss: 3.5646, BLEU@1: 0.1034\n",
      "Sample prediction:\n",
      "Pred: 156 424 157 517 2 31 8 3 2 2 2 2 2 3 2 2 2 2 2 2 3 2 2 2 2 2 2 2 2\n",
      "Target: 338 533 157 234 1308 26 8 2328 2 0 0 0 0 0 0 0 0 0 0 0 0 0 0 0 0 0 0 0 0\n",
      "\n"
     ]
    },
    {
     "name": "stderr",
     "output_type": "stream",
     "text": [
      "100%|██████████████████████████████████████████████████████████████████████████████████| 41/41 [00:36<00:00,  1.13it/s]\n"
     ]
    },
    {
     "name": "stdout",
     "output_type": "stream",
     "text": [
      "Epoch [70/200], Average Loss: 3.3856, Average BLEU@1: 0.1463\n",
      "Epoch [70/200], Average Loss: 3.3856, Average BLEU@1: 0.1463, Teacher Forcing Ratio: 0.5275\n"
     ]
    },
    {
     "name": "stderr",
     "output_type": "stream",
     "text": [
      "  2%|██                                                                                 | 1/41 [00:00<00:37,  1.05it/s]"
     ]
    },
    {
     "name": "stdout",
     "output_type": "stream",
     "text": [
      "Epoch [71/200], Step [0/41], Loss: 3.6674, BLEU@1: 0.2414\n",
      "Sample prediction:\n",
      "Pred: 156 374 15 301 8 3 3 2 2 3 2 21 3 24 21 3 2 2 2 2 2 2 2 2 2 2 2 2 2\n",
      "Target: 4 57 15 409 8 1283 932 3 8 1383 1612 21 1162 24 8 3 1860 1328 50 1467 254 2 0 0 0 0 0 0 0\n",
      "\n"
     ]
    },
    {
     "name": "stderr",
     "output_type": "stream",
     "text": [
      "100%|██████████████████████████████████████████████████████████████████████████████████| 41/41 [00:36<00:00,  1.13it/s]\n"
     ]
    },
    {
     "name": "stdout",
     "output_type": "stream",
     "text": [
      "Epoch [71/200], Average Loss: 3.4351, Average BLEU@1: 0.1295\n",
      "Epoch [71/200], Average Loss: 3.4351, Average BLEU@1: 0.1295, Teacher Forcing Ratio: 0.5250\n"
     ]
    },
    {
     "name": "stderr",
     "output_type": "stream",
     "text": [
      "  2%|██                                                                                 | 1/41 [00:00<00:38,  1.03it/s]"
     ]
    },
    {
     "name": "stdout",
     "output_type": "stream",
     "text": [
      "Epoch [72/200], Step [0/41], Loss: 3.4601, BLEU@1: 0.1034\n",
      "Sample prediction:\n",
      "Pred: 156 424 157 517 8 3 2 2 2 2 2 2 21 3 2 2 2 2 2 2 2 2 2 2 2 2 2 2 2\n",
      "Target: 338 1816 157 447 21 738 2 0 0 0 0 0 0 0 0 0 0 0 0 0 0 0 0 0 0 0 0 0 0\n",
      "\n"
     ]
    },
    {
     "name": "stderr",
     "output_type": "stream",
     "text": [
      "100%|██████████████████████████████████████████████████████████████████████████████████| 41/41 [00:36<00:00,  1.11it/s]\n"
     ]
    },
    {
     "name": "stdout",
     "output_type": "stream",
     "text": [
      "Epoch [72/200], Average Loss: 3.3797, Average BLEU@1: 0.1346\n",
      "Epoch [72/200], Average Loss: 3.3797, Average BLEU@1: 0.1346, Teacher Forcing Ratio: 0.5225\n"
     ]
    },
    {
     "name": "stderr",
     "output_type": "stream",
     "text": [
      "  2%|██                                                                                 | 1/41 [00:00<00:36,  1.11it/s]"
     ]
    },
    {
     "name": "stdout",
     "output_type": "stream",
     "text": [
      "Epoch [73/200], Step [0/41], Loss: 3.4092, BLEU@1: 0.1724\n",
      "Sample prediction:\n",
      "Pred: 4 57 15 301 8 596 2 2 2 2 26 8 2 2 26 8 3 24 21 3 2 2 2 2 21 2 2 2 2\n",
      "Target: 4 57 15 301 420 2 0 0 0 0 0 0 0 0 0 0 0 0 0 0 0 0 0 0 0 0 0 0 0\n",
      "\n"
     ]
    },
    {
     "name": "stderr",
     "output_type": "stream",
     "text": [
      "100%|██████████████████████████████████████████████████████████████████████████████████| 41/41 [00:36<00:00,  1.13it/s]\n"
     ]
    },
    {
     "name": "stdout",
     "output_type": "stream",
     "text": [
      "Epoch [73/200], Average Loss: 3.4255, Average BLEU@1: 0.1480\n",
      "Epoch [73/200], Average Loss: 3.4255, Average BLEU@1: 0.1480, Teacher Forcing Ratio: 0.5200\n"
     ]
    },
    {
     "name": "stderr",
     "output_type": "stream",
     "text": [
      "  2%|██                                                                                 | 1/41 [00:00<00:35,  1.13it/s]"
     ]
    },
    {
     "name": "stdout",
     "output_type": "stream",
     "text": [
      "Epoch [74/200], Step [0/41], Loss: 3.2931, BLEU@1: 0.2069\n",
      "Sample prediction:\n",
      "Pred: 156 424 157 301 2 3 31 8 3 2 2 2 2 3 2 2 2 2 2 2 8 2 2 2 2 8 3 2 2\n",
      "Target: 4 3 162 3 8 796 3 1091 3 2 0 0 0 0 0 0 0 0 0 0 0 0 0 0 0 0 0 0 0\n",
      "\n"
     ]
    },
    {
     "name": "stderr",
     "output_type": "stream",
     "text": [
      "100%|██████████████████████████████████████████████████████████████████████████████████| 41/41 [00:36<00:00,  1.13it/s]\n"
     ]
    },
    {
     "name": "stdout",
     "output_type": "stream",
     "text": [
      "Epoch [74/200], Average Loss: 3.3881, Average BLEU@1: 0.1421\n",
      "Epoch [74/200], Average Loss: 3.3881, Average BLEU@1: 0.1421, Teacher Forcing Ratio: 0.5175\n"
     ]
    },
    {
     "name": "stderr",
     "output_type": "stream",
     "text": [
      "  2%|██                                                                                 | 1/41 [00:00<00:35,  1.14it/s]"
     ]
    },
    {
     "name": "stdout",
     "output_type": "stream",
     "text": [
      "Epoch [75/200], Step [0/41], Loss: 2.9316, BLEU@1: 0.2069\n",
      "Sample prediction:\n",
      "Pred: 4 580 15 26 8 26 8 3 2 2 8 26 3 8 3 12 3 3 2 2 8 3 2 2 2 2 2 2 2\n",
      "Target: 4 1851 605 12 204 26 8 1758 1230 184 605 12 1462 8 57 112 2 0 0 0 0 0 0 0 0 0 0 0 0\n",
      "\n"
     ]
    },
    {
     "name": "stderr",
     "output_type": "stream",
     "text": [
      "100%|██████████████████████████████████████████████████████████████████████████████████| 41/41 [00:36<00:00,  1.12it/s]\n"
     ]
    },
    {
     "name": "stdout",
     "output_type": "stream",
     "text": [
      "Epoch [75/200], Average Loss: 3.3682, Average BLEU@1: 0.1514\n",
      "Epoch [75/200], Average Loss: 3.3682, Average BLEU@1: 0.1514, Teacher Forcing Ratio: 0.5150\n"
     ]
    },
    {
     "name": "stderr",
     "output_type": "stream",
     "text": [
      "  2%|██                                                                                 | 1/41 [00:01<00:41,  1.03s/it]"
     ]
    },
    {
     "name": "stdout",
     "output_type": "stream",
     "text": [
      "Epoch [76/200], Step [0/41], Loss: 3.4661, BLEU@1: 0.1379\n",
      "Sample prediction:\n",
      "Pred: 4 5 15 58 8 2 8 2 24 8 2 2 2 2 2 8 3 2 2 2 2 2 2 2 2 2 8 3 2\n",
      "Target: 4 5 15 397 75 228 1347 62 60 1164 710 2 0 0 0 0 0 0 0 0 0 0 0 0 0 0 0 0 0\n",
      "\n"
     ]
    },
    {
     "name": "stderr",
     "output_type": "stream",
     "text": [
      "100%|██████████████████████████████████████████████████████████████████████████████████| 41/41 [00:36<00:00,  1.14it/s]\n"
     ]
    },
    {
     "name": "stdout",
     "output_type": "stream",
     "text": [
      "Epoch [76/200], Average Loss: 3.3840, Average BLEU@1: 0.1312\n",
      "Epoch [76/200], Average Loss: 3.3840, Average BLEU@1: 0.1312, Teacher Forcing Ratio: 0.5125\n"
     ]
    },
    {
     "name": "stderr",
     "output_type": "stream",
     "text": [
      "  2%|██                                                                                 | 1/41 [00:00<00:37,  1.08it/s]"
     ]
    },
    {
     "name": "stdout",
     "output_type": "stream",
     "text": [
      "Epoch [77/200], Step [0/41], Loss: 3.3055, BLEU@1: 0.1034\n",
      "Sample prediction:\n",
      "Pred: 4 57 15 8 3 2 8 2 8 3 2 2 2 8 2 2 2 21 2 2 2 26 26 26 26 21 2 2 2\n",
      "Target: 4 79 444 8 187 2 0 0 0 0 0 0 0 0 0 0 0 0 0 0 0 0 0 0 0 0 0 0 0\n",
      "\n"
     ]
    },
    {
     "name": "stderr",
     "output_type": "stream",
     "text": [
      "100%|██████████████████████████████████████████████████████████████████████████████████| 41/41 [00:36<00:00,  1.13it/s]\n"
     ]
    },
    {
     "name": "stdout",
     "output_type": "stream",
     "text": [
      "Epoch [77/200], Average Loss: 3.3905, Average BLEU@1: 0.1371\n",
      "Epoch [77/200], Average Loss: 3.3905, Average BLEU@1: 0.1371, Teacher Forcing Ratio: 0.5100\n"
     ]
    },
    {
     "name": "stderr",
     "output_type": "stream",
     "text": [
      "  2%|██                                                                                 | 1/41 [00:00<00:37,  1.07it/s]"
     ]
    },
    {
     "name": "stdout",
     "output_type": "stream",
     "text": [
      "Epoch [78/200], Step [0/41], Loss: 3.0546, BLEU@1: 0.1034\n",
      "Sample prediction:\n",
      "Pred: 4 122 15 26 21 3 2 2 2 2 31 31 21 2 2 2 2 2 24 21 2 2 2 2 2 2 2 2 2\n",
      "Target: 55 1629 924 26 21 1626 2 0 0 0 0 0 0 0 0 0 0 0 0 0 0 0 0 0 0 0 0 0 0\n",
      "\n"
     ]
    },
    {
     "name": "stderr",
     "output_type": "stream",
     "text": [
      "100%|██████████████████████████████████████████████████████████████████████████████████| 41/41 [00:36<00:00,  1.13it/s]\n"
     ]
    },
    {
     "name": "stdout",
     "output_type": "stream",
     "text": [
      "Epoch [78/200], Average Loss: 3.4213, Average BLEU@1: 0.1287\n",
      "Epoch [78/200], Average Loss: 3.4213, Average BLEU@1: 0.1287, Teacher Forcing Ratio: 0.5075\n"
     ]
    },
    {
     "name": "stderr",
     "output_type": "stream",
     "text": [
      "  2%|██                                                                                 | 1/41 [00:00<00:34,  1.15it/s]"
     ]
    },
    {
     "name": "stdout",
     "output_type": "stream",
     "text": [
      "Epoch [79/200], Step [0/41], Loss: 3.0438, BLEU@1: 0.1379\n",
      "Sample prediction:\n",
      "Pred: 4 57 15 301 8 2 2 8 3 2 2 2 2 8 3 2 2 2 2 2 2 2 2 2 2 2 2 2 2\n",
      "Target: 4 57 15 524 352 2023 153 203 257 2 0 0 0 0 0 0 0 0 0 0 0 0 0 0 0 0 0 0 0\n",
      "\n"
     ]
    },
    {
     "name": "stderr",
     "output_type": "stream",
     "text": [
      "100%|██████████████████████████████████████████████████████████████████████████████████| 41/41 [00:35<00:00,  1.14it/s]\n"
     ]
    },
    {
     "name": "stdout",
     "output_type": "stream",
     "text": [
      "Epoch [79/200], Average Loss: 3.4346, Average BLEU@1: 0.1295\n",
      "Epoch [79/200], Average Loss: 3.4346, Average BLEU@1: 0.1295, Teacher Forcing Ratio: 0.5050\n"
     ]
    },
    {
     "name": "stderr",
     "output_type": "stream",
     "text": [
      "  2%|██                                                                                 | 1/41 [00:00<00:36,  1.08it/s]"
     ]
    },
    {
     "name": "stdout",
     "output_type": "stream",
     "text": [
      "Epoch [80/200], Step [0/41], Loss: 2.8793, BLEU@1: 0.1034\n",
      "Sample prediction:\n",
      "Pred: 4 3 15 26 21 3 2 2 2 2 2 2 2 2 2 2 2 21 2 2 2 2 2 2 2 2 2 2 2\n",
      "Target: 83 987 3 31 21 563 2 0 0 0 0 0 0 0 0 0 0 0 0 0 0 0 0 0 0 0 0 0 0\n",
      "\n"
     ]
    },
    {
     "name": "stderr",
     "output_type": "stream",
     "text": [
      "100%|██████████████████████████████████████████████████████████████████████████████████| 41/41 [00:36<00:00,  1.14it/s]\n"
     ]
    },
    {
     "name": "stdout",
     "output_type": "stream",
     "text": [
      "Epoch [80/200], Average Loss: 3.3948, Average BLEU@1: 0.1371\n",
      "Epoch [80/200], Average Loss: 3.3948, Average BLEU@1: 0.1371, Teacher Forcing Ratio: 0.5025\n"
     ]
    },
    {
     "name": "stderr",
     "output_type": "stream",
     "text": [
      "  2%|██                                                                                 | 1/41 [00:00<00:36,  1.09it/s]"
     ]
    },
    {
     "name": "stdout",
     "output_type": "stream",
     "text": [
      "Epoch [81/200], Step [0/41], Loss: 3.1411, BLEU@1: 0.1034\n",
      "Sample prediction:\n",
      "Pred: 4 580 15 8 8 8 2 2 2 2 2 2 2 21 3 2 2 2 2 2 2 2 2 2 2 2 2 2 2\n",
      "Target: 4 304 15 51 31 378 2 0 0 0 0 0 0 0 0 0 0 0 0 0 0 0 0 0 0 0 0 0 0\n",
      "\n"
     ]
    },
    {
     "name": "stderr",
     "output_type": "stream",
     "text": [
      "100%|██████████████████████████████████████████████████████████████████████████████████| 41/41 [00:36<00:00,  1.12it/s]\n"
     ]
    },
    {
     "name": "stdout",
     "output_type": "stream",
     "text": [
      "Epoch [81/200], Average Loss: 3.3381, Average BLEU@1: 0.1438\n",
      "Epoch [81/200], Average Loss: 3.3381, Average BLEU@1: 0.1438, Teacher Forcing Ratio: 0.5000\n"
     ]
    },
    {
     "name": "stderr",
     "output_type": "stream",
     "text": [
      "  2%|██                                                                                 | 1/41 [00:00<00:35,  1.13it/s]"
     ]
    },
    {
     "name": "stdout",
     "output_type": "stream",
     "text": [
      "Epoch [82/200], Step [0/41], Loss: 3.1576, BLEU@1: 0.2069\n",
      "Sample prediction:\n",
      "Pred: 156 424 157 301 2 2 2 8 24 8 3 2 2 2 2 2 2 3 2 2 21 2 2 2 2 2 8 3 2\n",
      "Target: 156 1329 157 301 3 12 160 1402 861 8 2069 2 0 0 0 0 0 0 0 0 0 0 0 0 0 0 0 0 0\n",
      "\n"
     ]
    },
    {
     "name": "stderr",
     "output_type": "stream",
     "text": [
      "100%|██████████████████████████████████████████████████████████████████████████████████| 41/41 [00:36<00:00,  1.12it/s]\n"
     ]
    },
    {
     "name": "stdout",
     "output_type": "stream",
     "text": [
      "Epoch [82/200], Average Loss: 3.3720, Average BLEU@1: 0.1573\n",
      "Epoch [82/200], Average Loss: 3.3720, Average BLEU@1: 0.1573, Teacher Forcing Ratio: 0.4975\n"
     ]
    },
    {
     "name": "stderr",
     "output_type": "stream",
     "text": [
      "  2%|██                                                                                 | 1/41 [00:00<00:34,  1.15it/s]"
     ]
    },
    {
     "name": "stdout",
     "output_type": "stream",
     "text": [
      "Epoch [83/200], Step [0/41], Loss: 3.3899, BLEU@1: 0.1724\n",
      "Sample prediction:\n",
      "Pred: 4 57 15 186 8 3 2 2 2 2 2 2 8 3 2 2 2 3 2 21 2 2 3 2 2 2 2 2 2\n",
      "Target: 4 57 186 8 11 615 423 1980 2 0 0 0 0 0 0 0 0 0 0 0 0 0 0 0 0 0 0 0 0\n",
      "\n"
     ]
    },
    {
     "name": "stderr",
     "output_type": "stream",
     "text": [
      "100%|██████████████████████████████████████████████████████████████████████████████████| 41/41 [00:36<00:00,  1.12it/s]\n"
     ]
    },
    {
     "name": "stdout",
     "output_type": "stream",
     "text": [
      "Epoch [83/200], Average Loss: 3.3842, Average BLEU@1: 0.1253\n",
      "Epoch [83/200], Average Loss: 3.3842, Average BLEU@1: 0.1253, Teacher Forcing Ratio: 0.4950\n"
     ]
    },
    {
     "name": "stderr",
     "output_type": "stream",
     "text": [
      "  2%|██                                                                                 | 1/41 [00:00<00:37,  1.07it/s]"
     ]
    },
    {
     "name": "stdout",
     "output_type": "stream",
     "text": [
      "Epoch [84/200], Step [0/41], Loss: 3.3378, BLEU@1: 0.1724\n",
      "Sample prediction:\n",
      "Pred: 4 5 15 58 8 2 2 2 8 60 24 8 24 8 2 2 2 2 2 2 2 2 8 3 2 2 2 2 140\n",
      "Target: 4 5 15 65 455 60 1801 2 0 0 0 0 0 0 0 0 0 0 0 0 0 0 0 0 0 0 0 0 0\n",
      "\n"
     ]
    },
    {
     "name": "stderr",
     "output_type": "stream",
     "text": [
      "100%|██████████████████████████████████████████████████████████████████████████████████| 41/41 [00:36<00:00,  1.14it/s]\n"
     ]
    },
    {
     "name": "stdout",
     "output_type": "stream",
     "text": [
      "Epoch [84/200], Average Loss: 3.3683, Average BLEU@1: 0.1320\n",
      "Epoch [84/200], Average Loss: 3.3683, Average BLEU@1: 0.1320, Teacher Forcing Ratio: 0.4925\n"
     ]
    },
    {
     "name": "stderr",
     "output_type": "stream",
     "text": [
      "  2%|██                                                                                 | 1/41 [00:00<00:35,  1.11it/s]"
     ]
    },
    {
     "name": "stdout",
     "output_type": "stream",
     "text": [
      "Epoch [85/200], Step [0/41], Loss: 3.5115, BLEU@1: 0.0345\n",
      "Sample prediction:\n",
      "Pred: 4 57 15 21 596 2 2 8 2 8 3 24 2 8 2 2 31 31 8 2 2 31 31 8 3 24 2 2 2\n",
      "Target: 55 37 2590 17 624 1865 2 0 0 0 0 0 0 0 0 0 0 0 0 0 0 0 0 0 0 0 0 0 0\n",
      "\n"
     ]
    },
    {
     "name": "stderr",
     "output_type": "stream",
     "text": [
      "100%|██████████████████████████████████████████████████████████████████████████████████| 41/41 [00:36<00:00,  1.13it/s]\n"
     ]
    },
    {
     "name": "stdout",
     "output_type": "stream",
     "text": [
      "Epoch [85/200], Average Loss: 3.4515, Average BLEU@1: 0.1438\n",
      "Epoch [85/200], Average Loss: 3.4515, Average BLEU@1: 0.1438, Teacher Forcing Ratio: 0.4900\n"
     ]
    },
    {
     "name": "stderr",
     "output_type": "stream",
     "text": [
      "  2%|██                                                                                 | 1/41 [00:00<00:34,  1.16it/s]"
     ]
    },
    {
     "name": "stdout",
     "output_type": "stream",
     "text": [
      "Epoch [86/200], Step [0/41], Loss: 3.4615, BLEU@1: 0.0690\n",
      "Sample prediction:\n",
      "Pred: 156 157 157 2 2 2 2 2 2 2 2 2 2 3 2 2 3 2 2 2 3 2 2 2 3 2 2 2 3\n",
      "Target: 1111 157 301 2476 2 0 0 0 0 0 0 0 0 0 0 0 0 0 0 0 0 0 0 0 0 0 0 0 0\n",
      "\n"
     ]
    },
    {
     "name": "stderr",
     "output_type": "stream",
     "text": [
      "100%|██████████████████████████████████████████████████████████████████████████████████| 41/41 [00:36<00:00,  1.13it/s]\n"
     ]
    },
    {
     "name": "stdout",
     "output_type": "stream",
     "text": [
      "Epoch [86/200], Average Loss: 3.4670, Average BLEU@1: 0.1396\n",
      "Epoch [86/200], Average Loss: 3.4670, Average BLEU@1: 0.1396, Teacher Forcing Ratio: 0.4875\n"
     ]
    },
    {
     "name": "stderr",
     "output_type": "stream",
     "text": [
      "  2%|██                                                                                 | 1/41 [00:00<00:35,  1.11it/s]"
     ]
    },
    {
     "name": "stdout",
     "output_type": "stream",
     "text": [
      "Epoch [87/200], Step [0/41], Loss: 3.5454, BLEU@1: 0.1379\n",
      "Sample prediction:\n",
      "Pred: 4 57 15 58 8 2 8 8 2 2 2 24 24 31 8 60 8 3 2 2 2 2 8 12 2 140 8 2 2\n",
      "Target: 4 79 15 66 135 392 295 8 2616 2 0 0 0 0 0 0 0 0 0 0 0 0 0 0 0 0 0 0 0\n",
      "\n"
     ]
    },
    {
     "name": "stderr",
     "output_type": "stream",
     "text": [
      "100%|██████████████████████████████████████████████████████████████████████████████████| 41/41 [00:36<00:00,  1.12it/s]\n"
     ]
    },
    {
     "name": "stdout",
     "output_type": "stream",
     "text": [
      "Epoch [87/200], Average Loss: 3.3324, Average BLEU@1: 0.1421\n",
      "Epoch [87/200], Average Loss: 3.3324, Average BLEU@1: 0.1421, Teacher Forcing Ratio: 0.4850\n"
     ]
    },
    {
     "name": "stderr",
     "output_type": "stream",
     "text": [
      "  2%|██                                                                                 | 1/41 [00:00<00:36,  1.09it/s]"
     ]
    },
    {
     "name": "stdout",
     "output_type": "stream",
     "text": [
      "Epoch [88/200], Step [0/41], Loss: 3.1840, BLEU@1: 0.1034\n",
      "Sample prediction:\n",
      "Pred: 4 5 15 58 8 2 24 8 2 2 2 2 8 24 2 31 31 8 3 2 2 2 2 2 2 2 8 3 24\n",
      "Target: 55 5 15 131 21 1653 12 227 2 0 0 0 0 0 0 0 0 0 0 0 0 0 0 0 0 0 0 0 0\n",
      "\n"
     ]
    },
    {
     "name": "stderr",
     "output_type": "stream",
     "text": [
      "100%|██████████████████████████████████████████████████████████████████████████████████| 41/41 [00:36<00:00,  1.11it/s]\n"
     ]
    },
    {
     "name": "stdout",
     "output_type": "stream",
     "text": [
      "Epoch [88/200], Average Loss: 3.3783, Average BLEU@1: 0.1489\n",
      "Epoch [88/200], Average Loss: 3.3783, Average BLEU@1: 0.1489, Teacher Forcing Ratio: 0.4825\n"
     ]
    },
    {
     "name": "stderr",
     "output_type": "stream",
     "text": [
      "  2%|██                                                                                 | 1/41 [00:00<00:36,  1.09it/s]"
     ]
    },
    {
     "name": "stdout",
     "output_type": "stream",
     "text": [
      "Epoch [89/200], Step [0/41], Loss: 3.5299, BLEU@1: 0.0690\n",
      "Sample prediction:\n",
      "Pred: 156 424 157 517 2 2 2 2 2 2 8 3 2 2 2 3 2 2 2 2 2 2 2 2 2 2 2 2 2\n",
      "Target: 4 57 15 517 2 0 0 0 0 0 0 0 0 0 0 0 0 0 0 0 0 0 0 0 0 0 0 0 0\n",
      "\n"
     ]
    },
    {
     "name": "stderr",
     "output_type": "stream",
     "text": [
      "100%|██████████████████████████████████████████████████████████████████████████████████| 41/41 [00:36<00:00,  1.13it/s]\n"
     ]
    },
    {
     "name": "stdout",
     "output_type": "stream",
     "text": [
      "Epoch [89/200], Average Loss: 3.3624, Average BLEU@1: 0.1438\n",
      "Epoch [89/200], Average Loss: 3.3624, Average BLEU@1: 0.1438, Teacher Forcing Ratio: 0.4800\n"
     ]
    },
    {
     "name": "stderr",
     "output_type": "stream",
     "text": [
      "  2%|██                                                                                 | 1/41 [00:00<00:33,  1.18it/s]"
     ]
    },
    {
     "name": "stdout",
     "output_type": "stream",
     "text": [
      "Epoch [90/200], Step [0/41], Loss: 3.7239, BLEU@1: 0.1379\n",
      "Sample prediction:\n",
      "Pred: 4 5 15 58 8 2 2 2 2 2 2 2 2 2 2 2 2 8 2 24 8 2 2 2 2 8 2 2 2\n",
      "Target: 4 5 15 460 455 31 463 2 0 0 0 0 0 0 0 0 0 0 0 0 0 0 0 0 0 0 0 0 0\n",
      "\n"
     ]
    },
    {
     "name": "stderr",
     "output_type": "stream",
     "text": [
      "100%|██████████████████████████████████████████████████████████████████████████████████| 41/41 [00:36<00:00,  1.13it/s]\n"
     ]
    },
    {
     "name": "stdout",
     "output_type": "stream",
     "text": [
      "Epoch [90/200], Average Loss: 3.3319, Average BLEU@1: 0.1430\n",
      "Epoch [90/200], Average Loss: 3.3319, Average BLEU@1: 0.1430, Teacher Forcing Ratio: 0.4775\n"
     ]
    },
    {
     "name": "stderr",
     "output_type": "stream",
     "text": [
      "  2%|██                                                                                 | 1/41 [00:00<00:35,  1.12it/s]"
     ]
    },
    {
     "name": "stdout",
     "output_type": "stream",
     "text": [
      "Epoch [91/200], Step [0/41], Loss: 3.2582, BLEU@1: 0.1379\n",
      "Sample prediction:\n",
      "Pred: 4 580 15 301 8 3 2 2 2 2 2 3 2 2 26 21 3 3 2 3 2 2 3 2 2 2 3 3 2\n",
      "Target: 4 580 15 1351 289 1250 1292 2 0 0 0 0 0 0 0 0 0 0 0 0 0 0 0 0 0 0 0 0 0\n",
      "\n"
     ]
    },
    {
     "name": "stderr",
     "output_type": "stream",
     "text": [
      "100%|██████████████████████████████████████████████████████████████████████████████████| 41/41 [00:36<00:00,  1.13it/s]\n"
     ]
    },
    {
     "name": "stdout",
     "output_type": "stream",
     "text": [
      "Epoch [91/200], Average Loss: 3.3659, Average BLEU@1: 0.1396\n",
      "Epoch [91/200], Average Loss: 3.3659, Average BLEU@1: 0.1396, Teacher Forcing Ratio: 0.4750\n"
     ]
    },
    {
     "name": "stderr",
     "output_type": "stream",
     "text": [
      "  2%|██                                                                                 | 1/41 [00:00<00:36,  1.09it/s]"
     ]
    },
    {
     "name": "stdout",
     "output_type": "stream",
     "text": [
      "Epoch [92/200], Step [0/41], Loss: 3.8418, BLEU@1: 0.2069\n",
      "Sample prediction:\n",
      "Pred: 4 57 15 8 3 2 8 3 3 2 2 2 2 2 2 2 24 8 3 24 8 24 2 140 140 140 8 3 2\n",
      "Target: 4 57 3 21 1259 24 72 745 606 1260 259 8 1261 2 0 0 0 0 0 0 0 0 0 0 0 0 0 0 0\n",
      "\n"
     ]
    },
    {
     "name": "stderr",
     "output_type": "stream",
     "text": [
      "100%|██████████████████████████████████████████████████████████████████████████████████| 41/41 [00:36<00:00,  1.13it/s]\n"
     ]
    },
    {
     "name": "stdout",
     "output_type": "stream",
     "text": [
      "Epoch [92/200], Average Loss: 3.3824, Average BLEU@1: 0.1405\n",
      "Epoch [92/200], Average Loss: 3.3824, Average BLEU@1: 0.1405, Teacher Forcing Ratio: 0.4725\n"
     ]
    },
    {
     "name": "stderr",
     "output_type": "stream",
     "text": [
      "  2%|██                                                                                 | 1/41 [00:00<00:36,  1.09it/s]"
     ]
    },
    {
     "name": "stdout",
     "output_type": "stream",
     "text": [
      "Epoch [93/200], Step [0/41], Loss: 2.9618, BLEU@1: 0.2759\n",
      "Sample prediction:\n",
      "Pred: 4 57 15 26 8 3 12 2 21 2 2 2 21 3 12 2 21 3 24 21 3 2 2 2 2 2 2 2 2\n",
      "Target: 4 185 158 291 8 898 717 899 8 57 3 383 21 717 12 900 8 22 3 2 0 0 0 0 0 0 0 0 0\n",
      "\n"
     ]
    },
    {
     "name": "stderr",
     "output_type": "stream",
     "text": [
      "100%|██████████████████████████████████████████████████████████████████████████████████| 41/41 [00:36<00:00,  1.13it/s]\n"
     ]
    },
    {
     "name": "stdout",
     "output_type": "stream",
     "text": [
      "Epoch [93/200], Average Loss: 3.3130, Average BLEU@1: 0.1430\n",
      "Epoch [93/200], Average Loss: 3.3130, Average BLEU@1: 0.1430, Teacher Forcing Ratio: 0.4700\n"
     ]
    },
    {
     "name": "stderr",
     "output_type": "stream",
     "text": [
      "  2%|██                                                                                 | 1/41 [00:00<00:36,  1.11it/s]"
     ]
    },
    {
     "name": "stdout",
     "output_type": "stream",
     "text": [
      "Epoch [94/200], Step [0/41], Loss: 2.9349, BLEU@1: 0.2069\n",
      "Sample prediction:\n",
      "Pred: 4 57 15 8 8 2 8 3 2 2 2 2 2 2 2 3 2 2 26 21 3 2 2 2 2 2 2 26 26\n",
      "Target: 4 57 15 234 255 26 21 918 2 0 0 0 0 0 0 0 0 0 0 0 0 0 0 0 0 0 0 0 0\n",
      "\n"
     ]
    },
    {
     "name": "stderr",
     "output_type": "stream",
     "text": [
      "100%|██████████████████████████████████████████████████████████████████████████████████| 41/41 [00:36<00:00,  1.12it/s]\n"
     ]
    },
    {
     "name": "stdout",
     "output_type": "stream",
     "text": [
      "Epoch [94/200], Average Loss: 3.3012, Average BLEU@1: 0.1556\n",
      "Epoch [94/200], Average Loss: 3.3012, Average BLEU@1: 0.1556, Teacher Forcing Ratio: 0.4675\n"
     ]
    },
    {
     "name": "stderr",
     "output_type": "stream",
     "text": [
      "  2%|██                                                                                 | 1/41 [00:00<00:36,  1.11it/s]"
     ]
    },
    {
     "name": "stdout",
     "output_type": "stream",
     "text": [
      "Epoch [95/200], Step [0/41], Loss: 3.0140, BLEU@1: 0.1034\n",
      "Sample prediction:\n",
      "Pred: 4 57 15 8 3 2 21 2 8 3 2 2 2 2 2 31 21 2 2 2 2 2 2 2 2 2 2 2 2\n",
      "Target: 4 185 86 203 3 2 0 0 0 0 0 0 0 0 0 0 0 0 0 0 0 0 0 0 0 0 0 0 0\n",
      "\n"
     ]
    },
    {
     "name": "stderr",
     "output_type": "stream",
     "text": [
      "100%|██████████████████████████████████████████████████████████████████████████████████| 41/41 [00:36<00:00,  1.14it/s]\n"
     ]
    },
    {
     "name": "stdout",
     "output_type": "stream",
     "text": [
      "Epoch [95/200], Average Loss: 3.3268, Average BLEU@1: 0.1421\n",
      "Epoch [95/200], Average Loss: 3.3268, Average BLEU@1: 0.1421, Teacher Forcing Ratio: 0.4650\n"
     ]
    },
    {
     "name": "stderr",
     "output_type": "stream",
     "text": [
      "  2%|██                                                                                 | 1/41 [00:00<00:35,  1.13it/s]"
     ]
    },
    {
     "name": "stdout",
     "output_type": "stream",
     "text": [
      "Epoch [96/200], Step [0/41], Loss: 3.3181, BLEU@1: 0.0690\n",
      "Sample prediction:\n",
      "Pred: 4 424 15 15 2 21 3 2 2 2 2 2 2 2 2 2 2 2 2 2 2 2 2 2 2 2 2 2 2\n",
      "Target: 55 2122 244 1308 31 21 1368 2 0 0 0 0 0 0 0 0 0 0 0 0 0 0 0 0 0 0 0 0 0\n",
      "\n"
     ]
    },
    {
     "name": "stderr",
     "output_type": "stream",
     "text": [
      "100%|██████████████████████████████████████████████████████████████████████████████████| 41/41 [00:36<00:00,  1.14it/s]\n"
     ]
    },
    {
     "name": "stdout",
     "output_type": "stream",
     "text": [
      "Epoch [96/200], Average Loss: 3.3036, Average BLEU@1: 0.1430\n",
      "Epoch [96/200], Average Loss: 3.3036, Average BLEU@1: 0.1430, Teacher Forcing Ratio: 0.4625\n"
     ]
    },
    {
     "name": "stderr",
     "output_type": "stream",
     "text": [
      "  2%|██                                                                                 | 1/41 [00:00<00:36,  1.11it/s]"
     ]
    },
    {
     "name": "stdout",
     "output_type": "stream",
     "text": [
      "Epoch [97/200], Step [0/41], Loss: 3.3908, BLEU@1: 0.1034\n",
      "Sample prediction:\n",
      "Pred: 4 304 15 15 8 21 3 2 2 2 2 2 21 2 2 2 2 2 2 2 2 2 2 2 2 2 2 2 2\n",
      "Target: 55 504 304 742 603 21 508 2 0 0 0 0 0 0 0 0 0 0 0 0 0 0 0 0 0 0 0 0 0\n",
      "\n"
     ]
    },
    {
     "name": "stderr",
     "output_type": "stream",
     "text": [
      "100%|██████████████████████████████████████████████████████████████████████████████████| 41/41 [00:36<00:00,  1.13it/s]\n"
     ]
    },
    {
     "name": "stdout",
     "output_type": "stream",
     "text": [
      "Epoch [97/200], Average Loss: 3.2825, Average BLEU@1: 0.1421\n",
      "Epoch [97/200], Average Loss: 3.2825, Average BLEU@1: 0.1421, Teacher Forcing Ratio: 0.4600\n"
     ]
    },
    {
     "name": "stderr",
     "output_type": "stream",
     "text": [
      "  2%|██                                                                                 | 1/41 [00:00<00:35,  1.13it/s]"
     ]
    },
    {
     "name": "stdout",
     "output_type": "stream",
     "text": [
      "Epoch [98/200], Step [0/41], Loss: 2.9221, BLEU@1: 0.2069\n",
      "Sample prediction:\n",
      "Pred: 4 79 15 58 8 2 24 3 2 2 2 2 8 2 2 2 8 2 2 8 2 2 31 8 2 2 2 8 2\n",
      "Target: 4 79 15 131 8 121 24 707 2 0 0 0 0 0 0 0 0 0 0 0 0 0 0 0 0 0 0 0 0\n",
      "\n"
     ]
    },
    {
     "name": "stderr",
     "output_type": "stream",
     "text": [
      "100%|██████████████████████████████████████████████████████████████████████████████████| 41/41 [00:37<00:00,  1.11it/s]\n"
     ]
    },
    {
     "name": "stdout",
     "output_type": "stream",
     "text": [
      "Epoch [98/200], Average Loss: 3.3276, Average BLEU@1: 0.1413\n",
      "Epoch [98/200], Average Loss: 3.3276, Average BLEU@1: 0.1413, Teacher Forcing Ratio: 0.4575\n"
     ]
    },
    {
     "name": "stderr",
     "output_type": "stream",
     "text": [
      "  2%|██                                                                                 | 1/41 [00:00<00:34,  1.15it/s]"
     ]
    },
    {
     "name": "stdout",
     "output_type": "stream",
     "text": [
      "Epoch [99/200], Step [0/41], Loss: 3.3238, BLEU@1: 0.2069\n",
      "Sample prediction:\n",
      "Pred: 4 57 15 8 8 26 26 8 3 2 2 3 2 3 2 2 3 2 2 3 3 2 2 2 3 3 140 140 8\n",
      "Target: 4 412 57 15 1170 1171 60 8 1172 24 1173 153 8 208 2 0 0 0 0 0 0 0 0 0 0 0 0 0 0\n",
      "\n"
     ]
    },
    {
     "name": "stderr",
     "output_type": "stream",
     "text": [
      "100%|██████████████████████████████████████████████████████████████████████████████████| 41/41 [00:36<00:00,  1.11it/s]\n"
     ]
    },
    {
     "name": "stdout",
     "output_type": "stream",
     "text": [
      "Epoch [99/200], Average Loss: 3.3159, Average BLEU@1: 0.1463\n",
      "Epoch [99/200], Average Loss: 3.3159, Average BLEU@1: 0.1463, Teacher Forcing Ratio: 0.4550\n"
     ]
    },
    {
     "name": "stderr",
     "output_type": "stream",
     "text": [
      "  2%|██                                                                                 | 1/41 [00:00<00:36,  1.08it/s]"
     ]
    },
    {
     "name": "stdout",
     "output_type": "stream",
     "text": [
      "Epoch [100/200], Step [0/41], Loss: 3.1268, BLEU@1: 0.1379\n",
      "Sample prediction:\n",
      "Pred: 4 304 15 301 8 3 2 2 2 2 2 140 140 140 21 24 2 140 140 21 24 21 3 24 21 140 21 24 2\n",
      "Target: 4 1350 15 1351 8 28 257 2 0 0 0 0 0 0 0 0 0 0 0 0 0 0 0 0 0 0 0 0 0\n",
      "\n"
     ]
    },
    {
     "name": "stderr",
     "output_type": "stream",
     "text": [
      "100%|██████████████████████████████████████████████████████████████████████████████████| 41/41 [00:36<00:00,  1.12it/s]\n"
     ]
    },
    {
     "name": "stdout",
     "output_type": "stream",
     "text": [
      "Epoch [100/200], Average Loss: 3.2839, Average BLEU@1: 0.1312\n",
      "Epoch [100/200], Average Loss: 3.2839, Average BLEU@1: 0.1312, Teacher Forcing Ratio: 0.4525\n"
     ]
    },
    {
     "name": "stderr",
     "output_type": "stream",
     "text": [
      "  2%|██                                                                                 | 1/41 [00:00<00:37,  1.07it/s]"
     ]
    },
    {
     "name": "stdout",
     "output_type": "stream",
     "text": [
      "Epoch [101/200], Step [0/41], Loss: 3.4152, BLEU@1: 0.0690\n",
      "Sample prediction:\n",
      "Pred: 4 122 15 15 2 21 2 2 2 2 21 3 2 2 2 2 2 2 2 2 2 2 2 2 2 140 140 21 31\n",
      "Target: 55 122 2954 559 203 1493 2 0 0 0 0 0 0 0 0 0 0 0 0 0 0 0 0 0 0 0 0 0 0\n",
      "\n"
     ]
    },
    {
     "name": "stderr",
     "output_type": "stream",
     "text": [
      "100%|██████████████████████████████████████████████████████████████████████████████████| 41/41 [00:36<00:00,  1.11it/s]\n"
     ]
    },
    {
     "name": "stdout",
     "output_type": "stream",
     "text": [
      "Epoch [101/200], Average Loss: 3.4027, Average BLEU@1: 0.1388\n",
      "Epoch [101/200], Average Loss: 3.4027, Average BLEU@1: 0.1388, Teacher Forcing Ratio: 0.4500\n"
     ]
    },
    {
     "name": "stderr",
     "output_type": "stream",
     "text": [
      "  2%|██                                                                                 | 1/41 [00:01<00:40,  1.01s/it]"
     ]
    },
    {
     "name": "stdout",
     "output_type": "stream",
     "text": [
      "Epoch [102/200], Step [0/41], Loss: 3.8551, BLEU@1: 0.1724\n",
      "Sample prediction:\n",
      "Pred: 4 57 15 186 8 8 2 26 8 3 2 2 8 3 2 2 2 2 26 21 3 2 2 2 2 2 2 2 2\n",
      "Target: 4 57 15 602 207 8 1444 12 1448 2 0 0 0 0 0 0 0 0 0 0 0 0 0 0 0 0 0 0 0\n",
      "\n"
     ]
    },
    {
     "name": "stderr",
     "output_type": "stream",
     "text": [
      "100%|██████████████████████████████████████████████████████████████████████████████████| 41/41 [00:37<00:00,  1.10it/s]\n"
     ]
    },
    {
     "name": "stdout",
     "output_type": "stream",
     "text": [
      "Epoch [102/200], Average Loss: 3.3483, Average BLEU@1: 0.1388\n",
      "Epoch [102/200], Average Loss: 3.3483, Average BLEU@1: 0.1388, Teacher Forcing Ratio: 0.4475\n"
     ]
    },
    {
     "name": "stderr",
     "output_type": "stream",
     "text": [
      "  2%|██                                                                                 | 1/41 [00:00<00:35,  1.14it/s]"
     ]
    },
    {
     "name": "stdout",
     "output_type": "stream",
     "text": [
      "Epoch [103/200], Step [0/41], Loss: 3.5574, BLEU@1: 0.0690\n",
      "Sample prediction:\n",
      "Pred: 156 157 157 2 3 2 2 2 2 2 2 2 2 2 2 2 2 2 2 2 2 2 2 2 2 2 2 2 2\n",
      "Target: 530 157 361 12 517 2 0 0 0 0 0 0 0 0 0 0 0 0 0 0 0 0 0 0 0 0 0 0 0\n",
      "\n"
     ]
    },
    {
     "name": "stderr",
     "output_type": "stream",
     "text": [
      "100%|██████████████████████████████████████████████████████████████████████████████████| 41/41 [00:36<00:00,  1.12it/s]\n"
     ]
    },
    {
     "name": "stdout",
     "output_type": "stream",
     "text": [
      "Epoch [103/200], Average Loss: 3.3162, Average BLEU@1: 0.1371\n",
      "Epoch [103/200], Average Loss: 3.3162, Average BLEU@1: 0.1371, Teacher Forcing Ratio: 0.4450\n"
     ]
    },
    {
     "name": "stderr",
     "output_type": "stream",
     "text": [
      "  2%|██                                                                                 | 1/41 [00:00<00:36,  1.10it/s]"
     ]
    },
    {
     "name": "stdout",
     "output_type": "stream",
     "text": [
      "Epoch [104/200], Step [0/41], Loss: 3.4535, BLEU@1: 0.1379\n",
      "Sample prediction:\n",
      "Pred: 156 424 157 3 31 31 21 3 2 8 3 2 2 2 2 31 21 3 2 2 31 31 21 3 2 2 2 2 2\n",
      "Target: 55 424 2238 163 2236 60 21 2233 24 8 551 2 0 0 0 0 0 0 0 0 0 0 0 0 0 0 0 0 0\n",
      "\n"
     ]
    },
    {
     "name": "stderr",
     "output_type": "stream",
     "text": [
      "100%|██████████████████████████████████████████████████████████████████████████████████| 41/41 [00:37<00:00,  1.09it/s]\n"
     ]
    },
    {
     "name": "stdout",
     "output_type": "stream",
     "text": [
      "Epoch [104/200], Average Loss: 3.3270, Average BLEU@1: 0.1522\n",
      "Epoch [104/200], Average Loss: 3.3270, Average BLEU@1: 0.1522, Teacher Forcing Ratio: 0.4425\n"
     ]
    },
    {
     "name": "stderr",
     "output_type": "stream",
     "text": [
      "  2%|██                                                                                 | 1/41 [00:00<00:36,  1.10it/s]"
     ]
    },
    {
     "name": "stdout",
     "output_type": "stream",
     "text": [
      "Epoch [105/200], Step [0/41], Loss: 3.2816, BLEU@1: 0.1034\n",
      "Sample prediction:\n",
      "Pred: 4 57 15 58 8 60 8 61 24 24 8 2 24 8 24 8 24 8 2 2 2 2 2 2 2 8 2 2 2\n",
      "Target: 4 79 15 568 958 2458 2 0 0 0 0 0 0 0 0 0 0 0 0 0 0 0 0 0 0 0 0 0 0\n",
      "\n"
     ]
    },
    {
     "name": "stderr",
     "output_type": "stream",
     "text": [
      "100%|██████████████████████████████████████████████████████████████████████████████████| 41/41 [00:37<00:00,  1.10it/s]\n"
     ]
    },
    {
     "name": "stdout",
     "output_type": "stream",
     "text": [
      "Epoch [105/200], Average Loss: 3.2529, Average BLEU@1: 0.1421\n",
      "Epoch [105/200], Average Loss: 3.2529, Average BLEU@1: 0.1421, Teacher Forcing Ratio: 0.4400\n"
     ]
    },
    {
     "name": "stderr",
     "output_type": "stream",
     "text": [
      "  2%|██                                                                                 | 1/41 [00:00<00:36,  1.08it/s]"
     ]
    },
    {
     "name": "stdout",
     "output_type": "stream",
     "text": [
      "Epoch [106/200], Step [0/41], Loss: 3.4483, BLEU@1: 0.1034\n",
      "Sample prediction:\n",
      "Pred: 4 57 15 301 8 596 2 2 2 2 2 2 3 2 2 3 2 26 21 3 2 2 26 26 26 26 21 3 2\n",
      "Target: 55 57 367 60 21 362 2 0 0 0 0 0 0 0 0 0 0 0 0 0 0 0 0 0 0 0 0 0 0\n",
      "\n"
     ]
    },
    {
     "name": "stderr",
     "output_type": "stream",
     "text": [
      "100%|██████████████████████████████████████████████████████████████████████████████████| 41/41 [00:37<00:00,  1.09it/s]\n"
     ]
    },
    {
     "name": "stdout",
     "output_type": "stream",
     "text": [
      "Epoch [106/200], Average Loss: 3.3193, Average BLEU@1: 0.1396\n",
      "Epoch [106/200], Average Loss: 3.3193, Average BLEU@1: 0.1396, Teacher Forcing Ratio: 0.4375\n"
     ]
    },
    {
     "name": "stderr",
     "output_type": "stream",
     "text": [
      "  2%|██                                                                                 | 1/41 [00:00<00:34,  1.15it/s]"
     ]
    },
    {
     "name": "stdout",
     "output_type": "stream",
     "text": [
      "Epoch [107/200], Step [0/41], Loss: 3.4830, BLEU@1: 0.1034\n",
      "Sample prediction:\n",
      "Pred: 4 5 15 58 8 2 2 2 2 60 60 8 2 24 8 2 2 2 31 60 60 8 60 8 2 2 2 140 8\n",
      "Target: 92 15 218 8 1226 2 0 0 0 0 0 0 0 0 0 0 0 0 0 0 0 0 0 0 0 0 0 0 0\n",
      "\n"
     ]
    },
    {
     "name": "stderr",
     "output_type": "stream",
     "text": [
      "100%|██████████████████████████████████████████████████████████████████████████████████| 41/41 [00:37<00:00,  1.10it/s]\n"
     ]
    },
    {
     "name": "stdout",
     "output_type": "stream",
     "text": [
      "Epoch [107/200], Average Loss: 3.3461, Average BLEU@1: 0.1186\n",
      "Epoch [107/200], Average Loss: 3.3461, Average BLEU@1: 0.1186, Teacher Forcing Ratio: 0.4350\n"
     ]
    },
    {
     "name": "stderr",
     "output_type": "stream",
     "text": [
      "  2%|██                                                                                 | 1/41 [00:00<00:37,  1.06it/s]"
     ]
    },
    {
     "name": "stdout",
     "output_type": "stream",
     "text": [
      "Epoch [108/200], Step [0/41], Loss: 3.3386, BLEU@1: 0.1724\n",
      "Sample prediction:\n",
      "Pred: 4 57 15 8 26 8 3 21 24 2 2 2 2 2 2 2 2 2 2 2 2 2 2 2 2 2 2 2 140\n",
      "Target: 4 3 57 605 12 797 140 2451 112 2 0 0 0 0 0 0 0 0 0 0 0 0 0 0 0 0 0 0 0\n",
      "\n"
     ]
    },
    {
     "name": "stderr",
     "output_type": "stream",
     "text": [
      "100%|██████████████████████████████████████████████████████████████████████████████████| 41/41 [00:36<00:00,  1.11it/s]\n"
     ]
    },
    {
     "name": "stdout",
     "output_type": "stream",
     "text": [
      "Epoch [108/200], Average Loss: 3.2990, Average BLEU@1: 0.1396\n",
      "Epoch [108/200], Average Loss: 3.2990, Average BLEU@1: 0.1396, Teacher Forcing Ratio: 0.4325\n"
     ]
    },
    {
     "name": "stderr",
     "output_type": "stream",
     "text": [
      "  2%|██                                                                                 | 1/41 [00:00<00:36,  1.09it/s]"
     ]
    },
    {
     "name": "stdout",
     "output_type": "stream",
     "text": [
      "Epoch [109/200], Step [0/41], Loss: 3.2021, BLEU@1: 0.1379\n",
      "Sample prediction:\n",
      "Pred: 4 57 15 8 2 2 26 8 3 2 2 2 2 2 2 2 2 2 2 2 2 2 2 2 2 2 2 2 2\n",
      "Target: 4 57 12 5 157 105 8 2612 581 2 0 0 0 0 0 0 0 0 0 0 0 0 0 0 0 0 0 0 0\n",
      "\n"
     ]
    },
    {
     "name": "stderr",
     "output_type": "stream",
     "text": [
      "100%|██████████████████████████████████████████████████████████████████████████████████| 41/41 [00:37<00:00,  1.10it/s]\n"
     ]
    },
    {
     "name": "stdout",
     "output_type": "stream",
     "text": [
      "Epoch [109/200], Average Loss: 3.3104, Average BLEU@1: 0.1480\n",
      "Epoch [109/200], Average Loss: 3.3104, Average BLEU@1: 0.1480, Teacher Forcing Ratio: 0.4300\n"
     ]
    },
    {
     "name": "stderr",
     "output_type": "stream",
     "text": [
      "  2%|██                                                                                 | 1/41 [00:00<00:37,  1.07it/s]"
     ]
    },
    {
     "name": "stdout",
     "output_type": "stream",
     "text": [
      "Epoch [110/200], Step [0/41], Loss: 3.5951, BLEU@1: 0.0690\n",
      "Sample prediction:\n",
      "Pred: 4 580 15 8 8 8 2 8 2 2 2 2 8 3 2 2 2 2 2 2 2 2 2 2 2 2 2 21 2\n",
      "Target: 4 122 2552 1556 1647 387 471 1581 2 0 0 0 0 0 0 0 0 0 0 0 0 0 0 0 0 0 0 0 0\n",
      "\n"
     ]
    },
    {
     "name": "stderr",
     "output_type": "stream",
     "text": [
      "100%|██████████████████████████████████████████████████████████████████████████████████| 41/41 [00:37<00:00,  1.09it/s]\n"
     ]
    },
    {
     "name": "stdout",
     "output_type": "stream",
     "text": [
      "Epoch [110/200], Average Loss: 3.2882, Average BLEU@1: 0.1413\n",
      "Epoch [110/200], Average Loss: 3.2882, Average BLEU@1: 0.1413, Teacher Forcing Ratio: 0.4275\n"
     ]
    },
    {
     "name": "stderr",
     "output_type": "stream",
     "text": [
      "  2%|██                                                                                 | 1/41 [00:01<00:41,  1.04s/it]"
     ]
    },
    {
     "name": "stdout",
     "output_type": "stream",
     "text": [
      "Epoch [111/200], Step [0/41], Loss: 3.2157, BLEU@1: 0.2069\n",
      "Sample prediction:\n",
      "Pred: 4 5 15 58 8 2 3 2 2 2 8 2 24 2 12 8 60 2 2 31 8 2 2 2 2 2 2 8 3\n",
      "Target: 4 5 71 12 3 8 1041 2 0 0 0 0 0 0 0 0 0 0 0 0 0 0 0 0 0 0 0 0 0\n",
      "\n"
     ]
    },
    {
     "name": "stderr",
     "output_type": "stream",
     "text": [
      "100%|██████████████████████████████████████████████████████████████████████████████████| 41/41 [00:37<00:00,  1.09it/s]\n"
     ]
    },
    {
     "name": "stdout",
     "output_type": "stream",
     "text": [
      "Epoch [111/200], Average Loss: 3.2777, Average BLEU@1: 0.1489\n",
      "Epoch [111/200], Average Loss: 3.2777, Average BLEU@1: 0.1489, Teacher Forcing Ratio: 0.4250\n"
     ]
    },
    {
     "name": "stderr",
     "output_type": "stream",
     "text": [
      "  2%|██                                                                                 | 1/41 [00:00<00:38,  1.03it/s]"
     ]
    },
    {
     "name": "stdout",
     "output_type": "stream",
     "text": [
      "Epoch [112/200], Step [0/41], Loss: 3.7128, BLEU@1: 0.1724\n",
      "Sample prediction:\n",
      "Pred: 4 580 15 301 26 8 8 3 2 2 2 2 2 2 2 2 2 2 2 2 2 2 2 2 2 2 2 2 2\n",
      "Target: 4 3 15 2893 790 153 8 586 2 0 0 0 0 0 0 0 0 0 0 0 0 0 0 0 0 0 0 0 0\n",
      "\n"
     ]
    },
    {
     "name": "stderr",
     "output_type": "stream",
     "text": [
      "100%|██████████████████████████████████████████████████████████████████████████████████| 41/41 [00:36<00:00,  1.11it/s]\n"
     ]
    },
    {
     "name": "stdout",
     "output_type": "stream",
     "text": [
      "Epoch [112/200], Average Loss: 3.3425, Average BLEU@1: 0.1472\n",
      "Epoch [112/200], Average Loss: 3.3425, Average BLEU@1: 0.1472, Teacher Forcing Ratio: 0.4225\n"
     ]
    },
    {
     "name": "stderr",
     "output_type": "stream",
     "text": [
      "  2%|██                                                                                 | 1/41 [00:00<00:37,  1.06it/s]"
     ]
    },
    {
     "name": "stdout",
     "output_type": "stream",
     "text": [
      "Epoch [113/200], Step [0/41], Loss: 3.1372, BLEU@1: 0.2069\n",
      "Sample prediction:\n",
      "Pred: 4 5 15 301 8 596 2 2 2 8 3 2 2 2 2 2 3 2 21 3 2 2 21 3 3 2 21 3 3\n",
      "Target: 4 185 15 301 8 596 2 0 0 0 0 0 0 0 0 0 0 0 0 0 0 0 0 0 0 0 0 0 0\n",
      "\n"
     ]
    },
    {
     "name": "stderr",
     "output_type": "stream",
     "text": [
      "100%|██████████████████████████████████████████████████████████████████████████████████| 41/41 [00:36<00:00,  1.14it/s]\n"
     ]
    },
    {
     "name": "stdout",
     "output_type": "stream",
     "text": [
      "Epoch [113/200], Average Loss: 3.2738, Average BLEU@1: 0.1413\n",
      "Epoch [113/200], Average Loss: 3.2738, Average BLEU@1: 0.1413, Teacher Forcing Ratio: 0.4200\n"
     ]
    },
    {
     "name": "stderr",
     "output_type": "stream",
     "text": [
      "  2%|██                                                                                 | 1/41 [00:00<00:36,  1.11it/s]"
     ]
    },
    {
     "name": "stdout",
     "output_type": "stream",
     "text": [
      "Epoch [114/200], Step [0/41], Loss: 3.3164, BLEU@1: 0.1034\n",
      "Sample prediction:\n",
      "Pred: 156 157 157 301 2 2 8 3 2 2 3 2 2 2 3 2 2 3 3 2 2 2 2 2 2 2 3 2 2\n",
      "Target: 55 390 2342 3 3 175 21 503 2 0 0 0 0 0 0 0 0 0 0 0 0 0 0 0 0 0 0 0 0\n",
      "\n"
     ]
    },
    {
     "name": "stderr",
     "output_type": "stream",
     "text": [
      "100%|██████████████████████████████████████████████████████████████████████████████████| 41/41 [00:36<00:00,  1.11it/s]\n"
     ]
    },
    {
     "name": "stdout",
     "output_type": "stream",
     "text": [
      "Epoch [114/200], Average Loss: 3.2901, Average BLEU@1: 0.1253\n",
      "Epoch [114/200], Average Loss: 3.2901, Average BLEU@1: 0.1253, Teacher Forcing Ratio: 0.4175\n"
     ]
    },
    {
     "name": "stderr",
     "output_type": "stream",
     "text": [
      "  2%|██                                                                                 | 1/41 [00:00<00:35,  1.14it/s]"
     ]
    },
    {
     "name": "stdout",
     "output_type": "stream",
     "text": [
      "Epoch [115/200], Step [0/41], Loss: 3.2899, BLEU@1: 0.1379\n",
      "Sample prediction:\n",
      "Pred: 4 580 15 8 8 2 2 2 2 2 140 2 2 140 2 140 140 140 140 140 140 140 140 21 3 2 2 2 2\n",
      "Target: 4 580 827 603 26 8 770 2784 2 0 0 0 0 0 0 0 0 0 0 0 0 0 0 0 0 0 0 0 0\n",
      "\n"
     ]
    },
    {
     "name": "stderr",
     "output_type": "stream",
     "text": [
      "100%|██████████████████████████████████████████████████████████████████████████████████| 41/41 [00:36<00:00,  1.12it/s]\n"
     ]
    },
    {
     "name": "stdout",
     "output_type": "stream",
     "text": [
      "Epoch [115/200], Average Loss: 3.3219, Average BLEU@1: 0.1438\n",
      "Epoch [115/200], Average Loss: 3.3219, Average BLEU@1: 0.1438, Teacher Forcing Ratio: 0.4150\n"
     ]
    },
    {
     "name": "stderr",
     "output_type": "stream",
     "text": [
      "  2%|██                                                                                 | 1/41 [00:00<00:36,  1.10it/s]"
     ]
    },
    {
     "name": "stdout",
     "output_type": "stream",
     "text": [
      "Epoch [116/200], Step [0/41], Loss: 3.2818, BLEU@1: 0.0690\n",
      "Sample prediction:\n",
      "Pred: 4 580 15 8 8 3 3 2 2 2 2 2 2 140 21 12 2 140 2 2 2 2 2 2 2 2 2 2 2\n",
      "Target: 4 589 471 383 31 2973 2852 2 0 0 0 0 0 0 0 0 0 0 0 0 0 0 0 0 0 0 0 0 0\n",
      "\n"
     ]
    },
    {
     "name": "stderr",
     "output_type": "stream",
     "text": [
      "100%|██████████████████████████████████████████████████████████████████████████████████| 41/41 [00:36<00:00,  1.13it/s]\n"
     ]
    },
    {
     "name": "stdout",
     "output_type": "stream",
     "text": [
      "Epoch [116/200], Average Loss: 3.2882, Average BLEU@1: 0.1329\n",
      "Epoch [116/200], Average Loss: 3.2882, Average BLEU@1: 0.1329, Teacher Forcing Ratio: 0.4125\n"
     ]
    },
    {
     "name": "stderr",
     "output_type": "stream",
     "text": [
      "  2%|██                                                                                 | 1/41 [00:00<00:35,  1.13it/s]"
     ]
    },
    {
     "name": "stdout",
     "output_type": "stream",
     "text": [
      "Epoch [117/200], Step [0/41], Loss: 3.2905, BLEU@1: 0.1034\n",
      "Sample prediction:\n",
      "Pred: 4 57 15 186 8 8 2 8 2 2 26 8 3 2 2 2 2 2 2 2 2 2 2 2 2 2 2 2 2\n",
      "Target: 4 589 15 234 1025 995 2 0 0 0 0 0 0 0 0 0 0 0 0 0 0 0 0 0 0 0 0 0 0\n",
      "\n"
     ]
    },
    {
     "name": "stderr",
     "output_type": "stream",
     "text": [
      "100%|██████████████████████████████████████████████████████████████████████████████████| 41/41 [00:36<00:00,  1.13it/s]\n"
     ]
    },
    {
     "name": "stdout",
     "output_type": "stream",
     "text": [
      "Epoch [117/200], Average Loss: 3.3347, Average BLEU@1: 0.1362\n",
      "Epoch [117/200], Average Loss: 3.3347, Average BLEU@1: 0.1362, Teacher Forcing Ratio: 0.4100\n"
     ]
    },
    {
     "name": "stderr",
     "output_type": "stream",
     "text": [
      "  2%|██                                                                                 | 1/41 [00:00<00:37,  1.08it/s]"
     ]
    },
    {
     "name": "stdout",
     "output_type": "stream",
     "text": [
      "Epoch [118/200], Step [0/41], Loss: 3.7159, BLEU@1: 0.1379\n",
      "Sample prediction:\n",
      "Pred: 4 57 15 8 8 2 2 8 2 2 8 2 2 3 2 2 2 2 3 2 2 2 2 2 2 2 2 2 2\n",
      "Target: 4 57 15 1444 1448 2 0 0 0 0 0 0 0 0 0 0 0 0 0 0 0 0 0 0 0 0 0 0 0\n",
      "\n"
     ]
    },
    {
     "name": "stderr",
     "output_type": "stream",
     "text": [
      "100%|██████████████████████████████████████████████████████████████████████████████████| 41/41 [00:36<00:00,  1.12it/s]\n"
     ]
    },
    {
     "name": "stdout",
     "output_type": "stream",
     "text": [
      "Epoch [118/200], Average Loss: 3.2985, Average BLEU@1: 0.1312\n",
      "Epoch [118/200], Average Loss: 3.2985, Average BLEU@1: 0.1312, Teacher Forcing Ratio: 0.4075\n"
     ]
    },
    {
     "name": "stderr",
     "output_type": "stream",
     "text": [
      "  2%|██                                                                                 | 1/41 [00:00<00:37,  1.05it/s]"
     ]
    },
    {
     "name": "stdout",
     "output_type": "stream",
     "text": [
      "Epoch [119/200], Step [0/41], Loss: 3.1156, BLEU@1: 0.1724\n",
      "Sample prediction:\n",
      "Pred: 4 5 15 58 8 2 2 2 60 8 2 2 2 2 2 24 8 2 2 2 2 2 60 24 8 2 2 2 2\n",
      "Target: 4 79 15 58 8 116 2 0 0 0 0 0 0 0 0 0 0 0 0 0 0 0 0 0 0 0 0 0 0\n",
      "\n"
     ]
    },
    {
     "name": "stderr",
     "output_type": "stream",
     "text": [
      "100%|██████████████████████████████████████████████████████████████████████████████████| 41/41 [00:36<00:00,  1.13it/s]\n"
     ]
    },
    {
     "name": "stdout",
     "output_type": "stream",
     "text": [
      "Epoch [119/200], Average Loss: 3.2743, Average BLEU@1: 0.1438\n",
      "Epoch [119/200], Average Loss: 3.2743, Average BLEU@1: 0.1438, Teacher Forcing Ratio: 0.4050\n"
     ]
    },
    {
     "name": "stderr",
     "output_type": "stream",
     "text": [
      "  2%|██                                                                                 | 1/41 [00:00<00:37,  1.07it/s]"
     ]
    },
    {
     "name": "stdout",
     "output_type": "stream",
     "text": [
      "Epoch [120/200], Step [0/41], Loss: 3.8522, BLEU@1: 0.1034\n",
      "Sample prediction:\n",
      "Pred: 4 57 15 8 8 2 2 3 2 2 2 2 2 3 3 2 3 3 2 3 2 3 2 3 2 3 2 2 2\n",
      "Target: 55 57 936 8 1341 31 72 745 807 2 0 0 0 0 0 0 0 0 0 0 0 0 0 0 0 0 0 0 0\n",
      "\n"
     ]
    },
    {
     "name": "stderr",
     "output_type": "stream",
     "text": [
      "100%|██████████████████████████████████████████████████████████████████████████████████| 41/41 [00:36<00:00,  1.11it/s]\n"
     ]
    },
    {
     "name": "stdout",
     "output_type": "stream",
     "text": [
      "Epoch [120/200], Average Loss: 3.3096, Average BLEU@1: 0.1463\n",
      "Epoch [120/200], Average Loss: 3.3096, Average BLEU@1: 0.1463, Teacher Forcing Ratio: 0.4025\n"
     ]
    },
    {
     "name": "stderr",
     "output_type": "stream",
     "text": [
      "  2%|██                                                                                 | 1/41 [00:00<00:37,  1.06it/s]"
     ]
    },
    {
     "name": "stdout",
     "output_type": "stream",
     "text": [
      "Epoch [121/200], Step [0/41], Loss: 3.1844, BLEU@1: 0.1724\n",
      "Sample prediction:\n",
      "Pred: 4 57 15 8 8 3 3 2 2 2 2 8 3 2 2 2 2 2 2 2 2 2 2 2 2 2 2 2 2\n",
      "Target: 4 57 15 409 8 1294 117 31 160 257 2 0 0 0 0 0 0 0 0 0 0 0 0 0 0 0 0 0 0\n",
      "\n"
     ]
    },
    {
     "name": "stderr",
     "output_type": "stream",
     "text": [
      "100%|██████████████████████████████████████████████████████████████████████████████████| 41/41 [00:35<00:00,  1.14it/s]\n"
     ]
    },
    {
     "name": "stdout",
     "output_type": "stream",
     "text": [
      "Epoch [121/200], Average Loss: 3.3365, Average BLEU@1: 0.1396\n",
      "Epoch [121/200], Average Loss: 3.3365, Average BLEU@1: 0.1396, Teacher Forcing Ratio: 0.4000\n"
     ]
    },
    {
     "name": "stderr",
     "output_type": "stream",
     "text": [
      "  2%|██                                                                                 | 1/41 [00:00<00:35,  1.12it/s]"
     ]
    },
    {
     "name": "stdout",
     "output_type": "stream",
     "text": [
      "Epoch [122/200], Step [0/41], Loss: 3.5303, BLEU@1: 0.0345\n",
      "Sample prediction:\n",
      "Pred: 156 424 157 301 2 2 2 2 2 2 2 2 2 2 2 2 2 2 2 2 2 2 2 2 2 2 2 2 2\n",
      "Target: 4 122 15 3 12 327 122 15 3 2 0 0 0 0 0 0 0 0 0 0 0 0 0 0 0 0 0 0 0\n",
      "\n"
     ]
    },
    {
     "name": "stderr",
     "output_type": "stream",
     "text": [
      "100%|██████████████████████████████████████████████████████████████████████████████████| 41/41 [00:36<00:00,  1.14it/s]\n"
     ]
    },
    {
     "name": "stdout",
     "output_type": "stream",
     "text": [
      "Epoch [122/200], Average Loss: 3.2926, Average BLEU@1: 0.1371\n",
      "Epoch [122/200], Average Loss: 3.2926, Average BLEU@1: 0.1371, Teacher Forcing Ratio: 0.3975\n"
     ]
    },
    {
     "name": "stderr",
     "output_type": "stream",
     "text": [
      "  2%|██                                                                                 | 1/41 [00:00<00:37,  1.08it/s]"
     ]
    },
    {
     "name": "stdout",
     "output_type": "stream",
     "text": [
      "Epoch [123/200], Step [0/41], Loss: 3.5252, BLEU@1: 0.1379\n",
      "Sample prediction:\n",
      "Pred: 4 5 15 301 8 26 8 596 2 2 2 2 2 2 2 2 2 2 2 8 3 2 2 2 2 2 3 3 2\n",
      "Target: 4 14 426 8 636 26 21 1216 2 0 0 0 0 0 0 0 0 0 0 0 0 0 0 0 0 0 0 0 0\n",
      "\n"
     ]
    },
    {
     "name": "stderr",
     "output_type": "stream",
     "text": [
      "100%|██████████████████████████████████████████████████████████████████████████████████| 41/41 [00:37<00:00,  1.11it/s]\n"
     ]
    },
    {
     "name": "stdout",
     "output_type": "stream",
     "text": [
      "Epoch [123/200], Average Loss: 3.2781, Average BLEU@1: 0.1514\n",
      "Epoch [123/200], Average Loss: 3.2781, Average BLEU@1: 0.1514, Teacher Forcing Ratio: 0.3950\n"
     ]
    },
    {
     "name": "stderr",
     "output_type": "stream",
     "text": [
      "  2%|██                                                                                 | 1/41 [00:00<00:36,  1.11it/s]"
     ]
    },
    {
     "name": "stdout",
     "output_type": "stream",
     "text": [
      "Epoch [124/200], Step [0/41], Loss: 3.3401, BLEU@1: 0.1034\n",
      "Sample prediction:\n",
      "Pred: 4 57 157 8 157 2 3 2 2 2 2 31 8 3 2 2 2 3 2 2 2 2 2 2 2 2 2 2 2\n",
      "Target: 92 15 234 2251 31 8 551 2 0 0 0 0 0 0 0 0 0 0 0 0 0 0 0 0 0 0 0 0 0\n",
      "\n"
     ]
    },
    {
     "name": "stderr",
     "output_type": "stream",
     "text": [
      "100%|██████████████████████████████████████████████████████████████████████████████████| 41/41 [00:37<00:00,  1.10it/s]\n"
     ]
    },
    {
     "name": "stdout",
     "output_type": "stream",
     "text": [
      "Epoch [124/200], Average Loss: 3.2607, Average BLEU@1: 0.1396\n",
      "Epoch [124/200], Average Loss: 3.2607, Average BLEU@1: 0.1396, Teacher Forcing Ratio: 0.3925\n"
     ]
    },
    {
     "name": "stderr",
     "output_type": "stream",
     "text": [
      "  2%|██                                                                                 | 1/41 [00:00<00:36,  1.09it/s]"
     ]
    },
    {
     "name": "stdout",
     "output_type": "stream",
     "text": [
      "Epoch [125/200], Step [0/41], Loss: 3.5023, BLEU@1: 0.1379\n",
      "Sample prediction:\n",
      "Pred: 4 304 15 15 2 8 8 3 3 2 2 2 2 2 2 2 2 2 2 2 2 2 2 2 2 2 2 2 2\n",
      "Target: 4 781 349 15 105 19 8 1572 257 2 0 0 0 0 0 0 0 0 0 0 0 0 0 0 0 0 0 0 0\n",
      "\n"
     ]
    },
    {
     "name": "stderr",
     "output_type": "stream",
     "text": [
      "100%|██████████████████████████████████████████████████████████████████████████████████| 41/41 [00:37<00:00,  1.10it/s]\n"
     ]
    },
    {
     "name": "stdout",
     "output_type": "stream",
     "text": [
      "Epoch [125/200], Average Loss: 3.3415, Average BLEU@1: 0.1413\n",
      "Epoch [125/200], Average Loss: 3.3415, Average BLEU@1: 0.1413, Teacher Forcing Ratio: 0.3900\n"
     ]
    },
    {
     "name": "stderr",
     "output_type": "stream",
     "text": [
      "  2%|██                                                                                 | 1/41 [00:00<00:38,  1.03it/s]"
     ]
    },
    {
     "name": "stdout",
     "output_type": "stream",
     "text": [
      "Epoch [126/200], Step [0/41], Loss: 3.3841, BLEU@1: 0.1034\n",
      "Sample prediction:\n",
      "Pred: 4 5 15 58 1226 2 8 61 2 2 2 2 2 2 2 2 2 24 8 2 2 2 2 2 2 2 2 2 8\n",
      "Target: 4 5 3 2678 1060 153 542 3 2 0 0 0 0 0 0 0 0 0 0 0 0 0 0 0 0 0 0 0 0\n",
      "\n"
     ]
    },
    {
     "name": "stderr",
     "output_type": "stream",
     "text": [
      "100%|██████████████████████████████████████████████████████████████████████████████████| 41/41 [00:38<00:00,  1.08it/s]\n"
     ]
    },
    {
     "name": "stdout",
     "output_type": "stream",
     "text": [
      "Epoch [126/200], Average Loss: 3.3593, Average BLEU@1: 0.1388\n",
      "Epoch [126/200], Average Loss: 3.3593, Average BLEU@1: 0.1388, Teacher Forcing Ratio: 0.3875\n"
     ]
    },
    {
     "name": "stderr",
     "output_type": "stream",
     "text": [
      "  2%|██                                                                                 | 1/41 [00:01<00:40,  1.01s/it]"
     ]
    },
    {
     "name": "stdout",
     "output_type": "stream",
     "text": [
      "Epoch [127/200], Step [0/41], Loss: 3.1484, BLEU@1: 0.1379\n",
      "Sample prediction:\n",
      "Pred: 4 5 15 58 8 60 8 2 8 2 24 8 2 2 2 2 2 2 2 2 2 2 2 8 2 2 2 2 2\n",
      "Target: 4 5 15 833 59 140 873 2 0 0 0 0 0 0 0 0 0 0 0 0 0 0 0 0 0 0 0 0 0\n",
      "\n"
     ]
    },
    {
     "name": "stderr",
     "output_type": "stream",
     "text": [
      "100%|██████████████████████████████████████████████████████████████████████████████████| 41/41 [00:38<00:00,  1.05it/s]\n"
     ]
    },
    {
     "name": "stdout",
     "output_type": "stream",
     "text": [
      "Epoch [127/200], Average Loss: 3.2891, Average BLEU@1: 0.1548\n",
      "Epoch [127/200], Average Loss: 3.2891, Average BLEU@1: 0.1548, Teacher Forcing Ratio: 0.3850\n"
     ]
    },
    {
     "name": "stderr",
     "output_type": "stream",
     "text": [
      "  2%|██                                                                                 | 1/41 [00:00<00:38,  1.04it/s]"
     ]
    },
    {
     "name": "stdout",
     "output_type": "stream",
     "text": [
      "Epoch [128/200], Step [0/41], Loss: 3.4774, BLEU@1: 0.1379\n",
      "Sample prediction:\n",
      "Pred: 4 5 15 301 8 596 2 2 2 2 2 12 3 2 2 2 3 3 3 3 2 2 3 3 2 2 26 26 26\n",
      "Target: 4 5 640 60 8 362 2 0 0 0 0 0 0 0 0 0 0 0 0 0 0 0 0 0 0 0 0 0 0\n",
      "\n"
     ]
    },
    {
     "name": "stderr",
     "output_type": "stream",
     "text": [
      "100%|██████████████████████████████████████████████████████████████████████████████████| 41/41 [00:39<00:00,  1.05it/s]\n"
     ]
    },
    {
     "name": "stdout",
     "output_type": "stream",
     "text": [
      "Epoch [128/200], Average Loss: 3.2737, Average BLEU@1: 0.1514\n",
      "Epoch [128/200], Average Loss: 3.2737, Average BLEU@1: 0.1514, Teacher Forcing Ratio: 0.3825\n"
     ]
    },
    {
     "name": "stderr",
     "output_type": "stream",
     "text": [
      "  2%|██                                                                                 | 1/41 [00:00<00:38,  1.05it/s]"
     ]
    },
    {
     "name": "stdout",
     "output_type": "stream",
     "text": [
      "Epoch [129/200], Step [0/41], Loss: 3.5223, BLEU@1: 0.1379\n",
      "Sample prediction:\n",
      "Pred: 4 5 15 65 8 60 8 2 2 2 8 2 2 2 2 8 12 2 8 12 3 60 8 2 2 2 2 2 2\n",
      "Target: 4 5 15 273 693 383 703 2 0 0 0 0 0 0 0 0 0 0 0 0 0 0 0 0 0 0 0 0 0\n",
      "\n"
     ]
    },
    {
     "name": "stderr",
     "output_type": "stream",
     "text": [
      "100%|██████████████████████████████████████████████████████████████████████████████████| 41/41 [00:38<00:00,  1.06it/s]\n"
     ]
    },
    {
     "name": "stdout",
     "output_type": "stream",
     "text": [
      "Epoch [129/200], Average Loss: 3.3180, Average BLEU@1: 0.1405\n",
      "Epoch [129/200], Average Loss: 3.3180, Average BLEU@1: 0.1405, Teacher Forcing Ratio: 0.3800\n"
     ]
    },
    {
     "name": "stderr",
     "output_type": "stream",
     "text": [
      "  2%|██                                                                                 | 1/41 [00:00<00:37,  1.06it/s]"
     ]
    },
    {
     "name": "stdout",
     "output_type": "stream",
     "text": [
      "Epoch [130/200], Step [0/41], Loss: 3.2015, BLEU@1: 0.1724\n",
      "Sample prediction:\n",
      "Pred: 156 424 157 301 2 2 2 2 2 2 2 2 2 2 2 3 2 2 2 2 2 2 2 2 2 2 2 2 2\n",
      "Target: 156 424 157 3 3 2 0 0 0 0 0 0 0 0 0 0 0 0 0 0 0 0 0 0 0 0 0 0 0\n",
      "\n"
     ]
    },
    {
     "name": "stderr",
     "output_type": "stream",
     "text": [
      "100%|██████████████████████████████████████████████████████████████████████████████████| 41/41 [00:37<00:00,  1.08it/s]\n"
     ]
    },
    {
     "name": "stdout",
     "output_type": "stream",
     "text": [
      "Epoch [130/200], Average Loss: 3.3567, Average BLEU@1: 0.1573\n",
      "Epoch [130/200], Average Loss: 3.3567, Average BLEU@1: 0.1573, Teacher Forcing Ratio: 0.3775\n"
     ]
    },
    {
     "name": "stderr",
     "output_type": "stream",
     "text": [
      "  2%|██                                                                                 | 1/41 [00:01<01:01,  1.53s/it]"
     ]
    },
    {
     "name": "stdout",
     "output_type": "stream",
     "text": [
      "Epoch [131/200], Step [0/41], Loss: 3.7273, BLEU@1: 0.2069\n",
      "Sample prediction:\n",
      "Pred: 4 57 15 8 8 2 26 8 3 2 2 2 2 2 3 2 2 3 2 21 3 2 2 2 3 2 2 2 2\n",
      "Target: 4 57 2699 8 1471 564 26 8 949 27 2 0 0 0 0 0 0 0 0 0 0 0 0 0 0 0 0 0 0\n",
      "\n"
     ]
    },
    {
     "name": "stderr",
     "output_type": "stream",
     "text": [
      "100%|██████████████████████████████████████████████████████████████████████████████████| 41/41 [00:55<00:00,  1.35s/it]\n"
     ]
    },
    {
     "name": "stdout",
     "output_type": "stream",
     "text": [
      "Epoch [131/200], Average Loss: 3.2968, Average BLEU@1: 0.1514\n",
      "Epoch [131/200], Average Loss: 3.2968, Average BLEU@1: 0.1514, Teacher Forcing Ratio: 0.3750\n"
     ]
    },
    {
     "name": "stderr",
     "output_type": "stream",
     "text": [
      "  2%|██                                                                                 | 1/41 [00:01<00:55,  1.40s/it]"
     ]
    },
    {
     "name": "stdout",
     "output_type": "stream",
     "text": [
      "Epoch [132/200], Step [0/41], Loss: 3.0584, BLEU@1: 0.2414\n",
      "Sample prediction:\n",
      "Pred: 4 57 15 8 8 26 8 3 2 2 8 26 140 140 140 140 140 21 3 2 2 2 2 2 2 2 2 2 2\n",
      "Target: 4 57 15 3 3 31 8 1917 1079 2 0 0 0 0 0 0 0 0 0 0 0 0 0 0 0 0 0 0 0\n",
      "\n"
     ]
    },
    {
     "name": "stderr",
     "output_type": "stream",
     "text": [
      "100%|██████████████████████████████████████████████████████████████████████████████████| 41/41 [00:52<00:00,  1.29s/it]\n"
     ]
    },
    {
     "name": "stdout",
     "output_type": "stream",
     "text": [
      "Epoch [132/200], Average Loss: 3.2427, Average BLEU@1: 0.1447\n",
      "Epoch [132/200], Average Loss: 3.2427, Average BLEU@1: 0.1447, Teacher Forcing Ratio: 0.3725\n"
     ]
    },
    {
     "name": "stderr",
     "output_type": "stream",
     "text": [
      "  2%|██                                                                                 | 1/41 [00:01<00:51,  1.29s/it]"
     ]
    },
    {
     "name": "stdout",
     "output_type": "stream",
     "text": [
      "Epoch [133/200], Step [0/41], Loss: 3.4684, BLEU@1: 0.1034\n",
      "Sample prediction:\n",
      "Pred: 4 5 15 8 2 2 2 60 8 2 2 2 2 2 2 2 2 2 2 2 2 2 2 2 2 2 2 2 2\n",
      "Target: 4 5 957 707 2 0 0 0 0 0 0 0 0 0 0 0 0 0 0 0 0 0 0 0 0 0 0 0 0\n",
      "\n"
     ]
    },
    {
     "name": "stderr",
     "output_type": "stream",
     "text": [
      "100%|██████████████████████████████████████████████████████████████████████████████████| 41/41 [00:52<00:00,  1.27s/it]\n"
     ]
    },
    {
     "name": "stdout",
     "output_type": "stream",
     "text": [
      "Epoch [133/200], Average Loss: 3.2308, Average BLEU@1: 0.1362\n",
      "Epoch [133/200], Average Loss: 3.2308, Average BLEU@1: 0.1362, Teacher Forcing Ratio: 0.3700\n"
     ]
    },
    {
     "name": "stderr",
     "output_type": "stream",
     "text": [
      "  2%|██                                                                                 | 1/41 [00:01<00:48,  1.21s/it]"
     ]
    },
    {
     "name": "stdout",
     "output_type": "stream",
     "text": [
      "Epoch [134/200], Step [0/41], Loss: 3.0565, BLEU@1: 0.0690\n",
      "Sample prediction:\n",
      "Pred: 156 157 157 2 2 2 2 2 2 2 2 2 3 2 2 3 2 2 2 2 2 2 3 2 2 2 2 2 2\n",
      "Target: 4 374 24 2221 157 517 2 0 0 0 0 0 0 0 0 0 0 0 0 0 0 0 0 0 0 0 0 0 0\n",
      "\n"
     ]
    },
    {
     "name": "stderr",
     "output_type": "stream",
     "text": [
      "100%|██████████████████████████████████████████████████████████████████████████████████| 41/41 [00:49<00:00,  1.21s/it]\n"
     ]
    },
    {
     "name": "stdout",
     "output_type": "stream",
     "text": [
      "Epoch [134/200], Average Loss: 3.2519, Average BLEU@1: 0.1253\n",
      "Epoch [134/200], Average Loss: 3.2519, Average BLEU@1: 0.1253, Teacher Forcing Ratio: 0.3675\n"
     ]
    },
    {
     "name": "stderr",
     "output_type": "stream",
     "text": [
      "  2%|██                                                                                 | 1/41 [00:01<00:49,  1.24s/it]"
     ]
    },
    {
     "name": "stdout",
     "output_type": "stream",
     "text": [
      "Epoch [135/200], Step [0/41], Loss: 3.3543, BLEU@1: 0.1724\n",
      "Sample prediction:\n",
      "Pred: 4 5 15 21 3 2 2 60 8 2 2 2 2 2 2 2 2 2 2 2 2 2 2 2 2 2 2 2 2\n",
      "Target: 55 5 15 65 225 21 938 3 2 0 0 0 0 0 0 0 0 0 0 0 0 0 0 0 0 0 0 0 0\n",
      "\n"
     ]
    },
    {
     "name": "stderr",
     "output_type": "stream",
     "text": [
      "100%|██████████████████████████████████████████████████████████████████████████████████| 41/41 [00:49<00:00,  1.20s/it]\n"
     ]
    },
    {
     "name": "stdout",
     "output_type": "stream",
     "text": [
      "Epoch [135/200], Average Loss: 3.3368, Average BLEU@1: 0.1388\n",
      "Epoch [135/200], Average Loss: 3.3368, Average BLEU@1: 0.1388, Teacher Forcing Ratio: 0.3650\n"
     ]
    },
    {
     "name": "stderr",
     "output_type": "stream",
     "text": [
      "  2%|██                                                                                 | 1/41 [00:01<00:51,  1.28s/it]"
     ]
    },
    {
     "name": "stdout",
     "output_type": "stream",
     "text": [
      "Epoch [136/200], Step [0/41], Loss: 2.9082, BLEU@1: 0.1724\n",
      "Sample prediction:\n",
      "Pred: 4 304 15 8 8 8 2 2 3 2 8 3 2 8 3 2 140 21 3 12 2 140 21 3 2 2 2 2 2\n",
      "Target: 4 304 15 602 153 8 1797 624 2219 2 0 0 0 0 0 0 0 0 0 0 0 0 0 0 0 0 0 0 0\n",
      "\n"
     ]
    },
    {
     "name": "stderr",
     "output_type": "stream",
     "text": [
      "100%|██████████████████████████████████████████████████████████████████████████████████| 41/41 [00:50<00:00,  1.23s/it]\n"
     ]
    },
    {
     "name": "stdout",
     "output_type": "stream",
     "text": [
      "Epoch [136/200], Average Loss: 3.2687, Average BLEU@1: 0.1463\n",
      "Epoch [136/200], Average Loss: 3.2687, Average BLEU@1: 0.1463, Teacher Forcing Ratio: 0.3625\n"
     ]
    },
    {
     "name": "stderr",
     "output_type": "stream",
     "text": [
      "  2%|██                                                                                 | 1/41 [00:01<00:54,  1.35s/it]"
     ]
    },
    {
     "name": "stdout",
     "output_type": "stream",
     "text": [
      "Epoch [137/200], Step [0/41], Loss: 2.8390, BLEU@1: 0.2069\n",
      "Sample prediction:\n",
      "Pred: 4 57 15 8 26 8 8 3 2 2 2 2 2 2 2 2 2 2 2 2 2 2 2 2 2 2 2 2 2\n",
      "Target: 4 57 15 3 3 31 8 1917 1079 2 0 0 0 0 0 0 0 0 0 0 0 0 0 0 0 0 0 0 0\n",
      "\n"
     ]
    },
    {
     "name": "stderr",
     "output_type": "stream",
     "text": [
      "100%|██████████████████████████████████████████████████████████████████████████████████| 41/41 [00:48<00:00,  1.18s/it]\n"
     ]
    },
    {
     "name": "stdout",
     "output_type": "stream",
     "text": [
      "Epoch [137/200], Average Loss: 3.2566, Average BLEU@1: 0.1354\n",
      "Epoch [137/200], Average Loss: 3.2566, Average BLEU@1: 0.1354, Teacher Forcing Ratio: 0.3600\n"
     ]
    },
    {
     "name": "stderr",
     "output_type": "stream",
     "text": [
      "  2%|██                                                                                 | 1/41 [00:01<00:45,  1.15s/it]"
     ]
    },
    {
     "name": "stdout",
     "output_type": "stream",
     "text": [
      "Epoch [138/200], Step [0/41], Loss: 3.5155, BLEU@1: 0.0690\n",
      "Sample prediction:\n",
      "Pred: 4 57 15 8 8 3 2 2 2 2 2 2 2 2 2 2 2 2 2 2 2 2 2 2 2 2 2 2 2\n",
      "Target: 21 1588 1604 103 21 3 738 2 0 0 0 0 0 0 0 0 0 0 0 0 0 0 0 0 0 0 0 0 0\n",
      "\n"
     ]
    },
    {
     "name": "stderr",
     "output_type": "stream",
     "text": [
      "100%|██████████████████████████████████████████████████████████████████████████████████| 41/41 [00:45<00:00,  1.11s/it]\n"
     ]
    },
    {
     "name": "stdout",
     "output_type": "stream",
     "text": [
      "Epoch [138/200], Average Loss: 3.2369, Average BLEU@1: 0.1362\n",
      "Epoch [138/200], Average Loss: 3.2369, Average BLEU@1: 0.1362, Teacher Forcing Ratio: 0.3575\n"
     ]
    },
    {
     "name": "stderr",
     "output_type": "stream",
     "text": [
      "  2%|██                                                                                 | 1/41 [00:01<00:46,  1.16s/it]"
     ]
    },
    {
     "name": "stdout",
     "output_type": "stream",
     "text": [
      "Epoch [139/200], Step [0/41], Loss: 3.3464, BLEU@1: 0.2414\n",
      "Sample prediction:\n",
      "Pred: 4 57 15 273 3 2 8 2 8 2 2 2 2 8 2 2 2 2 12 8 3 2 2 2 2 2 2 2 2\n",
      "Target: 4 1829 1830 24 869 15 911 26 8 717 12 210 166 8 1452 140 680 59 383 21 132 3 2 0 0 0 0 0 0\n",
      "\n"
     ]
    },
    {
     "name": "stderr",
     "output_type": "stream",
     "text": [
      "100%|██████████████████████████████████████████████████████████████████████████████████| 41/41 [00:45<00:00,  1.11s/it]\n"
     ]
    },
    {
     "name": "stdout",
     "output_type": "stream",
     "text": [
      "Epoch [139/200], Average Loss: 3.2282, Average BLEU@1: 0.1514\n",
      "Epoch [139/200], Average Loss: 3.2282, Average BLEU@1: 0.1514, Teacher Forcing Ratio: 0.3550\n"
     ]
    },
    {
     "name": "stderr",
     "output_type": "stream",
     "text": [
      "  2%|██                                                                                 | 1/41 [00:01<00:46,  1.16s/it]"
     ]
    },
    {
     "name": "stdout",
     "output_type": "stream",
     "text": [
      "Epoch [140/200], Step [0/41], Loss: 3.2971, BLEU@1: 0.0345\n",
      "Sample prediction:\n",
      "Pred: 4 5 58 8 2 2 2 2 2 2 8 12 3 2 2 31 8 12 12 31 8 2 2 2 8 2 2 2 2\n",
      "Target: 92 15 67 1519 2 0 0 0 0 0 0 0 0 0 0 0 0 0 0 0 0 0 0 0 0 0 0 0 0\n",
      "\n"
     ]
    },
    {
     "name": "stderr",
     "output_type": "stream",
     "text": [
      "100%|██████████████████████████████████████████████████████████████████████████████████| 41/41 [00:46<00:00,  1.13s/it]\n"
     ]
    },
    {
     "name": "stdout",
     "output_type": "stream",
     "text": [
      "Epoch [140/200], Average Loss: 3.3034, Average BLEU@1: 0.1186\n",
      "Epoch [140/200], Average Loss: 3.3034, Average BLEU@1: 0.1186, Teacher Forcing Ratio: 0.3525\n"
     ]
    },
    {
     "name": "stderr",
     "output_type": "stream",
     "text": [
      "  2%|██                                                                                 | 1/41 [00:01<00:45,  1.14s/it]"
     ]
    },
    {
     "name": "stdout",
     "output_type": "stream",
     "text": [
      "Epoch [141/200], Step [0/41], Loss: 3.0274, BLEU@1: 0.1724\n",
      "Sample prediction:\n",
      "Pred: 4 57 15 8 8 153 8 2 2 2 2 2 2 8 3 2 2 2 8 3 2 2 2 2 2 2 2 2 2\n",
      "Target: 4 57 15 1527 1564 148 8 2312 2 0 0 0 0 0 0 0 0 0 0 0 0 0 0 0 0 0 0 0 0\n",
      "\n"
     ]
    },
    {
     "name": "stderr",
     "output_type": "stream",
     "text": [
      "100%|██████████████████████████████████████████████████████████████████████████████████| 41/41 [00:45<00:00,  1.12s/it]\n"
     ]
    },
    {
     "name": "stdout",
     "output_type": "stream",
     "text": [
      "Epoch [141/200], Average Loss: 3.2730, Average BLEU@1: 0.1556\n",
      "Epoch [141/200], Average Loss: 3.2730, Average BLEU@1: 0.1556, Teacher Forcing Ratio: 0.3500\n"
     ]
    },
    {
     "name": "stderr",
     "output_type": "stream",
     "text": [
      "  2%|██                                                                                 | 1/41 [00:01<00:46,  1.17s/it]"
     ]
    },
    {
     "name": "stdout",
     "output_type": "stream",
     "text": [
      "Epoch [142/200], Step [0/41], Loss: 3.8828, BLEU@1: 0.1379\n",
      "Sample prediction:\n",
      "Pred: 4 5 15 58 8 2 2 8 2 2 2 2 2 2 12 2 8 2 2 2 2 2 2 2 2 2 2 2 8\n",
      "Target: 55 5 15 218 8 1000 2 0 0 0 0 0 0 0 0 0 0 0 0 0 0 0 0 0 0 0 0 0 0\n",
      "\n"
     ]
    },
    {
     "name": "stderr",
     "output_type": "stream",
     "text": [
      "100%|██████████████████████████████████████████████████████████████████████████████████| 41/41 [00:45<00:00,  1.12s/it]\n"
     ]
    },
    {
     "name": "stdout",
     "output_type": "stream",
     "text": [
      "Epoch [142/200], Average Loss: 3.2919, Average BLEU@1: 0.1497\n",
      "Epoch [142/200], Average Loss: 3.2919, Average BLEU@1: 0.1497, Teacher Forcing Ratio: 0.3475\n"
     ]
    },
    {
     "name": "stderr",
     "output_type": "stream",
     "text": [
      "  2%|██                                                                                 | 1/41 [00:01<00:45,  1.14s/it]"
     ]
    },
    {
     "name": "stdout",
     "output_type": "stream",
     "text": [
      "Epoch [143/200], Step [0/41], Loss: 3.6645, BLEU@1: 0.0345\n",
      "Sample prediction:\n",
      "Pred: 156 424 157 301 2 3 2 2 2 2 2 2 2 2 2 2 2 2 2 2 2 2 2 2 2 2 2 2 2\n",
      "Target: 55 1199 2160 26 21 496 2 0 0 0 0 0 0 0 0 0 0 0 0 0 0 0 0 0 0 0 0 0 0\n",
      "\n"
     ]
    },
    {
     "name": "stderr",
     "output_type": "stream",
     "text": [
      "100%|██████████████████████████████████████████████████████████████████████████████████| 41/41 [00:45<00:00,  1.12s/it]\n"
     ]
    },
    {
     "name": "stdout",
     "output_type": "stream",
     "text": [
      "Epoch [143/200], Average Loss: 3.2806, Average BLEU@1: 0.1388\n",
      "Epoch [143/200], Average Loss: 3.2806, Average BLEU@1: 0.1388, Teacher Forcing Ratio: 0.3450\n"
     ]
    },
    {
     "name": "stderr",
     "output_type": "stream",
     "text": [
      "  2%|██                                                                                 | 1/41 [00:01<00:48,  1.20s/it]"
     ]
    },
    {
     "name": "stdout",
     "output_type": "stream",
     "text": [
      "Epoch [144/200], Step [0/41], Loss: 2.9825, BLEU@1: 0.1034\n",
      "Sample prediction:\n",
      "Pred: 156 424 157 301 31 8 2 2 2 2 2 2 2 3 2 3 2 31 21 3 2 2 2 2 2 2 2 2 2\n",
      "Target: 156 543 157 2156 623 644 2 0 0 0 0 0 0 0 0 0 0 0 0 0 0 0 0 0 0 0 0 0 0\n",
      "\n"
     ]
    },
    {
     "name": "stderr",
     "output_type": "stream",
     "text": [
      "100%|██████████████████████████████████████████████████████████████████████████████████| 41/41 [00:45<00:00,  1.12s/it]\n"
     ]
    },
    {
     "name": "stdout",
     "output_type": "stream",
     "text": [
      "Epoch [144/200], Average Loss: 3.3460, Average BLEU@1: 0.1421\n",
      "Epoch [144/200], Average Loss: 3.3460, Average BLEU@1: 0.1421, Teacher Forcing Ratio: 0.3425\n"
     ]
    },
    {
     "name": "stderr",
     "output_type": "stream",
     "text": [
      "  2%|██                                                                                 | 1/41 [00:01<00:46,  1.15s/it]"
     ]
    },
    {
     "name": "stdout",
     "output_type": "stream",
     "text": [
      "Epoch [145/200], Step [0/41], Loss: 3.2820, BLEU@1: 0.1379\n",
      "Sample prediction:\n",
      "Pred: 4 57 15 8 596 2 8 596 2 2 2 2 2 2 2 2 2 2 2 2 2 2 2 2 2 2 2 2 2\n",
      "Target: 4 57 426 8 2313 2 0 0 0 0 0 0 0 0 0 0 0 0 0 0 0 0 0 0 0 0 0 0 0\n",
      "\n"
     ]
    },
    {
     "name": "stderr",
     "output_type": "stream",
     "text": [
      "100%|██████████████████████████████████████████████████████████████████████████████████| 41/41 [00:45<00:00,  1.12s/it]\n"
     ]
    },
    {
     "name": "stdout",
     "output_type": "stream",
     "text": [
      "Epoch [145/200], Average Loss: 3.2544, Average BLEU@1: 0.1329\n",
      "Epoch [145/200], Average Loss: 3.2544, Average BLEU@1: 0.1329, Teacher Forcing Ratio: 0.3400\n"
     ]
    },
    {
     "name": "stderr",
     "output_type": "stream",
     "text": [
      "  2%|██                                                                                 | 1/41 [00:01<00:46,  1.17s/it]"
     ]
    },
    {
     "name": "stdout",
     "output_type": "stream",
     "text": [
      "Epoch [146/200], Step [0/41], Loss: 3.1524, BLEU@1: 0.2414\n",
      "Sample prediction:\n",
      "Pred: 4 57 15 8 26 8 3 2 2 2 2 2 3 2 2 8 2 2 2 2 2 2 2 2 2 2 2 2 2\n",
      "Target: 4 57 15 1544 26 203 2510 26 8 474 153 203 382 2068 29 8 189 1588 605 383 203 1316 2 0 0 0 0 0 0\n",
      "\n"
     ]
    },
    {
     "name": "stderr",
     "output_type": "stream",
     "text": [
      "100%|██████████████████████████████████████████████████████████████████████████████████| 41/41 [00:46<00:00,  1.12s/it]\n"
     ]
    },
    {
     "name": "stdout",
     "output_type": "stream",
     "text": [
      "Epoch [146/200], Average Loss: 3.2441, Average BLEU@1: 0.1371\n",
      "Epoch [146/200], Average Loss: 3.2441, Average BLEU@1: 0.1371, Teacher Forcing Ratio: 0.3375\n"
     ]
    },
    {
     "name": "stderr",
     "output_type": "stream",
     "text": [
      "  2%|██                                                                                 | 1/41 [00:01<00:47,  1.18s/it]"
     ]
    },
    {
     "name": "stdout",
     "output_type": "stream",
     "text": [
      "Epoch [147/200], Step [0/41], Loss: 3.1454, BLEU@1: 0.1379\n",
      "Sample prediction:\n",
      "Pred: 4 57 15 8 3 24 8 3 2 2 2 2 2 2 2 2 2 2 2 2 2 2 2 2 2 2 2 2 2\n",
      "Target: 4 57 85 203 260 153 8 394 2 0 0 0 0 0 0 0 0 0 0 0 0 0 0 0 0 0 0 0 0\n",
      "\n"
     ]
    },
    {
     "name": "stderr",
     "output_type": "stream",
     "text": [
      "100%|██████████████████████████████████████████████████████████████████████████████████| 41/41 [00:46<00:00,  1.12s/it]\n"
     ]
    },
    {
     "name": "stdout",
     "output_type": "stream",
     "text": [
      "Epoch [147/200], Average Loss: 3.2365, Average BLEU@1: 0.1573\n",
      "Epoch [147/200], Average Loss: 3.2365, Average BLEU@1: 0.1573, Teacher Forcing Ratio: 0.3350\n"
     ]
    },
    {
     "name": "stderr",
     "output_type": "stream",
     "text": [
      "  2%|██                                                                                 | 1/41 [00:01<00:45,  1.14s/it]"
     ]
    },
    {
     "name": "stdout",
     "output_type": "stream",
     "text": [
      "Epoch [148/200], Step [0/41], Loss: 3.3684, BLEU@1: 0.0690\n",
      "Sample prediction:\n",
      "Pred: 55 374 24 31 21 3 2 2 2 2 2 2 2 2 2 2 2 2 2 2 2 2 2 2 2 2 2 2 2\n",
      "Target: 530 157 348 653 31 8 508 2 0 0 0 0 0 0 0 0 0 0 0 0 0 0 0 0 0 0 0 0 0\n",
      "\n"
     ]
    },
    {
     "name": "stderr",
     "output_type": "stream",
     "text": [
      "100%|██████████████████████████████████████████████████████████████████████████████████| 41/41 [00:46<00:00,  1.13s/it]\n"
     ]
    },
    {
     "name": "stdout",
     "output_type": "stream",
     "text": [
      "Epoch [148/200], Average Loss: 3.2796, Average BLEU@1: 0.1447\n",
      "Epoch [148/200], Average Loss: 3.2796, Average BLEU@1: 0.1447, Teacher Forcing Ratio: 0.3325\n"
     ]
    },
    {
     "name": "stderr",
     "output_type": "stream",
     "text": [
      "  2%|██                                                                                 | 1/41 [00:01<00:46,  1.15s/it]"
     ]
    },
    {
     "name": "stdout",
     "output_type": "stream",
     "text": [
      "Epoch [149/200], Step [0/41], Loss: 3.3531, BLEU@1: 0.1034\n",
      "Sample prediction:\n",
      "Pred: 4 304 3 15 21 3 2 2 2 2 2 2 140 3 21 2 2 2 2 3 2 2 2 2 2 2 2 2 2\n",
      "Target: 4 501 502 3 313 245 2 0 0 0 0 0 0 0 0 0 0 0 0 0 0 0 0 0 0 0 0 0 0\n",
      "\n"
     ]
    },
    {
     "name": "stderr",
     "output_type": "stream",
     "text": [
      "100%|██████████████████████████████████████████████████████████████████████████████████| 41/41 [00:45<00:00,  1.12s/it]\n"
     ]
    },
    {
     "name": "stdout",
     "output_type": "stream",
     "text": [
      "Epoch [149/200], Average Loss: 3.2764, Average BLEU@1: 0.1379\n",
      "Epoch [149/200], Average Loss: 3.2764, Average BLEU@1: 0.1379, Teacher Forcing Ratio: 0.3300\n"
     ]
    },
    {
     "name": "stderr",
     "output_type": "stream",
     "text": [
      "  2%|██                                                                                 | 1/41 [00:01<00:46,  1.16s/it]"
     ]
    },
    {
     "name": "stdout",
     "output_type": "stream",
     "text": [
      "Epoch [150/200], Step [0/41], Loss: 3.1208, BLEU@1: 0.1724\n",
      "Sample prediction:\n",
      "Pred: 4 57 15 8 8 8 26 8 3 2 2 2 2 3 2 2 3 3 2 2 2 2 2 2 2 2 2 2 2\n",
      "Target: 4 57 1928 8 1352 1395 153 8 466 2 0 0 0 0 0 0 0 0 0 0 0 0 0 0 0 0 0 0 0\n",
      "\n"
     ]
    },
    {
     "name": "stderr",
     "output_type": "stream",
     "text": [
      "100%|██████████████████████████████████████████████████████████████████████████████████| 41/41 [00:45<00:00,  1.12s/it]\n"
     ]
    },
    {
     "name": "stdout",
     "output_type": "stream",
     "text": [
      "Epoch [150/200], Average Loss: 3.2352, Average BLEU@1: 0.1505\n",
      "Epoch [150/200], Average Loss: 3.2352, Average BLEU@1: 0.1505, Teacher Forcing Ratio: 0.3275\n"
     ]
    },
    {
     "name": "stderr",
     "output_type": "stream",
     "text": [
      "  2%|██                                                                                 | 1/41 [00:01<00:46,  1.15s/it]"
     ]
    },
    {
     "name": "stdout",
     "output_type": "stream",
     "text": [
      "Epoch [151/200], Step [0/41], Loss: 3.7246, BLEU@1: 0.2069\n",
      "Sample prediction:\n",
      "Pred: 4 304 15 8 8 2 2 2 8 3 8 2 12 3 2 2 3 2 2 2 2 2 2 2 2 2 2 2 2\n",
      "Target: 4 117 884 8 750 1955 605 19 21 915 184 3 12 2837 21 759 3 602 1699 1150 2 0 0 0 0 0 0 0 0\n",
      "\n"
     ]
    },
    {
     "name": "stderr",
     "output_type": "stream",
     "text": [
      "100%|██████████████████████████████████████████████████████████████████████████████████| 41/41 [00:46<00:00,  1.13s/it]\n"
     ]
    },
    {
     "name": "stdout",
     "output_type": "stream",
     "text": [
      "Epoch [151/200], Average Loss: 3.2632, Average BLEU@1: 0.1337\n",
      "Epoch [151/200], Average Loss: 3.2632, Average BLEU@1: 0.1337, Teacher Forcing Ratio: 0.3250\n"
     ]
    },
    {
     "name": "stderr",
     "output_type": "stream",
     "text": [
      "  2%|██                                                                                 | 1/41 [00:01<00:48,  1.20s/it]"
     ]
    },
    {
     "name": "stdout",
     "output_type": "stream",
     "text": [
      "Epoch [152/200], Step [0/41], Loss: 3.2864, BLEU@1: 0.2069\n",
      "Sample prediction:\n",
      "Pred: 4 304 15 105 26 8 3 2 2 2 2 2 2 2 2 2 2 2 12 2 2 2 3 2 2 2 2 2 2\n",
      "Target: 4 3 15 158 12 301 1219 8 189 1679 664 153 563 2 0 0 0 0 0 0 0 0 0 0 0 0 0 0 0\n",
      "\n"
     ]
    },
    {
     "name": "stderr",
     "output_type": "stream",
     "text": [
      "100%|██████████████████████████████████████████████████████████████████████████████████| 41/41 [00:47<00:00,  1.15s/it]\n"
     ]
    },
    {
     "name": "stdout",
     "output_type": "stream",
     "text": [
      "Epoch [152/200], Average Loss: 3.2436, Average BLEU@1: 0.1505\n",
      "Epoch [152/200], Average Loss: 3.2436, Average BLEU@1: 0.1505, Teacher Forcing Ratio: 0.3225\n"
     ]
    },
    {
     "name": "stderr",
     "output_type": "stream",
     "text": [
      "  2%|██                                                                                 | 1/41 [00:01<00:52,  1.32s/it]"
     ]
    },
    {
     "name": "stdout",
     "output_type": "stream",
     "text": [
      "Epoch [153/200], Step [0/41], Loss: 3.3574, BLEU@1: 0.1379\n",
      "Sample prediction:\n",
      "Pred: 4 5 15 58 8 2 8 2 2 2 2 2 2 2 24 8 2 2 2 2 8 2 2 2 2 2 2 2 2\n",
      "Target: 4 5 15 65 1744 2 0 0 0 0 0 0 0 0 0 0 0 0 0 0 0 0 0 0 0 0 0 0 0\n",
      "\n"
     ]
    },
    {
     "name": "stderr",
     "output_type": "stream",
     "text": [
      "100%|██████████████████████████████████████████████████████████████████████████████████| 41/41 [01:31<00:00,  2.23s/it]\n"
     ]
    },
    {
     "name": "stdout",
     "output_type": "stream",
     "text": [
      "Epoch [153/200], Average Loss: 3.2652, Average BLEU@1: 0.1447\n",
      "Epoch [153/200], Average Loss: 3.2652, Average BLEU@1: 0.1447, Teacher Forcing Ratio: 0.3200\n"
     ]
    },
    {
     "name": "stderr",
     "output_type": "stream",
     "text": [
      "  2%|██                                                                                 | 1/41 [00:01<00:53,  1.35s/it]"
     ]
    },
    {
     "name": "stdout",
     "output_type": "stream",
     "text": [
      "Epoch [154/200], Step [0/41], Loss: 3.0450, BLEU@1: 0.1379\n",
      "Sample prediction:\n",
      "Pred: 4 57 15 8 596 2 2 2 2 2 2 12 2 8 2 2 2 2 2 2 2 2 2 2 2 2 2 2 2\n",
      "Target: 4 57 426 21 596 2 0 0 0 0 0 0 0 0 0 0 0 0 0 0 0 0 0 0 0 0 0 0 0\n",
      "\n"
     ]
    },
    {
     "name": "stderr",
     "output_type": "stream",
     "text": [
      "100%|██████████████████████████████████████████████████████████████████████████████████| 41/41 [00:53<00:00,  1.31s/it]\n"
     ]
    },
    {
     "name": "stdout",
     "output_type": "stream",
     "text": [
      "Epoch [154/200], Average Loss: 3.2119, Average BLEU@1: 0.1463\n",
      "Epoch [154/200], Average Loss: 3.2119, Average BLEU@1: 0.1463, Teacher Forcing Ratio: 0.3175\n"
     ]
    },
    {
     "name": "stderr",
     "output_type": "stream",
     "text": [
      "  2%|██                                                                                 | 1/41 [00:01<00:55,  1.38s/it]"
     ]
    },
    {
     "name": "stdout",
     "output_type": "stream",
     "text": [
      "Epoch [155/200], Step [0/41], Loss: 3.1904, BLEU@1: 0.1034\n",
      "Sample prediction:\n",
      "Pred: 4 57 12 8 157 186 8 3 2 2 2 2 2 2 2 2 2 2 2 2 2 2 2 2 2 2 2 2 2\n",
      "Target: 4 537 157 602 207 21 970 2 0 0 0 0 0 0 0 0 0 0 0 0 0 0 0 0 0 0 0 0 0\n",
      "\n"
     ]
    },
    {
     "name": "stderr",
     "output_type": "stream",
     "text": [
      "100%|██████████████████████████████████████████████████████████████████████████████████| 41/41 [00:54<00:00,  1.33s/it]\n"
     ]
    },
    {
     "name": "stdout",
     "output_type": "stream",
     "text": [
      "Epoch [155/200], Average Loss: 3.2568, Average BLEU@1: 0.1514\n",
      "Epoch [155/200], Average Loss: 3.2568, Average BLEU@1: 0.1514, Teacher Forcing Ratio: 0.3150\n"
     ]
    },
    {
     "name": "stderr",
     "output_type": "stream",
     "text": [
      "  2%|██                                                                                 | 1/41 [00:01<00:55,  1.38s/it]"
     ]
    },
    {
     "name": "stdout",
     "output_type": "stream",
     "text": [
      "Epoch [156/200], Step [0/41], Loss: 3.2710, BLEU@1: 0.1379\n",
      "Sample prediction:\n",
      "Pred: 4 5 15 58 8 2 2 60 8 2 2 2 12 12 8 8 2 2 2 2 2 8 2 2 2 2 8 2 2\n",
      "Target: 4 5 15 218 1519 2 0 0 0 0 0 0 0 0 0 0 0 0 0 0 0 0 0 0 0 0 0 0 0\n",
      "\n"
     ]
    },
    {
     "name": "stderr",
     "output_type": "stream",
     "text": [
      "100%|██████████████████████████████████████████████████████████████████████████████████| 41/41 [00:55<00:00,  1.35s/it]\n"
     ]
    },
    {
     "name": "stdout",
     "output_type": "stream",
     "text": [
      "Epoch [156/200], Average Loss: 3.2706, Average BLEU@1: 0.1362\n",
      "Epoch [156/200], Average Loss: 3.2706, Average BLEU@1: 0.1362, Teacher Forcing Ratio: 0.3125\n"
     ]
    },
    {
     "name": "stderr",
     "output_type": "stream",
     "text": [
      "  2%|██                                                                                 | 1/41 [00:01<00:57,  1.43s/it]"
     ]
    },
    {
     "name": "stdout",
     "output_type": "stream",
     "text": [
      "Epoch [157/200], Step [0/41], Loss: 3.2709, BLEU@1: 0.1724\n",
      "Sample prediction:\n",
      "Pred: 4 5 15 8 2 2 2 2 2 24 8 2 2 2 2 2 8 2 2 2 2 2 2 2 2 2 2 2 2\n",
      "Target: 4 5 15 76 3 3 31 8 663 140 660 2 0 0 0 0 0 0 0 0 0 0 0 0 0 0 0 0 0\n",
      "\n"
     ]
    },
    {
     "name": "stderr",
     "output_type": "stream",
     "text": [
      "100%|██████████████████████████████████████████████████████████████████████████████████| 41/41 [00:53<00:00,  1.31s/it]\n"
     ]
    },
    {
     "name": "stdout",
     "output_type": "stream",
     "text": [
      "Epoch [157/200], Average Loss: 3.2506, Average BLEU@1: 0.1295\n",
      "Epoch [157/200], Average Loss: 3.2506, Average BLEU@1: 0.1295, Teacher Forcing Ratio: 0.3100\n"
     ]
    },
    {
     "name": "stderr",
     "output_type": "stream",
     "text": [
      "  2%|██                                                                                 | 1/41 [00:00<00:35,  1.14it/s]"
     ]
    },
    {
     "name": "stdout",
     "output_type": "stream",
     "text": [
      "Epoch [158/200], Step [0/41], Loss: 3.5038, BLEU@1: 0.1379\n",
      "Sample prediction:\n",
      "Pred: 4 57 15 8 8 2 2 2 2 2 2 2 2 2 2 2 2 8 2 2 2 2 2 8 3 2 2 2 2\n",
      "Target: 4 79 15 711 1726 19 8 1811 2 0 0 0 0 0 0 0 0 0 0 0 0 0 0 0 0 0 0 0 0\n",
      "\n"
     ]
    },
    {
     "name": "stderr",
     "output_type": "stream",
     "text": [
      "100%|██████████████████████████████████████████████████████████████████████████████████| 41/41 [00:35<00:00,  1.14it/s]\n"
     ]
    },
    {
     "name": "stdout",
     "output_type": "stream",
     "text": [
      "Epoch [158/200], Average Loss: 3.2590, Average BLEU@1: 0.1405\n",
      "Epoch [158/200], Average Loss: 3.2590, Average BLEU@1: 0.1405, Teacher Forcing Ratio: 0.3075\n"
     ]
    },
    {
     "name": "stderr",
     "output_type": "stream",
     "text": [
      "  2%|██                                                                                 | 1/41 [00:00<00:36,  1.09it/s]"
     ]
    },
    {
     "name": "stdout",
     "output_type": "stream",
     "text": [
      "Epoch [159/200], Step [0/41], Loss: 3.2031, BLEU@1: 0.1724\n",
      "Sample prediction:\n",
      "Pred: 4 57 15 8 8 8 3 2 2 2 2 2 2 2 2 2 3 2 2 2 2 2 2 2 2 2 2 2 2\n",
      "Target: 4 57 15 653 153 8 2019 2 0 0 0 0 0 0 0 0 0 0 0 0 0 0 0 0 0 0 0 0 0\n",
      "\n"
     ]
    },
    {
     "name": "stderr",
     "output_type": "stream",
     "text": [
      "100%|██████████████████████████████████████████████████████████████████████████████████| 41/41 [00:36<00:00,  1.13it/s]\n"
     ]
    },
    {
     "name": "stdout",
     "output_type": "stream",
     "text": [
      "Epoch [159/200], Average Loss: 3.3057, Average BLEU@1: 0.1548\n",
      "Epoch [159/200], Average Loss: 3.3057, Average BLEU@1: 0.1548, Teacher Forcing Ratio: 0.3050\n"
     ]
    },
    {
     "name": "stderr",
     "output_type": "stream",
     "text": [
      "  2%|██                                                                                 | 1/41 [00:00<00:36,  1.10it/s]"
     ]
    },
    {
     "name": "stdout",
     "output_type": "stream",
     "text": [
      "Epoch [160/200], Step [0/41], Loss: 3.1980, BLEU@1: 0.1034\n",
      "Sample prediction:\n",
      "Pred: 4 15 8 3 8 8 2 2 2 2 2 2 2 3 2 3 3 2 3 2 2 2 2 2 2 2 2 2 2\n",
      "Target: 389 2778 12 816 31 8 3 2436 2 0 0 0 0 0 0 0 0 0 0 0 0 0 0 0 0 0 0 0 0\n",
      "\n"
     ]
    },
    {
     "name": "stderr",
     "output_type": "stream",
     "text": [
      "100%|██████████████████████████████████████████████████████████████████████████████████| 41/41 [00:36<00:00,  1.12it/s]\n"
     ]
    },
    {
     "name": "stdout",
     "output_type": "stream",
     "text": [
      "Epoch [160/200], Average Loss: 3.3018, Average BLEU@1: 0.1346\n",
      "Epoch [160/200], Average Loss: 3.3018, Average BLEU@1: 0.1346, Teacher Forcing Ratio: 0.3025\n"
     ]
    },
    {
     "name": "stderr",
     "output_type": "stream",
     "text": [
      "  2%|██                                                                                 | 1/41 [00:00<00:37,  1.08it/s]"
     ]
    },
    {
     "name": "stdout",
     "output_type": "stream",
     "text": [
      "Epoch [161/200], Step [0/41], Loss: 3.1427, BLEU@1: 0.0690\n",
      "Sample prediction:\n",
      "Pred: 4 304 15 26 21 3 2 2 2 2 2 2 2 2 2 2 2 2 2 2 2 2 2 2 2 2 2 2 2\n",
      "Target: 21 2883 513 31 21 1908 12 814 917 2 0 0 0 0 0 0 0 0 0 0 0 0 0 0 0 0 0 0 0\n",
      "\n"
     ]
    },
    {
     "name": "stderr",
     "output_type": "stream",
     "text": [
      "100%|██████████████████████████████████████████████████████████████████████████████████| 41/41 [00:37<00:00,  1.09it/s]\n"
     ]
    },
    {
     "name": "stdout",
     "output_type": "stream",
     "text": [
      "Epoch [161/200], Average Loss: 3.2676, Average BLEU@1: 0.1455\n",
      "Epoch [161/200], Average Loss: 3.2676, Average BLEU@1: 0.1455, Teacher Forcing Ratio: 0.3000\n"
     ]
    },
    {
     "name": "stderr",
     "output_type": "stream",
     "text": [
      "  2%|██                                                                                 | 1/41 [00:00<00:35,  1.14it/s]"
     ]
    },
    {
     "name": "stdout",
     "output_type": "stream",
     "text": [
      "Epoch [162/200], Step [0/41], Loss: 3.2718, BLEU@1: 0.1379\n",
      "Sample prediction:\n",
      "Pred: 4 580 15 8 8 2 8 2 2 2 2 2 2 2 2 12 3 26 2 140 21 3 2 2 2 2 2 2 2\n",
      "Target: 55 122 223 8 1314 24 2723 12 3 63 17 1136 2 0 0 0 0 0 0 0 0 0 0 0 0 0 0 0 0\n",
      "\n"
     ]
    },
    {
     "name": "stderr",
     "output_type": "stream",
     "text": [
      "100%|██████████████████████████████████████████████████████████████████████████████████| 41/41 [00:37<00:00,  1.09it/s]\n"
     ]
    },
    {
     "name": "stdout",
     "output_type": "stream",
     "text": [
      "Epoch [162/200], Average Loss: 3.3185, Average BLEU@1: 0.1463\n",
      "Epoch [162/200], Average Loss: 3.3185, Average BLEU@1: 0.1463, Teacher Forcing Ratio: 0.2975\n"
     ]
    },
    {
     "name": "stderr",
     "output_type": "stream",
     "text": [
      "  2%|██                                                                                 | 1/41 [00:00<00:38,  1.03it/s]"
     ]
    },
    {
     "name": "stdout",
     "output_type": "stream",
     "text": [
      "Epoch [163/200], Step [0/41], Loss: 3.1600, BLEU@1: 0.1379\n",
      "Sample prediction:\n",
      "Pred: 4 57 15 8 8 2 8 153 8 2 2 2 2 2 2 2 2 2 2 2 2 2 2 2 2 2 2 2 2\n",
      "Target: 4 57 15 67 1181 2 0 0 0 0 0 0 0 0 0 0 0 0 0 0 0 0 0 0 0 0 0 0 0\n",
      "\n"
     ]
    },
    {
     "name": "stderr",
     "output_type": "stream",
     "text": [
      "100%|██████████████████████████████████████████████████████████████████████████████████| 41/41 [00:38<00:00,  1.08it/s]\n"
     ]
    },
    {
     "name": "stdout",
     "output_type": "stream",
     "text": [
      "Epoch [163/200], Average Loss: 3.2364, Average BLEU@1: 0.1304\n",
      "Epoch [163/200], Average Loss: 3.2364, Average BLEU@1: 0.1304, Teacher Forcing Ratio: 0.2950\n"
     ]
    },
    {
     "name": "stderr",
     "output_type": "stream",
     "text": [
      "  2%|██                                                                                 | 1/41 [00:00<00:36,  1.10it/s]"
     ]
    },
    {
     "name": "stdout",
     "output_type": "stream",
     "text": [
      "Epoch [164/200], Step [0/41], Loss: 3.0610, BLEU@1: 0.1379\n",
      "Sample prediction:\n",
      "Pred: 4 5 15 8 8 2 2 2 2 2 2 8 2 2 2 2 2 2 2 2 2 2 2 2 2 2 2 2 2\n",
      "Target: 4 5 15 65 2645 2 0 0 0 0 0 0 0 0 0 0 0 0 0 0 0 0 0 0 0 0 0 0 0\n",
      "\n"
     ]
    },
    {
     "name": "stderr",
     "output_type": "stream",
     "text": [
      "100%|██████████████████████████████████████████████████████████████████████████████████| 41/41 [00:37<00:00,  1.08it/s]\n"
     ]
    },
    {
     "name": "stdout",
     "output_type": "stream",
     "text": [
      "Epoch [164/200], Average Loss: 3.2555, Average BLEU@1: 0.1295\n",
      "Epoch [164/200], Average Loss: 3.2555, Average BLEU@1: 0.1295, Teacher Forcing Ratio: 0.2925\n"
     ]
    },
    {
     "name": "stderr",
     "output_type": "stream",
     "text": [
      "  2%|██                                                                                 | 1/41 [00:00<00:38,  1.05it/s]"
     ]
    },
    {
     "name": "stdout",
     "output_type": "stream",
     "text": [
      "Epoch [165/200], Step [0/41], Loss: 3.0900, BLEU@1: 0.1034\n",
      "Sample prediction:\n",
      "Pred: 4 185 15 301 8 596 2 2 2 2 2 2 2 2 2 2 2 2 21 3 2 2 2 2 2 2 2 2 2\n",
      "Target: 4 412 57 426 8 1947 2 0 0 0 0 0 0 0 0 0 0 0 0 0 0 0 0 0 0 0 0 0 0\n",
      "\n"
     ]
    },
    {
     "name": "stderr",
     "output_type": "stream",
     "text": [
      "100%|██████████████████████████████████████████████████████████████████████████████████| 41/41 [00:38<00:00,  1.07it/s]\n"
     ]
    },
    {
     "name": "stdout",
     "output_type": "stream",
     "text": [
      "Epoch [165/200], Average Loss: 3.2194, Average BLEU@1: 0.1472\n",
      "Epoch [165/200], Average Loss: 3.2194, Average BLEU@1: 0.1472, Teacher Forcing Ratio: 0.2900\n"
     ]
    },
    {
     "name": "stderr",
     "output_type": "stream",
     "text": [
      "  2%|██                                                                                 | 1/41 [00:00<00:37,  1.05it/s]"
     ]
    },
    {
     "name": "stdout",
     "output_type": "stream",
     "text": [
      "Epoch [166/200], Step [0/41], Loss: 3.4280, BLEU@1: 0.1379\n",
      "Sample prediction:\n",
      "Pred: 4 57 15 8 8 2 2 2 2 2 2 2 2 2 21 3 2 2 2 21 3 2 2 2 2 2 2 2 2\n",
      "Target: 55 57 15 186 203 481 26 21 1981 2 0 0 0 0 0 0 0 0 0 0 0 0 0 0 0 0 0 0 0\n",
      "\n"
     ]
    },
    {
     "name": "stderr",
     "output_type": "stream",
     "text": [
      "100%|██████████████████████████████████████████████████████████████████████████████████| 41/41 [00:37<00:00,  1.08it/s]\n"
     ]
    },
    {
     "name": "stdout",
     "output_type": "stream",
     "text": [
      "Epoch [166/200], Average Loss: 3.2320, Average BLEU@1: 0.1362\n",
      "Epoch [166/200], Average Loss: 3.2320, Average BLEU@1: 0.1362, Teacher Forcing Ratio: 0.2875\n"
     ]
    },
    {
     "name": "stderr",
     "output_type": "stream",
     "text": [
      "  2%|██                                                                                 | 1/41 [00:00<00:36,  1.10it/s]"
     ]
    },
    {
     "name": "stdout",
     "output_type": "stream",
     "text": [
      "Epoch [167/200], Step [0/41], Loss: 3.3678, BLEU@1: 0.2069\n",
      "Sample prediction:\n",
      "Pred: 4 57 15 8 8 2 8 8 2 2 3 2 2 3 2 3 2 8 3 2 2 2 2 2 2 2 2 2 2\n",
      "Target: 4 57 15 585 8 462 24 2535 153 8 1261 2 0 0 0 0 0 0 0 0 0 0 0 0 0 0 0 0 0\n",
      "\n"
     ]
    },
    {
     "name": "stderr",
     "output_type": "stream",
     "text": [
      "100%|██████████████████████████████████████████████████████████████████████████████████| 41/41 [00:38<00:00,  1.08it/s]\n"
     ]
    },
    {
     "name": "stdout",
     "output_type": "stream",
     "text": [
      "Epoch [167/200], Average Loss: 3.2850, Average BLEU@1: 0.1304\n",
      "Epoch [167/200], Average Loss: 3.2850, Average BLEU@1: 0.1304, Teacher Forcing Ratio: 0.2850\n"
     ]
    },
    {
     "name": "stderr",
     "output_type": "stream",
     "text": [
      "  2%|██                                                                                 | 1/41 [00:00<00:38,  1.05it/s]"
     ]
    },
    {
     "name": "stdout",
     "output_type": "stream",
     "text": [
      "Epoch [168/200], Step [0/41], Loss: 3.1113, BLEU@1: 0.1724\n",
      "Sample prediction:\n",
      "Pred: 4 57 15 97 8 60 8 2 2 2 2 2 8 2 24 8 12 2 2 2 2 2 2 2 2 2 2 2 2\n",
      "Target: 4 57 62 63 59 60 8 64 2 0 0 0 0 0 0 0 0 0 0 0 0 0 0 0 0 0 0 0 0\n",
      "\n"
     ]
    },
    {
     "name": "stderr",
     "output_type": "stream",
     "text": [
      "100%|██████████████████████████████████████████████████████████████████████████████████| 41/41 [00:37<00:00,  1.08it/s]\n"
     ]
    },
    {
     "name": "stdout",
     "output_type": "stream",
     "text": [
      "Epoch [168/200], Average Loss: 3.3070, Average BLEU@1: 0.1615\n",
      "Epoch [168/200], Average Loss: 3.3070, Average BLEU@1: 0.1615, Teacher Forcing Ratio: 0.2825\n"
     ]
    },
    {
     "name": "stderr",
     "output_type": "stream",
     "text": [
      "  2%|██                                                                                 | 1/41 [00:00<00:38,  1.03it/s]"
     ]
    },
    {
     "name": "stdout",
     "output_type": "stream",
     "text": [
      "Epoch [169/200], Step [0/41], Loss: 2.9572, BLEU@1: 0.0345\n",
      "Sample prediction:\n",
      "Pred: 4 304 15 8 2 2 2 2 2 2 2 2 2 2 2 2 2 2 2 2 2 2 2 2 2 2 2 2 2\n",
      "Target: 55 122 2261 140 21 816 554 26 21 2437 2550 2 0 0 0 0 0 0 0 0 0 0 0 0 0 0 0 0 0\n",
      "\n"
     ]
    },
    {
     "name": "stderr",
     "output_type": "stream",
     "text": [
      "100%|██████████████████████████████████████████████████████████████████████████████████| 41/41 [00:38<00:00,  1.08it/s]\n"
     ]
    },
    {
     "name": "stdout",
     "output_type": "stream",
     "text": [
      "Epoch [169/200], Average Loss: 3.2460, Average BLEU@1: 0.1329\n",
      "Epoch [169/200], Average Loss: 3.2460, Average BLEU@1: 0.1329, Teacher Forcing Ratio: 0.2800\n"
     ]
    },
    {
     "name": "stderr",
     "output_type": "stream",
     "text": [
      "  2%|██                                                                                 | 1/41 [00:00<00:38,  1.04it/s]"
     ]
    },
    {
     "name": "stdout",
     "output_type": "stream",
     "text": [
      "Epoch [170/200], Step [0/41], Loss: 3.3498, BLEU@1: 0.2069\n",
      "Sample prediction:\n",
      "Pred: 4 57 15 8 8 26 8 8 2 2 2 2 2 24 2 8 3 24 8 3 2 2 2 2 2 2 2 2 2\n",
      "Target: 4 57 15 312 3 19 8 2672 2 0 0 0 0 0 0 0 0 0 0 0 0 0 0 0 0 0 0 0 0\n",
      "\n"
     ]
    },
    {
     "name": "stderr",
     "output_type": "stream",
     "text": [
      "100%|██████████████████████████████████████████████████████████████████████████████████| 41/41 [00:38<00:00,  1.08it/s]\n"
     ]
    },
    {
     "name": "stdout",
     "output_type": "stream",
     "text": [
      "Epoch [170/200], Average Loss: 3.2329, Average BLEU@1: 0.1447\n",
      "Epoch [170/200], Average Loss: 3.2329, Average BLEU@1: 0.1447, Teacher Forcing Ratio: 0.2775\n"
     ]
    },
    {
     "name": "stderr",
     "output_type": "stream",
     "text": [
      "  2%|██                                                                                 | 1/41 [00:00<00:37,  1.06it/s]"
     ]
    },
    {
     "name": "stdout",
     "output_type": "stream",
     "text": [
      "Epoch [171/200], Step [0/41], Loss: 2.6996, BLEU@1: 0.1724\n",
      "Sample prediction:\n",
      "Pred: 4 57 15 8 103 8 31 8 3 2 2 2 2 2 2 2 2 2 2 2 2 2 2 2 2 2 2 2 2\n",
      "Target: 4 57 15 1892 140 2239 60 8 174 2785 2 0 0 0 0 0 0 0 0 0 0 0 0 0 0 0 0 0 0\n",
      "\n"
     ]
    },
    {
     "name": "stderr",
     "output_type": "stream",
     "text": [
      "100%|██████████████████████████████████████████████████████████████████████████████████| 41/41 [00:38<00:00,  1.08it/s]\n"
     ]
    },
    {
     "name": "stdout",
     "output_type": "stream",
     "text": [
      "Epoch [171/200], Average Loss: 3.1999, Average BLEU@1: 0.1522\n",
      "Epoch [171/200], Average Loss: 3.1999, Average BLEU@1: 0.1522, Teacher Forcing Ratio: 0.2750\n"
     ]
    },
    {
     "name": "stderr",
     "output_type": "stream",
     "text": [
      "  2%|██                                                                                 | 1/41 [00:00<00:37,  1.06it/s]"
     ]
    },
    {
     "name": "stdout",
     "output_type": "stream",
     "text": [
      "Epoch [172/200], Step [0/41], Loss: 2.8779, BLEU@1: 0.1724\n",
      "Sample prediction:\n",
      "Pred: 4 57 15 8 60 8 2 2 2 2 8 2 8 3 2 2 2 2 2 2 2 2 2 2 2 2 2 2 2\n",
      "Target: 4 57 267 2133 60 8 2135 2 0 0 0 0 0 0 0 0 0 0 0 0 0 0 0 0 0 0 0 0 0\n",
      "\n"
     ]
    },
    {
     "name": "stderr",
     "output_type": "stream",
     "text": [
      "100%|██████████████████████████████████████████████████████████████████████████████████| 41/41 [00:38<00:00,  1.07it/s]\n"
     ]
    },
    {
     "name": "stdout",
     "output_type": "stream",
     "text": [
      "Epoch [172/200], Average Loss: 3.2417, Average BLEU@1: 0.1236\n",
      "Epoch [172/200], Average Loss: 3.2417, Average BLEU@1: 0.1236, Teacher Forcing Ratio: 0.2725\n"
     ]
    },
    {
     "name": "stderr",
     "output_type": "stream",
     "text": [
      "  2%|██                                                                                 | 1/41 [00:00<00:38,  1.04it/s]"
     ]
    },
    {
     "name": "stdout",
     "output_type": "stream",
     "text": [
      "Epoch [173/200], Step [0/41], Loss: 3.1952, BLEU@1: 0.1379\n",
      "Sample prediction:\n",
      "Pred: 4 57 15 8 8 2 2 2 2 8 2 2 2 3 2 2 2 26 21 3 2 21 3 2 2 2 2 2 2\n",
      "Target: 4 57 1641 8 635 2 0 0 0 0 0 0 0 0 0 0 0 0 0 0 0 0 0 0 0 0 0 0 0\n",
      "\n"
     ]
    },
    {
     "name": "stderr",
     "output_type": "stream",
     "text": [
      "100%|██████████████████████████████████████████████████████████████████████████████████| 41/41 [00:38<00:00,  1.07it/s]\n"
     ]
    },
    {
     "name": "stdout",
     "output_type": "stream",
     "text": [
      "Epoch [173/200], Average Loss: 3.3000, Average BLEU@1: 0.1312\n",
      "Epoch [173/200], Average Loss: 3.3000, Average BLEU@1: 0.1312, Teacher Forcing Ratio: 0.2700\n"
     ]
    },
    {
     "name": "stderr",
     "output_type": "stream",
     "text": [
      "  2%|██                                                                                 | 1/41 [00:00<00:38,  1.05it/s]"
     ]
    },
    {
     "name": "stdout",
     "output_type": "stream",
     "text": [
      "Epoch [174/200], Step [0/41], Loss: 2.9724, BLEU@1: 0.1379\n",
      "Sample prediction:\n",
      "Pred: 4 57 15 8 8 2 2 2 2 2 2 2 2 2 2 2 2 3 2 2 2 2 2 2 2 2 2 2 2\n",
      "Target: 4 57 15 234 1714 2 0 0 0 0 0 0 0 0 0 0 0 0 0 0 0 0 0 0 0 0 0 0 0\n",
      "\n"
     ]
    },
    {
     "name": "stderr",
     "output_type": "stream",
     "text": [
      "100%|██████████████████████████████████████████████████████████████████████████████████| 41/41 [00:38<00:00,  1.06it/s]\n"
     ]
    },
    {
     "name": "stdout",
     "output_type": "stream",
     "text": [
      "Epoch [174/200], Average Loss: 3.2345, Average BLEU@1: 0.1388\n",
      "Epoch [174/200], Average Loss: 3.2345, Average BLEU@1: 0.1388, Teacher Forcing Ratio: 0.2675\n"
     ]
    },
    {
     "name": "stderr",
     "output_type": "stream",
     "text": [
      "  2%|██                                                                                 | 1/41 [00:00<00:38,  1.03it/s]"
     ]
    },
    {
     "name": "stdout",
     "output_type": "stream",
     "text": [
      "Epoch [175/200], Step [0/41], Loss: 3.4543, BLEU@1: 0.0690\n",
      "Sample prediction:\n",
      "Pred: 55 157 157 157 2 2 3 2 2 2 2 2 2 2 2 2 2 2 2 2 2 2 2 2 2 2 2 2 2\n",
      "Target: 55 390 1972 1060 31 21 1060 967 2 0 0 0 0 0 0 0 0 0 0 0 0 0 0 0 0 0 0 0 0\n",
      "\n"
     ]
    },
    {
     "name": "stderr",
     "output_type": "stream",
     "text": [
      "100%|██████████████████████████████████████████████████████████████████████████████████| 41/41 [00:38<00:00,  1.08it/s]\n"
     ]
    },
    {
     "name": "stdout",
     "output_type": "stream",
     "text": [
      "Epoch [175/200], Average Loss: 3.3133, Average BLEU@1: 0.1295\n",
      "Epoch [175/200], Average Loss: 3.3133, Average BLEU@1: 0.1295, Teacher Forcing Ratio: 0.2650\n"
     ]
    },
    {
     "name": "stderr",
     "output_type": "stream",
     "text": [
      "  2%|██                                                                                 | 1/41 [00:00<00:38,  1.04it/s]"
     ]
    },
    {
     "name": "stdout",
     "output_type": "stream",
     "text": [
      "Epoch [176/200], Step [0/41], Loss: 3.0315, BLEU@1: 0.2414\n",
      "Sample prediction:\n",
      "Pred: 4 57 15 8 3 2 8 3 2 2 8 3 24 2 3 3 2 21 3 2 2 2 2 2 2 2 2 2 2\n",
      "Target: 4 57 756 21 3 24 8 2244 2 0 0 0 0 0 0 0 0 0 0 0 0 0 0 0 0 0 0 0 0\n",
      "\n"
     ]
    },
    {
     "name": "stderr",
     "output_type": "stream",
     "text": [
      "100%|██████████████████████████████████████████████████████████████████████████████████| 41/41 [00:38<00:00,  1.07it/s]\n"
     ]
    },
    {
     "name": "stdout",
     "output_type": "stream",
     "text": [
      "Epoch [176/200], Average Loss: 3.2307, Average BLEU@1: 0.1405\n",
      "Epoch [176/200], Average Loss: 3.2307, Average BLEU@1: 0.1405, Teacher Forcing Ratio: 0.2625\n"
     ]
    },
    {
     "name": "stderr",
     "output_type": "stream",
     "text": [
      "  2%|██                                                                                 | 1/41 [00:00<00:37,  1.08it/s]"
     ]
    },
    {
     "name": "stdout",
     "output_type": "stream",
     "text": [
      "Epoch [177/200], Step [0/41], Loss: 3.4393, BLEU@1: 0.2069\n",
      "Sample prediction:\n",
      "Pred: 4 57 15 186 8 26 8 2 2 2 2 2 2 2 2 2 2 2 2 2 2 2 2 2 2 2 2 2 2\n",
      "Target: 4 57 15 234 1305 26 8 478 2 0 0 0 0 0 0 0 0 0 0 0 0 0 0 0 0 0 0 0 0\n",
      "\n"
     ]
    },
    {
     "name": "stderr",
     "output_type": "stream",
     "text": [
      "100%|██████████████████████████████████████████████████████████████████████████████████| 41/41 [00:38<00:00,  1.07it/s]\n"
     ]
    },
    {
     "name": "stdout",
     "output_type": "stream",
     "text": [
      "Epoch [177/200], Average Loss: 3.2031, Average BLEU@1: 0.1396\n",
      "Epoch [177/200], Average Loss: 3.2031, Average BLEU@1: 0.1396, Teacher Forcing Ratio: 0.2600\n"
     ]
    },
    {
     "name": "stderr",
     "output_type": "stream",
     "text": [
      "  2%|██                                                                                 | 1/41 [00:00<00:39,  1.02it/s]"
     ]
    },
    {
     "name": "stdout",
     "output_type": "stream",
     "text": [
      "Epoch [178/200], Step [0/41], Loss: 3.0281, BLEU@1: 0.0690\n",
      "Sample prediction:\n",
      "Pred: 4 157 157 2 2 2 2 2 2 2 2 2 2 2 2 2 2 2 2 2 2 2 2 2 2 2 2 2 2\n",
      "Target: 2909 157 105 3 2 0 0 0 0 0 0 0 0 0 0 0 0 0 0 0 0 0 0 0 0 0 0 0 0\n",
      "\n"
     ]
    },
    {
     "name": "stderr",
     "output_type": "stream",
     "text": [
      "100%|██████████████████████████████████████████████████████████████████████████████████| 41/41 [00:37<00:00,  1.08it/s]\n"
     ]
    },
    {
     "name": "stdout",
     "output_type": "stream",
     "text": [
      "Epoch [178/200], Average Loss: 3.2431, Average BLEU@1: 0.1379\n",
      "Epoch [178/200], Average Loss: 3.2431, Average BLEU@1: 0.1379, Teacher Forcing Ratio: 0.2575\n"
     ]
    },
    {
     "name": "stderr",
     "output_type": "stream",
     "text": [
      "  2%|██                                                                                 | 1/41 [00:00<00:37,  1.07it/s]"
     ]
    },
    {
     "name": "stdout",
     "output_type": "stream",
     "text": [
      "Epoch [179/200], Step [0/41], Loss: 3.2926, BLEU@1: 0.1724\n",
      "Sample prediction:\n",
      "Pred: 4 57 1099 15 8 8 24 8 2 2 2 2 2 2 2 2 2 2 2 2 2 2 2 2 2 2 2 2 2\n",
      "Target: 4 57 1293 8 1101 182 31 8 2167 1093 2 0 0 0 0 0 0 0 0 0 0 0 0 0 0 0 0 0 0\n",
      "\n"
     ]
    },
    {
     "name": "stderr",
     "output_type": "stream",
     "text": [
      "100%|██████████████████████████████████████████████████████████████████████████████████| 41/41 [00:38<00:00,  1.08it/s]\n"
     ]
    },
    {
     "name": "stdout",
     "output_type": "stream",
     "text": [
      "Epoch [179/200], Average Loss: 3.2824, Average BLEU@1: 0.1388\n",
      "Epoch [179/200], Average Loss: 3.2824, Average BLEU@1: 0.1388, Teacher Forcing Ratio: 0.2550\n"
     ]
    },
    {
     "name": "stderr",
     "output_type": "stream",
     "text": [
      "  2%|██                                                                                 | 1/41 [00:00<00:38,  1.05it/s]"
     ]
    },
    {
     "name": "stdout",
     "output_type": "stream",
     "text": [
      "Epoch [180/200], Step [0/41], Loss: 2.9597, BLEU@1: 0.1379\n",
      "Sample prediction:\n",
      "Pred: 4 185 15 186 26 26 8 2 2 2 2 2 2 2 2 2 2 2 2 2 2 2 2 2 2 2 2 2 2\n",
      "Target: 4 57 15 51 198 175 8 858 443 2 0 0 0 0 0 0 0 0 0 0 0 0 0 0 0 0 0 0 0\n",
      "\n"
     ]
    },
    {
     "name": "stderr",
     "output_type": "stream",
     "text": [
      "100%|██████████████████████████████████████████████████████████████████████████████████| 41/41 [00:38<00:00,  1.07it/s]\n"
     ]
    },
    {
     "name": "stdout",
     "output_type": "stream",
     "text": [
      "Epoch [180/200], Average Loss: 3.2484, Average BLEU@1: 0.1489\n",
      "Epoch [180/200], Average Loss: 3.2484, Average BLEU@1: 0.1489, Teacher Forcing Ratio: 0.2525\n"
     ]
    },
    {
     "name": "stderr",
     "output_type": "stream",
     "text": [
      "  2%|██                                                                                 | 1/41 [00:00<00:37,  1.06it/s]"
     ]
    },
    {
     "name": "stdout",
     "output_type": "stream",
     "text": [
      "Epoch [181/200], Step [0/41], Loss: 2.7698, BLEU@1: 0.1379\n",
      "Sample prediction:\n",
      "Pred: 4 5 15 21 60 31 8 61 2 2 2 12 31 8 31 8 2 2 2 2 2 2 2 2 2 2 2 2 2\n",
      "Target: 55 37 574 21 661 31 8 64 2 0 0 0 0 0 0 0 0 0 0 0 0 0 0 0 0 0 0 0 0\n",
      "\n"
     ]
    },
    {
     "name": "stderr",
     "output_type": "stream",
     "text": [
      "100%|██████████████████████████████████████████████████████████████████████████████████| 41/41 [00:38<00:00,  1.07it/s]\n"
     ]
    },
    {
     "name": "stdout",
     "output_type": "stream",
     "text": [
      "Epoch [181/200], Average Loss: 3.2535, Average BLEU@1: 0.1379\n",
      "Epoch [181/200], Average Loss: 3.2535, Average BLEU@1: 0.1379, Teacher Forcing Ratio: 0.2500\n"
     ]
    },
    {
     "name": "stderr",
     "output_type": "stream",
     "text": [
      "  2%|██                                                                                 | 1/41 [00:00<00:38,  1.05it/s]"
     ]
    },
    {
     "name": "stdout",
     "output_type": "stream",
     "text": [
      "Epoch [182/200], Step [0/41], Loss: 3.1083, BLEU@1: 0.1379\n",
      "Sample prediction:\n",
      "Pred: 4 79 15 58 8 2 2 2 2 2 2 60 8 2 2 2 8 2 2 2 2 2 2 2 8 2 2 2 2\n",
      "Target: 4 79 216 8 116 2 0 0 0 0 0 0 0 0 0 0 0 0 0 0 0 0 0 0 0 0 0 0 0\n",
      "\n"
     ]
    },
    {
     "name": "stderr",
     "output_type": "stream",
     "text": [
      "100%|██████████████████████████████████████████████████████████████████████████████████| 41/41 [00:38<00:00,  1.08it/s]\n"
     ]
    },
    {
     "name": "stdout",
     "output_type": "stream",
     "text": [
      "Epoch [182/200], Average Loss: 3.3204, Average BLEU@1: 0.1236\n",
      "Epoch [182/200], Average Loss: 3.3204, Average BLEU@1: 0.1236, Teacher Forcing Ratio: 0.2475\n"
     ]
    },
    {
     "name": "stderr",
     "output_type": "stream",
     "text": [
      "  2%|██                                                                                 | 1/41 [00:00<00:36,  1.09it/s]"
     ]
    },
    {
     "name": "stdout",
     "output_type": "stream",
     "text": [
      "Epoch [183/200], Step [0/41], Loss: 3.0711, BLEU@1: 0.0345\n",
      "Sample prediction:\n",
      "Pred: 4 14 15 21 21 2 2 2 2 2 2 2 21 3 2 2 3 2 2 2 2 2 2 2 2 2 2 2 2\n",
      "Target: 55 185 356 203 596 2 0 0 0 0 0 0 0 0 0 0 0 0 0 0 0 0 0 0 0 0 0 0 0\n",
      "\n"
     ]
    },
    {
     "name": "stderr",
     "output_type": "stream",
     "text": [
      "100%|██████████████████████████████████████████████████████████████████████████████████| 41/41 [00:37<00:00,  1.10it/s]\n"
     ]
    },
    {
     "name": "stdout",
     "output_type": "stream",
     "text": [
      "Epoch [183/200], Average Loss: 3.2430, Average BLEU@1: 0.1346\n",
      "Epoch [183/200], Average Loss: 3.2430, Average BLEU@1: 0.1346, Teacher Forcing Ratio: 0.2450\n"
     ]
    },
    {
     "name": "stderr",
     "output_type": "stream",
     "text": [
      "  2%|██                                                                                 | 1/41 [00:00<00:38,  1.05it/s]"
     ]
    },
    {
     "name": "stdout",
     "output_type": "stream",
     "text": [
      "Epoch [184/200], Step [0/41], Loss: 3.3907, BLEU@1: 0.1034\n",
      "Sample prediction:\n",
      "Pred: 4 57 15 8 8 8 8 2 2 2 2 2 3 2 2 2 2 2 2 2 2 2 2 2 2 2 12 2 2\n",
      "Target: 4 872 1901 1590 875 8 1447 2 0 0 0 0 0 0 0 0 0 0 0 0 0 0 0 0 0 0 0 0 0\n",
      "\n"
     ]
    },
    {
     "name": "stderr",
     "output_type": "stream",
     "text": [
      "100%|██████████████████████████████████████████████████████████████████████████████████| 41/41 [00:38<00:00,  1.07it/s]\n"
     ]
    },
    {
     "name": "stdout",
     "output_type": "stream",
     "text": [
      "Epoch [184/200], Average Loss: 3.2639, Average BLEU@1: 0.1430\n",
      "Epoch [184/200], Average Loss: 3.2639, Average BLEU@1: 0.1430, Teacher Forcing Ratio: 0.2425\n"
     ]
    },
    {
     "name": "stderr",
     "output_type": "stream",
     "text": [
      "  2%|██                                                                                 | 1/41 [00:00<00:36,  1.09it/s]"
     ]
    },
    {
     "name": "stdout",
     "output_type": "stream",
     "text": [
      "Epoch [185/200], Step [0/41], Loss: 3.5951, BLEU@1: 0.1379\n",
      "Sample prediction:\n",
      "Pred: 4 5 15 65 8 8 2 2 2 2 2 2 2 2 2 2 2 2 2 2 2 2 2 2 2 2 2 2 2\n",
      "Target: 4 410 14 15 2680 3 60 8 81 82 2 0 0 0 0 0 0 0 0 0 0 0 0 0 0 0 0 0 0\n",
      "\n"
     ]
    },
    {
     "name": "stderr",
     "output_type": "stream",
     "text": [
      "100%|██████████████████████████████████████████████████████████████████████████████████| 41/41 [00:37<00:00,  1.08it/s]\n"
     ]
    },
    {
     "name": "stdout",
     "output_type": "stream",
     "text": [
      "Epoch [185/200], Average Loss: 3.2580, Average BLEU@1: 0.1379\n",
      "Epoch [185/200], Average Loss: 3.2580, Average BLEU@1: 0.1379, Teacher Forcing Ratio: 0.2400\n"
     ]
    },
    {
     "name": "stderr",
     "output_type": "stream",
     "text": [
      "  2%|██                                                                                 | 1/41 [00:00<00:35,  1.14it/s]"
     ]
    },
    {
     "name": "stdout",
     "output_type": "stream",
     "text": [
      "Epoch [186/200], Step [0/41], Loss: 3.0066, BLEU@1: 0.1379\n",
      "Sample prediction:\n",
      "Pred: 4 5 15 8 8 2 2 2 2 2 2 60 8 2 2 2 2 2 2 2 8 2 2 2 2 2 2 2 2\n",
      "Target: 4 5 85 63 8 1300 2 0 0 0 0 0 0 0 0 0 0 0 0 0 0 0 0 0 0 0 0 0 0\n",
      "\n"
     ]
    },
    {
     "name": "stderr",
     "output_type": "stream",
     "text": [
      "100%|██████████████████████████████████████████████████████████████████████████████████| 41/41 [00:37<00:00,  1.09it/s]\n"
     ]
    },
    {
     "name": "stdout",
     "output_type": "stream",
     "text": [
      "Epoch [186/200], Average Loss: 3.2970, Average BLEU@1: 0.1354\n",
      "Epoch [186/200], Average Loss: 3.2970, Average BLEU@1: 0.1354, Teacher Forcing Ratio: 0.2375\n"
     ]
    },
    {
     "name": "stderr",
     "output_type": "stream",
     "text": [
      "  2%|██                                                                                 | 1/41 [00:00<00:38,  1.04it/s]"
     ]
    },
    {
     "name": "stdout",
     "output_type": "stream",
     "text": [
      "Epoch [187/200], Step [0/41], Loss: 3.2565, BLEU@1: 0.1034\n",
      "Sample prediction:\n",
      "Pred: 4 57 15 15 8 2 2 2 2 2 2 2 2 2 2 2 2 2 2 2 2 2 2 2 2 2 2 2 2\n",
      "Target: 4 3 839 15 342 2 0 0 0 0 0 0 0 0 0 0 0 0 0 0 0 0 0 0 0 0 0 0 0\n",
      "\n"
     ]
    },
    {
     "name": "stderr",
     "output_type": "stream",
     "text": [
      "100%|██████████████████████████████████████████████████████████████████████████████████| 41/41 [00:37<00:00,  1.09it/s]\n"
     ]
    },
    {
     "name": "stdout",
     "output_type": "stream",
     "text": [
      "Epoch [187/200], Average Loss: 3.2585, Average BLEU@1: 0.1438\n",
      "Epoch [187/200], Average Loss: 3.2585, Average BLEU@1: 0.1438, Teacher Forcing Ratio: 0.2350\n"
     ]
    },
    {
     "name": "stderr",
     "output_type": "stream",
     "text": [
      "  2%|██                                                                                 | 1/41 [00:00<00:37,  1.07it/s]"
     ]
    },
    {
     "name": "stdout",
     "output_type": "stream",
     "text": [
      "Epoch [188/200], Step [0/41], Loss: 3.3178, BLEU@1: 0.1379\n",
      "Sample prediction:\n",
      "Pred: 4 57 15 301 8 2 2 2 2 2 2 2 2 2 8 3 2 2 2 2 2 2 2 2 2 2 2 2 2\n",
      "Target: 4 839 15 229 26 8 638 2 0 0 0 0 0 0 0 0 0 0 0 0 0 0 0 0 0 0 0 0 0\n",
      "\n"
     ]
    },
    {
     "name": "stderr",
     "output_type": "stream",
     "text": [
      "100%|██████████████████████████████████████████████████████████████████████████████████| 41/41 [00:37<00:00,  1.08it/s]\n"
     ]
    },
    {
     "name": "stdout",
     "output_type": "stream",
     "text": [
      "Epoch [188/200], Average Loss: 3.3002, Average BLEU@1: 0.1430\n",
      "Epoch [188/200], Average Loss: 3.3002, Average BLEU@1: 0.1430, Teacher Forcing Ratio: 0.2325\n"
     ]
    },
    {
     "name": "stderr",
     "output_type": "stream",
     "text": [
      "  2%|██                                                                                 | 1/41 [00:00<00:38,  1.05it/s]"
     ]
    },
    {
     "name": "stdout",
     "output_type": "stream",
     "text": [
      "Epoch [189/200], Step [0/41], Loss: 3.2299, BLEU@1: 0.2069\n",
      "Sample prediction:\n",
      "Pred: 4 57 15 8 8 8 8 3 2 2 2 2 2 3 2 2 3 2 2 2 2 2 2 2 2 2 2 2 2\n",
      "Target: 4 57 231 8 3 60 8 2716 2 0 0 0 0 0 0 0 0 0 0 0 0 0 0 0 0 0 0 0 0\n",
      "\n"
     ]
    },
    {
     "name": "stderr",
     "output_type": "stream",
     "text": [
      "100%|██████████████████████████████████████████████████████████████████████████████████| 41/41 [00:37<00:00,  1.08it/s]\n"
     ]
    },
    {
     "name": "stdout",
     "output_type": "stream",
     "text": [
      "Epoch [189/200], Average Loss: 3.2807, Average BLEU@1: 0.1421\n",
      "Epoch [189/200], Average Loss: 3.2807, Average BLEU@1: 0.1421, Teacher Forcing Ratio: 0.2300\n"
     ]
    },
    {
     "name": "stderr",
     "output_type": "stream",
     "text": [
      "  2%|██                                                                                 | 1/41 [00:00<00:38,  1.05it/s]"
     ]
    },
    {
     "name": "stdout",
     "output_type": "stream",
     "text": [
      "Epoch [190/200], Step [0/41], Loss: 3.5417, BLEU@1: 0.1034\n",
      "Sample prediction:\n",
      "Pred: 4 157 157 31 8 2 2 2 2 2 2 2 2 3 2 2 2 2 2 2 2 2 2 2 2 2 2 2 2\n",
      "Target: 2673 15 3 16 8 2311 2 0 0 0 0 0 0 0 0 0 0 0 0 0 0 0 0 0 0 0 0 0 0\n",
      "\n"
     ]
    },
    {
     "name": "stderr",
     "output_type": "stream",
     "text": [
      "100%|██████████████████████████████████████████████████████████████████████████████████| 41/41 [00:37<00:00,  1.08it/s]\n"
     ]
    },
    {
     "name": "stdout",
     "output_type": "stream",
     "text": [
      "Epoch [190/200], Average Loss: 3.2685, Average BLEU@1: 0.1228\n",
      "Epoch [190/200], Average Loss: 3.2685, Average BLEU@1: 0.1228, Teacher Forcing Ratio: 0.2275\n"
     ]
    },
    {
     "name": "stderr",
     "output_type": "stream",
     "text": [
      "  2%|██                                                                                 | 1/41 [00:00<00:38,  1.04it/s]"
     ]
    },
    {
     "name": "stdout",
     "output_type": "stream",
     "text": [
      "Epoch [191/200], Step [0/41], Loss: 3.2982, BLEU@1: 0.1724\n",
      "Sample prediction:\n",
      "Pred: 4 5 15 58 8 1226 2 2 60 8 2 2 2 2 2 2 2 2 2 2 2 2 2 2 2 2 2 2 2\n",
      "Target: 4 275 15 58 72 1226 2 0 0 0 0 0 0 0 0 0 0 0 0 0 0 0 0 0 0 0 0 0 0\n",
      "\n"
     ]
    },
    {
     "name": "stderr",
     "output_type": "stream",
     "text": [
      "100%|██████████████████████████████████████████████████████████████████████████████████| 41/41 [00:38<00:00,  1.08it/s]\n"
     ]
    },
    {
     "name": "stdout",
     "output_type": "stream",
     "text": [
      "Epoch [191/200], Average Loss: 3.3110, Average BLEU@1: 0.1346\n",
      "Epoch [191/200], Average Loss: 3.3110, Average BLEU@1: 0.1346, Teacher Forcing Ratio: 0.2250\n"
     ]
    },
    {
     "name": "stderr",
     "output_type": "stream",
     "text": [
      "  2%|██                                                                                 | 1/41 [00:00<00:38,  1.03it/s]"
     ]
    },
    {
     "name": "stdout",
     "output_type": "stream",
     "text": [
      "Epoch [192/200], Step [0/41], Loss: 3.7887, BLEU@1: 0.0690\n",
      "Sample prediction:\n",
      "Pred: 4 57 8 3 3 15 2 2 153 8 2 2 2 2 2 2 2 2 2 2 2 2 2 2 2 24 8 3 2\n",
      "Target: 92 315 8 1969 881 2 0 0 0 0 0 0 0 0 0 0 0 0 0 0 0 0 0 0 0 0 0 0 0\n",
      "\n"
     ]
    },
    {
     "name": "stderr",
     "output_type": "stream",
     "text": [
      "100%|██████████████████████████████████████████████████████████████████████████████████| 41/41 [00:37<00:00,  1.08it/s]\n"
     ]
    },
    {
     "name": "stdout",
     "output_type": "stream",
     "text": [
      "Epoch [192/200], Average Loss: 3.3082, Average BLEU@1: 0.1278\n",
      "Epoch [192/200], Average Loss: 3.3082, Average BLEU@1: 0.1278, Teacher Forcing Ratio: 0.2225\n"
     ]
    },
    {
     "name": "stderr",
     "output_type": "stream",
     "text": [
      "  2%|██                                                                                 | 1/41 [00:00<00:37,  1.08it/s]"
     ]
    },
    {
     "name": "stdout",
     "output_type": "stream",
     "text": [
      "Epoch [193/200], Step [0/41], Loss: 3.2795, BLEU@1: 0.1034\n",
      "Sample prediction:\n",
      "Pred: 4 57 15 8 8 2 2 2 2 2 2 2 2 2 2 2 2 2 2 2 2 2 2 2 2 2 2 2 2\n",
      "Target: 4 1927 3 15 88 3 2 0 0 0 0 0 0 0 0 0 0 0 0 0 0 0 0 0 0 0 0 0 0\n",
      "\n"
     ]
    },
    {
     "name": "stderr",
     "output_type": "stream",
     "text": [
      "100%|██████████████████████████████████████████████████████████████████████████████████| 41/41 [00:38<00:00,  1.07it/s]\n"
     ]
    },
    {
     "name": "stdout",
     "output_type": "stream",
     "text": [
      "Epoch [193/200], Average Loss: 3.3090, Average BLEU@1: 0.1287\n",
      "Epoch [193/200], Average Loss: 3.3090, Average BLEU@1: 0.1287, Teacher Forcing Ratio: 0.2200\n"
     ]
    },
    {
     "name": "stderr",
     "output_type": "stream",
     "text": [
      "  2%|██                                                                                 | 1/41 [00:00<00:37,  1.06it/s]"
     ]
    },
    {
     "name": "stdout",
     "output_type": "stream",
     "text": [
      "Epoch [194/200], Step [0/41], Loss: 3.3169, BLEU@1: 0.1379\n",
      "Sample prediction:\n",
      "Pred: 4 5 15 8 8 8 2 2 2 2 2 2 2 2 2 2 2 2 2 2 3 2 3 2 2 2 2 2 2\n",
      "Target: 4 14 15 1324 8 384 24 2833 2 0 0 0 0 0 0 0 0 0 0 0 0 0 0 0 0 0 0 0 0\n",
      "\n"
     ]
    },
    {
     "name": "stderr",
     "output_type": "stream",
     "text": [
      "100%|██████████████████████████████████████████████████████████████████████████████████| 41/41 [00:38<00:00,  1.07it/s]\n"
     ]
    },
    {
     "name": "stdout",
     "output_type": "stream",
     "text": [
      "Epoch [194/200], Average Loss: 3.3070, Average BLEU@1: 0.1413\n",
      "Epoch [194/200], Average Loss: 3.3070, Average BLEU@1: 0.1413, Teacher Forcing Ratio: 0.2175\n"
     ]
    },
    {
     "name": "stderr",
     "output_type": "stream",
     "text": [
      "  2%|██                                                                                 | 1/41 [00:00<00:38,  1.04it/s]"
     ]
    },
    {
     "name": "stdout",
     "output_type": "stream",
     "text": [
      "Epoch [195/200], Step [0/41], Loss: 3.0986, BLEU@1: 0.1379\n",
      "Sample prediction:\n",
      "Pred: 4 5 15 21 2 2 8 2 2 2 2 2 2 2 2 2 2 2 2 2 2 2 31 31 31 8 31 8 2\n",
      "Target: 55 37 698 21 134 31 8 61 2 0 0 0 0 0 0 0 0 0 0 0 0 0 0 0 0 0 0 0 0\n",
      "\n"
     ]
    },
    {
     "name": "stderr",
     "output_type": "stream",
     "text": [
      "100%|██████████████████████████████████████████████████████████████████████████████████| 41/41 [00:37<00:00,  1.08it/s]\n"
     ]
    },
    {
     "name": "stdout",
     "output_type": "stream",
     "text": [
      "Epoch [195/200], Average Loss: 3.2659, Average BLEU@1: 0.1405\n",
      "Epoch [195/200], Average Loss: 3.2659, Average BLEU@1: 0.1405, Teacher Forcing Ratio: 0.2150\n"
     ]
    },
    {
     "name": "stderr",
     "output_type": "stream",
     "text": [
      "  2%|██                                                                                 | 1/41 [00:00<00:39,  1.00it/s]"
     ]
    },
    {
     "name": "stdout",
     "output_type": "stream",
     "text": [
      "Epoch [196/200], Step [0/41], Loss: 3.0827, BLEU@1: 0.1379\n",
      "Sample prediction:\n",
      "Pred: 4 5 15 301 8 596 2 2 2 2 2 2 2 2 2 2 2 2 2 2 12 2 2 2 2 2 2 2 2\n",
      "Target: 4 14 15 301 21 639 2 0 0 0 0 0 0 0 0 0 0 0 0 0 0 0 0 0 0 0 0 0 0\n",
      "\n"
     ]
    },
    {
     "name": "stderr",
     "output_type": "stream",
     "text": [
      "100%|██████████████████████████████████████████████████████████████████████████████████| 41/41 [00:38<00:00,  1.07it/s]\n"
     ]
    },
    {
     "name": "stdout",
     "output_type": "stream",
     "text": [
      "Epoch [196/200], Average Loss: 3.2840, Average BLEU@1: 0.1472\n",
      "Epoch [196/200], Average Loss: 3.2840, Average BLEU@1: 0.1472, Teacher Forcing Ratio: 0.2125\n"
     ]
    },
    {
     "name": "stderr",
     "output_type": "stream",
     "text": [
      "  2%|██                                                                                 | 1/41 [00:00<00:38,  1.03it/s]"
     ]
    },
    {
     "name": "stdout",
     "output_type": "stream",
     "text": [
      "Epoch [197/200], Step [0/41], Loss: 3.1391, BLEU@1: 0.1034\n",
      "Sample prediction:\n",
      "Pred: 4 5 15 58 8 2 2 2 2 2 2 2 2 2 2 2 2 2 2 2 2 2 2 2 2 2 2 2 2\n",
      "Target: 4 5 85 75 707 2 0 0 0 0 0 0 0 0 0 0 0 0 0 0 0 0 0 0 0 0 0 0 0\n",
      "\n"
     ]
    },
    {
     "name": "stderr",
     "output_type": "stream",
     "text": [
      "100%|██████████████████████████████████████████████████████████████████████████████████| 41/41 [00:38<00:00,  1.07it/s]\n"
     ]
    },
    {
     "name": "stdout",
     "output_type": "stream",
     "text": [
      "Epoch [197/200], Average Loss: 3.2781, Average BLEU@1: 0.1623\n",
      "Epoch [197/200], Average Loss: 3.2781, Average BLEU@1: 0.1623, Teacher Forcing Ratio: 0.2100\n"
     ]
    },
    {
     "name": "stderr",
     "output_type": "stream",
     "text": [
      "  2%|██                                                                                 | 1/41 [00:00<00:38,  1.04it/s]"
     ]
    },
    {
     "name": "stdout",
     "output_type": "stream",
     "text": [
      "Epoch [198/200], Step [0/41], Loss: 3.1550, BLEU@1: 0.0690\n",
      "Sample prediction:\n",
      "Pred: 4 57 15 8 8 21 2 2 2 2 2 2 2 2 2 2 2 2 2 2 2 2 2 2 2 2 2 2 2\n",
      "Target: 55 185 3 175 21 378 2 0 0 0 0 0 0 0 0 0 0 0 0 0 0 0 0 0 0 0 0 0 0\n",
      "\n"
     ]
    },
    {
     "name": "stderr",
     "output_type": "stream",
     "text": [
      "100%|██████████████████████████████████████████████████████████████████████████████████| 41/41 [00:38<00:00,  1.07it/s]\n"
     ]
    },
    {
     "name": "stdout",
     "output_type": "stream",
     "text": [
      "Epoch [198/200], Average Loss: 3.2583, Average BLEU@1: 0.1337\n",
      "Epoch [198/200], Average Loss: 3.2583, Average BLEU@1: 0.1337, Teacher Forcing Ratio: 0.2075\n"
     ]
    },
    {
     "name": "stderr",
     "output_type": "stream",
     "text": [
      "  2%|██                                                                                 | 1/41 [00:00<00:38,  1.05it/s]"
     ]
    },
    {
     "name": "stdout",
     "output_type": "stream",
     "text": [
      "Epoch [199/200], Step [0/41], Loss: 3.4410, BLEU@1: 0.0690\n",
      "Sample prediction:\n",
      "Pred: 4 304 15 51 2 21 2 2 2 2 2 2 2 2 2 2 2 2 2 2 2 2 2 2 2 2 2 2 2\n",
      "Target: 83 100 15 509 2 0 0 0 0 0 0 0 0 0 0 0 0 0 0 0 0 0 0 0 0 0 0 0 0\n",
      "\n"
     ]
    },
    {
     "name": "stderr",
     "output_type": "stream",
     "text": [
      "100%|██████████████████████████████████████████████████████████████████████████████████| 41/41 [00:37<00:00,  1.08it/s]\n"
     ]
    },
    {
     "name": "stdout",
     "output_type": "stream",
     "text": [
      "Epoch [199/200], Average Loss: 3.3045, Average BLEU@1: 0.1447\n",
      "Epoch [199/200], Average Loss: 3.3045, Average BLEU@1: 0.1447, Teacher Forcing Ratio: 0.2050\n"
     ]
    },
    {
     "name": "stderr",
     "output_type": "stream",
     "text": [
      "  2%|██                                                                                 | 1/41 [00:00<00:38,  1.04it/s]"
     ]
    },
    {
     "name": "stdout",
     "output_type": "stream",
     "text": [
      "Epoch [200/200], Step [0/41], Loss: 3.3873, BLEU@1: 0.1379\n",
      "Sample prediction:\n",
      "Pred: 4 5 15 8 60 8 2 2 2 2 2 2 2 2 2 2 2 2 2 2 2 2 2 2 2 2 2 2 2\n",
      "Target: 4 5 454 2691 603 8 1060 1104 2 0 0 0 0 0 0 0 0 0 0 0 0 0 0 0 0 0 0 0 0\n",
      "\n"
     ]
    },
    {
     "name": "stderr",
     "output_type": "stream",
     "text": [
      "100%|██████████████████████████████████████████████████████████████████████████████████| 41/41 [00:38<00:00,  1.08it/s]\n"
     ]
    },
    {
     "name": "stdout",
     "output_type": "stream",
     "text": [
      "Epoch [200/200], Average Loss: 3.3546, Average BLEU@1: 0.1295\n",
      "Epoch [200/200], Average Loss: 3.3546, Average BLEU@1: 0.1295, Teacher Forcing Ratio: 0.2025\n",
      "Generated Caption: A woman is talking on a microphone. on a <UNK> <UNK> <UNK> <UNK> <UNK> <UNK> <UNK> <UNK> <UNK> <UNK> <UNK> <UNK> <UNK> <UNK> the <UNK> <UNK> <UNK> <UNK> <UNK>\n",
      "Model saved to saved_models/video_captioning_model.pth\n"
     ]
    },
    {
     "name": "stderr",
     "output_type": "stream",
     "text": [
      "100%|████████████████████████████████████████████████████████████████████████████████████| 3/3 [00:24<00:00,  8.21s/it]"
     ]
    },
    {
     "name": "stdout",
     "output_type": "stream",
     "text": [
      "Average BLEU Score on Test Data: 0.0000\n"
     ]
    },
    {
     "name": "stderr",
     "output_type": "stream",
     "text": [
      "\n"
     ]
    }
   ],
   "source": [
    "import os\n",
    "import json\n",
    "import numpy as np\n",
    "import torch\n",
    "import torch.nn as nn\n",
    "import torch.optim as optim\n",
    "from torch.utils.data import Dataset, DataLoader\n",
    "from tqdm import tqdm\n",
    "from nltk.translate.bleu_score import sentence_bleu, SmoothingFunction\n",
    "import random\n",
    "\n",
    "# Hyperparameters\n",
    "BATCH_SIZE = 36  \n",
    "EPOCHS = 200  \n",
    "LEARNING_RATE = 0.0001\n",
    "HIDDEN_SIZE = 1024\n",
    "NUM_LAYERS = 5\n",
    "MAX_SEQ_LENGTH = 30\n",
    "TEACHER_FORCING_RATIO_START = 0.7 \n",
    "TEACHER_FORCING_RATIO_END = 0.2\n",
    "BEAM_SIZE = 5  \n",
    "\n",
    "# Special tokens\n",
    "PAD_IDX = 0\n",
    "BOS_IDX = 1\n",
    "EOS_IDX = 2\n",
    "UNK_IDX = 3\n",
    "\n",
    "device = torch.device('cuda')\n",
    "\n",
    "class VideoCaptionDataset(Dataset):\n",
    "    def __init__(self, video_folder, captions_file, vocab):\n",
    "        self.video_folder = video_folder\n",
    "        self.captions_data = json.load(open(captions_file))\n",
    "        self.vocab = vocab\n",
    "\n",
    "    def __len__(self):\n",
    "        return len(self.captions_data)\n",
    "\n",
    "    def __getitem__(self, idx):\n",
    "        video_id = self.captions_data[idx]['id']\n",
    "        video_features = np.load(os.path.join(self.video_folder, f\"{video_id}.npy\"))\n",
    "        video_features = video_features.reshape(video_features.shape[0], -1)\n",
    "        caption = np.random.choice(self.captions_data[idx]['caption'])\n",
    "        caption_tensor = self.encode_caption(caption)\n",
    "        return torch.FloatTensor(video_features), caption_tensor\n",
    "\n",
    "    def encode_caption(self, caption):\n",
    "        tokens = caption.split()\n",
    "        encoded = [self.vocab.get(token, UNK_IDX) for token in tokens]\n",
    "        encoded = [BOS_IDX] + encoded + [EOS_IDX]\n",
    "        encoded = encoded[:MAX_SEQ_LENGTH]\n",
    "        while len(encoded) < MAX_SEQ_LENGTH:\n",
    "            encoded.append(PAD_IDX)\n",
    "        return torch.LongTensor(encoded)\n",
    "\n",
    "def create_vocab(captions_file, min_count=4):\n",
    "    word_count = {}\n",
    "    captions_data = json.load(open(captions_file))\n",
    "    \n",
    "    for item in captions_data:\n",
    "        for caption in item['caption']:\n",
    "            for word in caption.split():\n",
    "                word_count[word] = word_count.get(word, 0) + 1\n",
    "    \n",
    "    vocab = {\n",
    "        '<PAD>': PAD_IDX,\n",
    "        '<BOS>': BOS_IDX,\n",
    "        '<EOS>': EOS_IDX,\n",
    "        '<UNK>': UNK_IDX\n",
    "    }\n",
    "    idx = 4\n",
    "    for word, count in word_count.items():\n",
    "        if count > 3:\n",
    "            vocab[word] = idx\n",
    "            idx += 1\n",
    "    \n",
    "    return vocab\n",
    "\n",
    "class Attention(nn.Module):\n",
    "    def __init__(self, hidden_size):\n",
    "        super(Attention, self).__init__()\n",
    "        self.attn = nn.Linear(hidden_size * 2, hidden_size)\n",
    "        self.v = nn.Linear(hidden_size, 1, bias=False)\n",
    "\n",
    "    def forward(self, hidden, encoder_outputs):\n",
    "        seq_len = encoder_outputs.size(1)\n",
    "        h = hidden.repeat(seq_len, 1, 1).transpose(0, 1)\n",
    "        energy = torch.tanh(self.attn(torch.cat((h, encoder_outputs), dim=2)))\n",
    "        attention = self.v(energy).squeeze(2)\n",
    "        return torch.softmax(attention, dim=1)\n",
    "\n",
    "\n",
    "class S2VTWithAttention(nn.Module):\n",
    "    def __init__(self, vocab_size, feature_size, hidden_size, num_layers):\n",
    "        super(S2VTWithAttention, self).__init__()\n",
    "        self.encoder_lstm = nn.LSTM(input_size=feature_size, hidden_size=hidden_size, num_layers=num_layers, batch_first=True)\n",
    "        self.batch_norm = nn.BatchNorm1d(hidden_size)\n",
    "        self.embedding = nn.Embedding(num_embeddings=vocab_size, embedding_dim=hidden_size, padding_idx=PAD_IDX)\n",
    "        self.attention = Attention(hidden_size)\n",
    "        self.decoder_lstm = nn.LSTM(input_size=hidden_size * 2, hidden_size=hidden_size, num_layers=num_layers, batch_first=True)\n",
    "        self.fc = nn.Linear(hidden_size, vocab_size)\n",
    "\n",
    "    def forward(self, video_features, captions, teacher_forcing_ratio=0.5):\n",
    "        encoder_outputs, (hidden, cell) = self.encoder_lstm(video_features)\n",
    "        batch_size = captions.size(0)\n",
    "        max_length = captions.size(1) - 1 \n",
    "        vocab_size = self.fc.out_features\n",
    "\n",
    "        outputs = torch.zeros(batch_size, max_length, vocab_size).to(captions.device)\n",
    "        input = captions[:, 0]\n",
    "\n",
    "        for t in range(max_length):\n",
    "            embedded = self.embedding(input).unsqueeze(1)\n",
    "            attn_weights = self.attention(hidden[-1], encoder_outputs)\n",
    "            context = torch.bmm(attn_weights.unsqueeze(1), encoder_outputs)\n",
    "            lstm_input = torch.cat((embedded, context), dim=2)\n",
    "            output, (hidden, cell) = self.decoder_lstm(lstm_input, (hidden, cell))\n",
    "            output = self.fc(output.squeeze(1))\n",
    "            outputs[:, t] = output\n",
    "\n",
    "            teacher_force = random.random() < teacher_forcing_ratio\n",
    "            top1 = output.argmax(1)\n",
    "            input = captions[:, t+1] if teacher_force else top1\n",
    "\n",
    "        return outputs\n",
    "\n",
    "    def encode(self, video_features):\n",
    "        return self.encoder_lstm(video_features)\n",
    "\n",
    "    def decode_step(self, input, hidden, cell, encoder_outputs):\n",
    "        embedded = self.embedding(input).unsqueeze(1)\n",
    "        attn_weights = self.attention(hidden[-1], encoder_outputs)\n",
    "        context = torch.bmm(attn_weights.unsqueeze(1), encoder_outputs)\n",
    "        lstm_input = torch.cat((embedded, context), dim=2)\n",
    "        output, (hidden, cell) = self.decoder_lstm(lstm_input, (hidden, cell))\n",
    "        output = self.fc(output.squeeze(1))\n",
    "        return output, hidden, cell\n",
    "\n",
    "def calculate_bleu(candidate, reference):\n",
    "    smooth_fn = SmoothingFunction().method1\n",
    "    candidate_tokens = [str(idx) for idx in candidate]\n",
    "    reference_tokens = [[str(idx) for idx in reference]]\n",
    "    return sentence_bleu(reference_tokens, candidate_tokens, weights=(1,), smoothing_function=smooth_fn)\n",
    "\n",
    "\n",
    "\n",
    "def train_model(model, dataloader, criterion, optimizer, epochs):\n",
    "    model.train()\n",
    "    for epoch in range(epochs):\n",
    "        total_loss = 0\n",
    "        total_bleu = 0\n",
    "        teacher_forcing_ratio = TEACHER_FORCING_RATIO_START - (TEACHER_FORCING_RATIO_START - TEACHER_FORCING_RATIO_END) * (epoch / epochs)\n",
    "\n",
    "        for i, (video_features, captions) in enumerate(tqdm(dataloader)):\n",
    "            optimizer.zero_grad()\n",
    "\n",
    "            video_features = video_features.to(device)\n",
    "            captions = captions.to(device)\n",
    "\n",
    "            outputs = model(video_features, captions, teacher_forcing_ratio)\n",
    "\n",
    "            loss = criterion(outputs.view(-1, outputs.size(-1)), captions[:, 1:].contiguous().view(-1))\n",
    "            loss.backward()\n",
    "\n",
    "            nn.utils.clip_grad_norm_(model.parameters(), max_norm=1.0)\n",
    "\n",
    "            optimizer.step()\n",
    "            total_loss += loss.item()\n",
    "\n",
    "            pred = outputs[0].argmax(dim=1)\n",
    "            target = captions[0, 1:]\n",
    "            bleu_score = calculate_bleu(pred, target)\n",
    "            total_bleu += bleu_score\n",
    "\n",
    "            if i % 100 == 0:\n",
    "                print(f'Epoch [{epoch+1}/{epochs}], Step [{i}/{len(dataloader)}], Loss: {loss.item():.4f}, BLEU@1: {bleu_score:.4f}')\n",
    "                print(\"Sample prediction:\")\n",
    "                print(\"Pred:\", ' '.join([str(idx.item()) for idx in pred]))\n",
    "                print(\"Target:\", ' '.join([str(idx.item()) for idx in target]))\n",
    "                print()\n",
    "\n",
    "        avg_loss = total_loss / len(dataloader)\n",
    "        avg_bleu = total_bleu / len(dataloader)\n",
    "        print(f'Epoch [{epoch+1}/{epochs}], Average Loss: {avg_loss:.4f}, Average BLEU@1: {avg_bleu:.4f}')\n",
    "\n",
    "\n",
    "        scheduler.step()  \n",
    "        \n",
    "        avg_loss = total_loss / len(dataloader)\n",
    "        avg_bleu = total_bleu / len(dataloader)\n",
    "        print(f'Epoch [{epoch+1}/{epochs}], Average Loss: {avg_loss:.4f}, Average BLEU@1: {avg_bleu:.4f}, Teacher Forcing Ratio: {teacher_forcing_ratio:.4f}')\n",
    "\n",
    "        teacher_forcing_ratio = max(TEACHER_FORCING_RATIO_END, TEACHER_FORCING_RATIO_START * (1 - (epoch + 1) / epochs))\n",
    "\n",
    "\n",
    "def beam_search(model, video_features, vocab, beam_size=3, max_length=MAX_SEQ_LENGTH):\n",
    "    model.eval()\n",
    "    with torch.no_grad():\n",
    "        video_features = video_features.to(next(model.parameters()).device) \n",
    "        \n",
    "        encoder_outputs, (hidden, cell) = model.encode(video_features.unsqueeze(0))\n",
    "        \n",
    "        beam = [(torch.LongTensor([BOS_IDX]).to(video_features.device), 0, hidden, cell)]\n",
    "        \n",
    "        for _ in range(max_length):\n",
    "            candidates = []\n",
    "            \n",
    "            for seq, score, h, c in beam:\n",
    "                if seq[-1].item() == EOS_IDX:\n",
    "                    candidates.append((seq, score, h, c))\n",
    "                    continue\n",
    "                \n",
    "                input = seq[-1].unsqueeze(0).to(video_features.device) \n",
    "                output, new_h, new_c = model.decode_step(input, h, c, encoder_outputs)\n",
    "                \n",
    "                topk_probs, topk_idx = output.topk(beam_size)\n",
    "                \n",
    "                for prob, idx in zip(topk_probs[0], topk_idx[0]):\n",
    "                    idx = idx.unsqueeze(0).to(seq.device)  \n",
    "                    new_seq = torch.cat([seq, idx]) \n",
    "                    new_score = score - torch.log(prob).item()\n",
    "                    candidates.append((new_seq, new_score, new_h, new_c))\n",
    "            \n",
    "            beam = sorted(candidates, key=lambda x: x[1])[:beam_size]\n",
    "            \n",
    "            if all(seq[-1].item() == EOS_IDX for seq, _, _, _ in beam):\n",
    "                break\n",
    "    \n",
    "    # Return the sequence with the best score\n",
    "    best_seq = beam[0][0]\n",
    "    \n",
    "    reverse_vocab = {idx: word for word, idx in vocab.items()}\n",
    "    return ' '.join([reverse_vocab.get(idx.item(), '<UNK>') for idx in best_seq if idx.item() not in [BOS_IDX, EOS_IDX, PAD_IDX]])\n",
    "\n",
    "\n",
    "if __name__ == \"__main__\":\n",
    "    video_folder = 'MLDS_hw2_1_data/training_data/feat/'\n",
    "    captions_file = 'MLDS_hw2_1_data/training_label.json'\n",
    "    model_save_dir = 'saved_models/'  \n",
    "    os.makedirs(model_save_dir, exist_ok=True) \n",
    "\n",
    "    vocab = create_vocab(captions_file)\n",
    "    print(f\"Vocabulary size: {len(vocab)}\")\n",
    "\n",
    "    dataset = VideoCaptionDataset(video_folder, captions_file, vocab)\n",
    "    dataloader = DataLoader(dataset, batch_size=BATCH_SIZE, shuffle=True)\n",
    "\n",
    "    feature_size = next(iter(dataloader))[0].shape[-1]\n",
    "    print(f\"Feature size: {feature_size}\")\n",
    "\n",
    "    model = S2VTWithAttention(len(vocab), feature_size, HIDDEN_SIZE, NUM_LAYERS).to(device)\n",
    "    criterion = nn.CrossEntropyLoss(ignore_index=PAD_IDX)\n",
    "    optimizer = optim.Adam(model.parameters(), lr=LEARNING_RATE)\n",
    "\n",
    "    scheduler = torch.optim.lr_scheduler.StepLR(optimizer, step_size=50, gamma=0.5)\n",
    "\n",
    "    train_model(model, dataloader, criterion, optimizer, EPOCHS)\n",
    "\n",
    "    video_id = '_JVxurtGIhI_32_42.avi'\n",
    "    video_features = np.load(os.path.join(video_folder, f\"{video_id}.npy\"))\n",
    "    video_features = torch.FloatTensor(video_features.reshape(video_features.shape[0], -1))\n",
    "    generated_caption = beam_search(model, video_features, vocab, beam_size=BEAM_SIZE)\n",
    "    print(\"Generated Caption:\", generated_caption)\n",
    "\n",
    "    model_save_path = os.path.join(model_save_dir, 'video_captioning_model.pth')\n",
    "    torch.save(model.state_dict(), model_save_path)\n",
    "    print(f'Model saved to {model_save_path}')\n",
    "\n",
    "    # Testing the model\n",
    "    test_video_folder = 'MLDS_hw2_1_data/testing_data/feat/'\n",
    "    test_captions_file = 'MLDS_hw2_1_data/testing_label.json'\n",
    "    \n",
    "    test_dataset = VideoCaptionDataset(test_video_folder, test_captions_file, vocab)\n",
    "    test_dataloader = DataLoader(test_dataset, batch_size=BATCH_SIZE, shuffle=False)\n",
    "\n",
    "    # Evaluate the model on the test dataset\n",
    "    model.eval()\n",
    "    all_bleu_scores = []\n",
    "\n",
    "    with torch.no_grad():\n",
    "        for video_features, captions in tqdm(test_dataloader):\n",
    "            video_features = video_features.to(device)\n",
    "\n",
    "            for idx in range(video_features.size(0)):\n",
    "                generated_caption = beam_search(model, video_features[idx], vocab, beam_size=BEAM_SIZE)\n",
    "                reference_captions = [captions[idx][1:-1]]  # Get the reference caption without <BOS> and <EOS>\n",
    "\n",
    "                # Calculate BLEU score\n",
    "                bleu_score = calculate_bleu(generated_caption, reference_captions)\n",
    "                all_bleu_scores.append(bleu_score)\n",
    "\n",
    "    avg_bleu = sum(all_bleu_scores) / len(all_bleu_scores)\n",
    "    print(f'Average BLEU Score on Test Data: {avg_bleu:.4f}')"
   ]
  },
  {
   "cell_type": "code",
   "execution_count": null,
   "id": "6851b592-3faf-41fe-b4d8-85f1b9b3842d",
   "metadata": {},
   "outputs": [],
   "source": []
  }
 ],
 "metadata": {
  "kernelspec": {
   "display_name": "Python 3 (ipykernel)",
   "language": "python",
   "name": "python3"
  },
  "language_info": {
   "codemirror_mode": {
    "name": "ipython",
    "version": 3
   },
   "file_extension": ".py",
   "mimetype": "text/x-python",
   "name": "python",
   "nbconvert_exporter": "python",
   "pygments_lexer": "ipython3",
   "version": "3.12.6"
  }
 },
 "nbformat": 4,
 "nbformat_minor": 5
}
